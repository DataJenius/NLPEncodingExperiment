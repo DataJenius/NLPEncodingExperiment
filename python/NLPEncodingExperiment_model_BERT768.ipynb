{
  "nbformat": 4,
  "nbformat_minor": 0,
  "metadata": {
    "colab": {
      "name": "NLPEncodingExperiment_BERT768.ipynb",
      "provenance": [],
      "machine_shape": "hm",
      "include_colab_link": true
    },
    "kernelspec": {
      "name": "python3",
      "display_name": "Python 3"
    },
    "language_info": {
      "name": "python"
    }
  },
  "cells": [
    {
      "cell_type": "markdown",
      "metadata": {
        "id": "view-in-github",
        "colab_type": "text"
      },
      "source": [
        "<a href=\"https://colab.research.google.com/github/DataJenius/NLPEncodingExperiment/blob/main/python/NLPEncodingExperiment_BERT768.ipynb\" target=\"_parent\"><img src=\"https://colab.research.google.com/assets/colab-badge.svg\" alt=\"Open In Colab\"/></a>"
      ]
    },
    {
      "cell_type": "code",
      "source": [
        "#######################################################################################################\n",
        "# define our model using StepByStep framework by Daniel Voigt Godoy\n",
        "# https://pytorchstepbystep.com/\n",
        "try:\n",
        "    import google.colab\n",
        "    import requests\n",
        "    url = 'https://raw.githubusercontent.com/dvgodoy/PyTorchStepByStep/master/config.py'\n",
        "    r = requests.get(url, allow_redirects=True)\n",
        "    open('config.py', 'wb').write(r.content)    \n",
        "except ModuleNotFoundError:\n",
        "    pass\n",
        "\n",
        "from config import *\n",
        "config_chapter11()"
      ],
      "metadata": {
        "colab": {
          "base_uri": "https://localhost:8080/"
        },
        "id": "EjcdrThgk6qX",
        "outputId": "61922217-8e97-47de-cd52-17f73c659346"
      },
      "execution_count": 1,
      "outputs": [
        {
          "output_type": "stream",
          "name": "stdout",
          "text": [
            "Downloading files from GitHub repo to Colab...\n",
            "Finished!\n"
          ]
        }
      ]
    },
    {
      "cell_type": "code",
      "source": [
        "###########################################\n",
        "# load all dependencies\n",
        "import pandas as pd\n",
        "import numpy as np\n",
        "\n",
        "import torch\n",
        "import torch.optim as optim\n",
        "import torch.nn as nn\n",
        "import torch.functional as F\n",
        "from torch.utils.data import DataLoader, TensorDataset\n",
        "\n",
        "from stepbystep.v4 import StepByStep\n",
        "\n",
        "from google.colab import files"
      ],
      "metadata": {
        "id": "ycfO9KuqXsLv"
      },
      "execution_count": 2,
      "outputs": []
    },
    {
      "cell_type": "code",
      "source": [
        "######################################################################################\n",
        "# our one-hot encoded data is on github\n",
        "\n",
        "\"\"\"\n",
        "# not fine-tuned -- 85.25% acc w/ lr=0.00001 for 100 epochs\n",
        "#                -- 90.20% acc w/ lr=0.00001 for 1000 epochs\n",
        "#                -- **90.85% acc w/ lr=0.0003 for 100 epochs\n",
        "#                -- 90.35% acc w/ lr=0.0003 for 1000 epochs\n",
        "all_files = ['https://raw.githubusercontent.com/DataJenius/NLPEncodingExperiment/main/data/input/bert768/bert_encoded768_group1A.csv',\n",
        "             'https://raw.githubusercontent.com/DataJenius/NLPEncodingExperiment/main/data/input/bert768/bert_encoded768_group1B.csv',\n",
        "             'https://raw.githubusercontent.com/DataJenius/NLPEncodingExperiment/main/data/input/bert768/bert_encoded768_group2A.csv',\n",
        "             'https://raw.githubusercontent.com/DataJenius/NLPEncodingExperiment/main/data/input/bert768/bert_encoded768_group2B.csv',\n",
        "             'https://raw.githubusercontent.com/DataJenius/NLPEncodingExperiment/main/data/input/bert768/bert_encoded768_group3A.csv',\n",
        "             'https://raw.githubusercontent.com/DataJenius/NLPEncodingExperiment/main/data/input/bert768/bert_encoded768_group3B.csv',\n",
        "             'https://raw.githubusercontent.com/DataJenius/NLPEncodingExperiment/main/data/input/bert768/bert_encoded768_group4A.csv',\n",
        "             'https://raw.githubusercontent.com/DataJenius/NLPEncodingExperiment/main/data/input/bert768/bert_encoded768_group4B.csv',\n",
        "             'https://raw.githubusercontent.com/DataJenius/NLPEncodingExperiment/main/data/input/bert768/bert_encoded768_group5A.csv',\n",
        "             'https://raw.githubusercontent.com/DataJenius/NLPEncodingExperiment/main/data/input/bert768/bert_encoded768_group5B.csv']\n",
        "\"\"\"\n",
        "\n",
        "\n",
        "\n",
        "# fine-tuned for 1 epoch -- **96.40% acc w/ lr=0.00001 for 100 epochs\n",
        "#                        -- 96.40% acc w/ lr=0.00001 for 1000 epochs\n",
        "#                        -- 96.00% acc w/ lr=0.0003 for 100 epochs\n",
        "#                        -- 96.05% acc w/ lr=0.0003 for 1000 epochs\n",
        "\n",
        "all_files = ['https://raw.githubusercontent.com/DataJenius/NLPEncodingExperiment/main/data/input/bert_ft768/bert_ft_encoded768_group1A.csv',\n",
        "             'https://raw.githubusercontent.com/DataJenius/NLPEncodingExperiment/main/data/input/bert_ft768/bert_ft_encoded768_group1B.csv',\n",
        "             'https://raw.githubusercontent.com/DataJenius/NLPEncodingExperiment/main/data/input/bert_ft768/bert_ft_encoded768_group2A.csv',\n",
        "             'https://raw.githubusercontent.com/DataJenius/NLPEncodingExperiment/main/data/input/bert_ft768/bert_ft_encoded768_group2B.csv',\n",
        "             'https://raw.githubusercontent.com/DataJenius/NLPEncodingExperiment/main/data/input/bert_ft768/bert_ft_encoded768_group3A.csv',\n",
        "             'https://raw.githubusercontent.com/DataJenius/NLPEncodingExperiment/main/data/input/bert_ft768/bert_ft_encoded768_group3B.csv',\n",
        "             'https://raw.githubusercontent.com/DataJenius/NLPEncodingExperiment/main/data/input/bert_ft768/bert_ft_encoded768_group4A.csv',\n",
        "             'https://raw.githubusercontent.com/DataJenius/NLPEncodingExperiment/main/data/input/bert_ft768/bert_ft_encoded768_group4B.csv',\n",
        "             'https://raw.githubusercontent.com/DataJenius/NLPEncodingExperiment/main/data/input/bert_ft768/bert_ft_encoded768_group5A.csv',\n",
        "             'https://raw.githubusercontent.com/DataJenius/NLPEncodingExperiment/main/data/input/bert_ft768/bert_ft_encoded768_group5B.csv']\n",
        "\n",
        "\n",
        "# concat into a single dataframe and shuffle the contents\n",
        "df_from_each_file = (pd.read_csv(f) for f in all_files)\n",
        "df_all_data   = pd.concat(df_from_each_file, ignore_index=True)\n",
        "df_all_data = df_all_data.sample(frac=1).reset_index(drop=True)\n",
        "\n",
        "# make sure we loaded what we think we did\n",
        "print(df_all_data.head())\n",
        "print(df_all_data.shape)"
      ],
      "metadata": {
        "colab": {
          "base_uri": "https://localhost:8080/"
        },
        "id": "5Mz2-FHvWZQV",
        "outputId": "358f33b4-ac01-4020-f973-4cc17b92e4fe"
      },
      "execution_count": 33,
      "outputs": [
        {
          "output_type": "stream",
          "name": "stdout",
          "text": [
            "   msg_id  token_count  my_group   my_role  label      dim1      dim2  \\\n",
            "0   37960           17         4  validate      1 -0.098574 -0.392060   \n",
            "1   32366           61         3     train      1 -0.089801 -0.091673   \n",
            "2    5587           22         1     train      0  0.080499 -0.043821   \n",
            "3   42268           25         3     train      1 -0.168425 -0.316877   \n",
            "4   44308           31         3     train      1 -0.070447 -0.180785   \n",
            "\n",
            "       dim3      dim4      dim5  ...    dim759    dim760    dim761    dim762  \\\n",
            "0  0.510083  0.279577  0.752487  ...  1.063489 -0.872426  0.481196 -0.146404   \n",
            "1  0.743010  0.237092  0.717728  ...  0.993815 -0.792668  0.671277 -0.258667   \n",
            "2 -0.344836  0.140828 -0.588661  ... -1.008441  0.775555 -0.714815  0.018770   \n",
            "3 -0.030848  0.782950  0.198944  ...  0.992988 -0.576471  0.474742  0.201618   \n",
            "4  0.640625  0.237735  0.714769  ...  0.991045 -0.835311  0.698974 -0.296766   \n",
            "\n",
            "     dim763    dim764    dim765    dim766    dim767    dim768  \n",
            "0  0.801166  0.477644  0.257228 -0.201335 -1.357003  0.446583  \n",
            "1  0.842641  0.626322  0.268764 -0.471251 -1.753184  0.700148  \n",
            "2 -0.934895 -0.227144 -0.191833  0.212834  1.275535 -0.884752  \n",
            "3  0.039050 -0.057895 -0.021766  0.026282 -0.548173  0.264104  \n",
            "4  0.927098  0.623335  0.191462 -0.499796 -1.733294  0.679109  \n",
            "\n",
            "[5 rows x 773 columns]\n",
            "(10000, 773)\n"
          ]
        }
      ]
    },
    {
      "cell_type": "code",
      "source": [
        "######################################################################################\n",
        "# our data is already split into 5 groups, encoded and fully labelled\n",
        "\n",
        "# setup this experiment\n",
        "#test_input_method = 'bert (768)'\n",
        "test_input_method = 'bert ft1 (768)'\n",
        "print(test_input_method+\" loading data...\")\n",
        "\n",
        "# split into val/test/train based on validation group \n",
        "df_train = df_all_data.loc[df_all_data['my_group'].isin([1,2,3])]\n",
        "df_val = df_all_data.loc[df_all_data['my_group'] == 4]\n",
        "df_test = df_all_data.loc[df_all_data['my_group'] == 5]\n",
        "\n",
        "print(\"\\n\\ntrain - groups \",df_train['my_group'].unique())\n",
        "print(df_train.head())\n",
        "print(\"\\n\\nval - group \",df_val['my_group'].unique())\n",
        "print(df_val.head())\n",
        "print(\"\\n\\ntest - group \",df_test['my_group'].unique())\n",
        "print(df_test.head())\n",
        "\n",
        "# extract our labels into tensors \n",
        "train_labels_tensor = torch.as_tensor(df_train['label'].to_numpy().reshape(-1, 1)).float()\n",
        "val_labels_tensor = torch.as_tensor(df_val['label'].to_numpy().reshape(-1, 1)).float()\n",
        "test_labels_tensor = torch.as_tensor(df_test['label'].to_numpy().reshape(-1, 1)).float()\n",
        "print(\"\\n\\nLabel Tensors:\")\n",
        "print(\"train - \",train_labels_tensor.shape)\n",
        "print(\"val - \",val_labels_tensor.shape)\n",
        "print(\"test - \",test_labels_tensor.shape)\n",
        "\n",
        "\n",
        "# extract our features into tensors \n",
        "df_train_features = df_train.loc[:, ~df_train.columns.isin(['msg_id','token_count','my_group','my_role','label'])]\n",
        "train_features_tensor = torch.as_tensor(df_train_features.to_numpy()).float()\n",
        "df_val_features = df_val.loc[:, ~df_val.columns.isin(['msg_id','token_count','my_group','my_role','label'])]\n",
        "val_features_tensor = torch.as_tensor(df_val_features.to_numpy()).float()\n",
        "df_test_features = df_test.loc[:, ~df_test.columns.isin(['msg_id','token_count','my_group','my_role','label'])]\n",
        "test_features_tensor = torch.as_tensor(df_test_features.to_numpy()).float()\n",
        "print(\"\\n\\nFeature Tensors:\")\n",
        "print(\"train - \",train_features_tensor.shape)\n",
        "print(\"val - \",val_features_tensor.shape)\n",
        "print(\"test - \",test_features_tensor.shape)\n"
      ],
      "metadata": {
        "colab": {
          "base_uri": "https://localhost:8080/"
        },
        "id": "RjoyDMOgYNCv",
        "outputId": "d7a6668b-2c70-41c2-a8cc-bd07b52683af"
      },
      "execution_count": 34,
      "outputs": [
        {
          "output_type": "stream",
          "name": "stdout",
          "text": [
            "bert ft1 (768) loading data...\n",
            "\n",
            "\n",
            "train - groups  [3 1 2]\n",
            "   msg_id  token_count  my_group my_role  label      dim1      dim2      dim3  \\\n",
            "1   32366           61         3   train      1 -0.089801 -0.091673  0.743010   \n",
            "2    5587           22         1   train      0  0.080499 -0.043821 -0.344836   \n",
            "3   42268           25         3   train      1 -0.168425 -0.316877 -0.030848   \n",
            "4   44308           31         3   train      1 -0.070447 -0.180785  0.640625   \n",
            "6   28431           50         1   train      1 -0.085746 -0.140626  0.707388   \n",
            "\n",
            "       dim4      dim5  ...    dim759    dim760    dim761    dim762    dim763  \\\n",
            "1  0.237092  0.717728  ...  0.993815 -0.792668  0.671277 -0.258667  0.842641   \n",
            "2  0.140828 -0.588661  ... -1.008441  0.775555 -0.714815  0.018770 -0.934895   \n",
            "3  0.782950  0.198944  ...  0.992988 -0.576471  0.474742  0.201618  0.039050   \n",
            "4  0.237735  0.714769  ...  0.991045 -0.835311  0.698974 -0.296766  0.927098   \n",
            "6  0.220820  0.684136  ...  0.941817 -0.788505  0.688528 -0.326025  0.890767   \n",
            "\n",
            "     dim764    dim765    dim766    dim767    dim768  \n",
            "1  0.626322  0.268764 -0.471251 -1.753184  0.700148  \n",
            "2 -0.227144 -0.191833  0.212834  1.275535 -0.884752  \n",
            "3 -0.057895 -0.021766  0.026282 -0.548173  0.264104  \n",
            "4  0.623335  0.191462 -0.499796 -1.733294  0.679109  \n",
            "6  0.652556  0.244930 -0.494735 -1.744255  0.727531  \n",
            "\n",
            "[5 rows x 773 columns]\n",
            "\n",
            "\n",
            "val - group  [4]\n",
            "    msg_id  token_count  my_group   my_role  label      dim1      dim2  \\\n",
            "0    37960           17         4  validate      1 -0.098574 -0.392060   \n",
            "5     7370           14         4  validate      0 -0.105791 -0.058127   \n",
            "8     9345           37         4  validate      0 -0.003663 -0.068601   \n",
            "11    8973           14         4  validate      0 -0.101875 -0.009145   \n",
            "15   42326           17         4  validate      1 -0.189389 -0.251518   \n",
            "\n",
            "        dim3      dim4      dim5  ...    dim759    dim760    dim761    dim762  \\\n",
            "0   0.510083  0.279577  0.752487  ...  1.063489 -0.872426  0.481196 -0.146404   \n",
            "5  -0.241498  0.205640 -0.541089  ... -0.956717  0.755814 -0.796517 -0.034266   \n",
            "8  -0.336453  0.160564 -0.569784  ... -1.015172  0.776623 -0.728639 -0.006139   \n",
            "11 -0.170845  0.206642 -0.606574  ... -1.001110  0.753607 -0.917008 -0.040292   \n",
            "15  0.673445  0.216341  0.706655  ...  1.008070 -0.859506  0.607663 -0.208027   \n",
            "\n",
            "      dim763    dim764    dim765    dim766    dim767    dim768  \n",
            "0   0.801166  0.477644  0.257228 -0.201335 -1.357003  0.446583  \n",
            "5  -0.905054 -0.232254 -0.165210  0.082589  1.262280 -1.016111  \n",
            "8  -0.958401 -0.251756 -0.168872  0.171010  1.296607 -0.927915  \n",
            "11 -0.939716 -0.268609 -0.127781  0.101266  1.303413 -0.807102  \n",
            "15  0.873568  0.598028  0.296240 -0.432620 -1.677536  0.650673  \n",
            "\n",
            "[5 rows x 773 columns]\n",
            "\n",
            "\n",
            "test - group  [5]\n",
            "    msg_id  token_count  my_group my_role  label      dim1      dim2  \\\n",
            "17   27194           36         5    test      1 -0.139793 -0.355675   \n",
            "19    3940           23         5    test      0 -0.253038 -0.035085   \n",
            "20    6662           15         5    test      0  0.003232 -0.058880   \n",
            "23    9675           35         5    test      0  0.052833 -0.074945   \n",
            "25   14354           22         5    test      0  0.048615 -0.052632   \n",
            "\n",
            "        dim3      dim4      dim5  ...    dim759    dim760    dim761    dim762  \\\n",
            "17  0.536149  0.296872  0.736132  ...  1.063232 -0.873966  0.531243 -0.034398   \n",
            "19 -0.050109  0.194308 -0.491283  ... -0.825080  0.830264 -0.902597 -0.129846   \n",
            "20 -0.322337  0.200544 -0.564865  ... -0.985864  0.765901 -0.725654 -0.004960   \n",
            "23 -0.362903  0.145066 -0.567420  ... -1.022710  0.752668 -0.711683  0.023157   \n",
            "25 -0.327041  0.155625 -0.608713  ... -1.014110  0.783229 -0.746470  0.007471   \n",
            "\n",
            "      dim763    dim764    dim765    dim766    dim767    dim768  \n",
            "17  0.803347  0.498677  0.249368 -0.283531 -1.311792  0.429542  \n",
            "19 -0.653583 -0.239020 -0.185991 -0.103275  1.150852 -1.025421  \n",
            "20 -0.910314 -0.201984 -0.168973  0.163272  1.270619 -0.940872  \n",
            "23 -0.944101 -0.234483 -0.185148  0.191769  1.295356 -0.888235  \n",
            "25 -0.932100 -0.236295 -0.193351  0.193623  1.275628 -0.867811  \n",
            "\n",
            "[5 rows x 773 columns]\n",
            "\n",
            "\n",
            "Label Tensors:\n",
            "train -  torch.Size([6000, 1])\n",
            "val -  torch.Size([2000, 1])\n",
            "test -  torch.Size([2000, 1])\n",
            "\n",
            "\n",
            "Feature Tensors:\n",
            "train -  torch.Size([6000, 768])\n",
            "val -  torch.Size([2000, 768])\n",
            "test -  torch.Size([2000, 768])\n"
          ]
        }
      ]
    },
    {
      "cell_type": "code",
      "source": [
        "######################################################################################\n",
        "# build a TensorDataset containing ALL data points for train/val\n",
        "train_dataset = TensorDataset(train_features_tensor, train_labels_tensor)\n",
        "val_dataset = TensorDataset(val_features_tensor, val_labels_tensor)\n",
        "\n",
        "# build a loader of each set\n",
        "train_loader = DataLoader(dataset=train_dataset, batch_size=32, shuffle=True)\n",
        "val_loader = DataLoader(dataset=val_dataset, batch_size=32)\n",
        "print(train_loader)\n",
        "print(val_loader)"
      ],
      "metadata": {
        "colab": {
          "base_uri": "https://localhost:8080/"
        },
        "id": "XsuxLdyKgV66",
        "outputId": "4b7cf778-f7aa-42fa-9c32-598170c6dead"
      },
      "execution_count": 35,
      "outputs": [
        {
          "output_type": "stream",
          "name": "stdout",
          "text": [
            "<torch.utils.data.dataloader.DataLoader object at 0x7fbdcaa5d350>\n",
            "<torch.utils.data.dataloader.DataLoader object at 0x7fbdcaa5d510>\n"
          ]
        }
      ]
    },
    {
      "cell_type": "code",
      "source": [
        "###############################################################################################\n",
        "# use same model structure\n",
        "torch.manual_seed(43)\n",
        "\n",
        "# define our model using StepByStep framework by Daniel Voigt Godoy\n",
        "# https://pytorchstepbystep.com/ \n",
        "model = nn.Sequential(\n",
        "    nn.Linear(768, 1) \n",
        ")\n",
        "loss_fn = nn.BCEWithLogitsLoss()\n",
        "optimizer = optim.Adam(model.parameters(), lr=0.00001)\n",
        "#optimizer = optim.Adam(model.parameters(), lr=0.0003)\n",
        "#optimizer = optim.Adam(model.parameters(), lr=0.01)\n",
        "\n",
        "\n",
        "# get details about the model\n",
        "def count_all_parameters(model):\n",
        "    return sum(p.numel() for p in model.parameters())\n",
        "def count_trainable_parameters(model):\n",
        "    return sum(p.numel() for p in model.parameters() if p.requires_grad)\n",
        "num_params = count_all_parameters(model)\n",
        "num_params_train = count_trainable_parameters(model)\n",
        "print(model)\n",
        "print(num_params, \"total params\")\n",
        "print(num_params_train, \"trainable params\")"
      ],
      "metadata": {
        "colab": {
          "base_uri": "https://localhost:8080/"
        },
        "id": "gGIKRFVni176",
        "outputId": "908ca646-42d7-4951-e2dd-80c25895929a"
      },
      "execution_count": 41,
      "outputs": [
        {
          "output_type": "stream",
          "name": "stdout",
          "text": [
            "Sequential(\n",
            "  (0): Linear(in_features=768, out_features=1, bias=True)\n",
            ")\n",
            "769 total params\n",
            "769 trainable params\n"
          ]
        }
      ]
    },
    {
      "cell_type": "code",
      "source": [
        "###############################################################################################\n",
        "# train the model - only takes about 10s for 20 epochs, 1m for 100 epochs\n",
        "sbs_oh = StepByStep(model, loss_fn, optimizer)\n",
        "sbs_oh.set_loaders(train_loader, val_loader)\n",
        "sbs_oh.train(1000)\n",
        "\n",
        "# plot loss over epochs\n",
        "fig = sbs_oh.plot_losses()"
      ],
      "metadata": {
        "colab": {
          "base_uri": "https://localhost:8080/",
          "height": 289
        },
        "id": "7etubDytXVgq",
        "outputId": "81a1d39c-0ca5-44e4-a48d-add4c7d49ace"
      },
      "execution_count": 42,
      "outputs": [
        {
          "output_type": "display_data",
          "data": {
            "image/png": "[encoded data removed]",
            "text/plain": [
              "<Figure size 720x288 with 1 Axes>"
            ]
          },
          "metadata": {}
        }
      ]
    },
    {
      "cell_type": "code",
      "source": [
        "##############################################################\n",
        "# how well does this model do with data it has never seen?\n",
        "sbs_oh.model.eval()\n",
        "out = sbs_oh.model(test_features_tensor)\n",
        "\n",
        "# record detailed predictions for this model\n",
        "df_experiment_results = pd.DataFrame({'method': test_input_method,\n",
        "                                      'params': num_params,\n",
        "                                      'params_train': num_params_train, \n",
        "                                      'msg_id': df_test['msg_id'],\n",
        "                                      'label': df_test['label'],\n",
        "                                      'p_sigmoid': torch.sigmoid(out).squeeze().tolist()}) \n",
        "df_experiment_results['pred'] = np.where(df_experiment_results['p_sigmoid']>0.5, 1, 0)\n",
        "df_experiment_results['correct'] = np.where(df_experiment_results['pred']==df_experiment_results['label'], 1, 0)\n",
        "df_experiment_results['tp'] = np.where((df_experiment_results['pred']==1) & (df_experiment_results['label']==1), 1, 0)\n",
        "df_experiment_results['fp'] = np.where((df_experiment_results['pred']==1) & (df_experiment_results['label']==0), 1, 0)\n",
        "df_experiment_results['tn'] = np.where((df_experiment_results['pred']==0) & (df_experiment_results['label']==0), 1, 0)\n",
        "df_experiment_results['fn'] = np.where((df_experiment_results['pred']==0) & (df_experiment_results['label']==1), 1, 0)\n",
        "\n",
        "# calculate metrics\n",
        "tp = df_experiment_results[\"tp\"].sum()\n",
        "fp = df_experiment_results[\"fp\"].sum()\n",
        "tn = df_experiment_results[\"tn\"].sum()\n",
        "fn = df_experiment_results[\"fn\"].sum()\n",
        "prec = tp/(tp+fp)\n",
        "recall = tp/(tp+fn)\n",
        "\n",
        "# show our metrics\n",
        "print(\"ACC: \",df_experiment_results[\"correct\"].mean())\n",
        "print(\"Precision: \",prec)\n",
        "print(\"Recall: \", recall)\n",
        "\n",
        "# save results to local CSV\n",
        "file_name = 'results_'+test_input_method+'.csv'\n",
        "df_experiment_results.to_csv(file_name, index=False) \n",
        "files.download(file_name)\n",
        "print(\"\\n\\n\",df_experiment_results.head(10))"
      ],
      "metadata": {
        "id": "dhpYKa2cZOc8",
        "colab": {
          "base_uri": "https://localhost:8080/",
          "height": 517
        },
        "outputId": "82524802-0bc6-4498-bbc8-fd5c096a3d59"
      },
      "execution_count": 43,
      "outputs": [
        {
          "output_type": "stream",
          "name": "stdout",
          "text": [
            "ACC:  0.964\n",
            "Precision:  0.9649298597194389\n",
            "Recall:  0.963\n"
          ]
        },
        {
          "output_type": "display_data",
          "data": {
            "application/javascript": [
              "\n",
              "    async function download(id, filename, size) {\n",
              "      if (!google.colab.kernel.accessAllowed) {\n",
              "        return;\n",
              "      }\n",
              "      const div = document.createElement('div');\n",
              "      const label = document.createElement('label');\n",
              "      label.textContent = `Downloading \"${filename}\": `;\n",
              "      div.appendChild(label);\n",
              "      const progress = document.createElement('progress');\n",
              "      progress.max = size;\n",
              "      div.appendChild(progress);\n",
              "      document.body.appendChild(div);\n",
              "\n",
              "      const buffers = [];\n",
              "      let downloaded = 0;\n",
              "\n",
              "      const channel = await google.colab.kernel.comms.open(id);\n",
              "      // Send a message to notify the kernel that we're ready.\n",
              "      channel.send({})\n",
              "\n",
              "      for await (const message of channel.messages) {\n",
              "        // Send a message to notify the kernel that we're ready.\n",
              "        channel.send({})\n",
              "        if (message.buffers) {\n",
              "          for (const buffer of message.buffers) {\n",
              "            buffers.push(buffer);\n",
              "            downloaded += buffer.byteLength;\n",
              "            progress.value = downloaded;\n",
              "          }\n",
              "        }\n",
              "      }\n",
              "      const blob = new Blob(buffers, {type: 'application/binary'});\n",
              "      const a = document.createElement('a');\n",
              "      a.href = window.URL.createObjectURL(blob);\n",
              "      a.download = filename;\n",
              "      div.appendChild(a);\n",
              "      a.click();\n",
              "      div.remove();\n",
              "    }\n",
              "  "
            ],
            "text/plain": [
              "<IPython.core.display.Javascript object>"
            ]
          },
          "metadata": {}
        },
        {
          "output_type": "display_data",
          "data": {
            "application/javascript": [
              "download(\"download_665e0c4e-09c9-4cbe-aa12-d64856cec0ff\", \"results_bert ft1 (768).csv\", 125767)"
            ],
            "text/plain": [
              "<IPython.core.display.Javascript object>"
            ]
          },
          "metadata": {}
        },
        {
          "output_type": "stream",
          "name": "stdout",
          "text": [
            "\n",
            "\n",
            "             method  params  params_train  msg_id  label  p_sigmoid  pred  \\\n",
            "17  bert ft1 (768)     769           769   27194      1   0.999307     1   \n",
            "19  bert ft1 (768)     769           769    3940      0   0.018964     0   \n",
            "20  bert ft1 (768)     769           769    6662      0   0.002154     0   \n",
            "23  bert ft1 (768)     769           769    9675      0   0.001272     0   \n",
            "25  bert ft1 (768)     769           769   14354      0   0.001386     0   \n",
            "27  bert ft1 (768)     769           769   28343      1   0.999778     1   \n",
            "29  bert ft1 (768)     769           769   15537      0   0.540558     1   \n",
            "34  bert ft1 (768)     769           769   18177      0   0.007633     0   \n",
            "42  bert ft1 (768)     769           769   17476      0   0.001833     0   \n",
            "44  bert ft1 (768)     769           769   47203      1   0.999525     1   \n",
            "\n",
            "    correct  tp  fp  tn  fn  \n",
            "17        1   1   0   0   0  \n",
            "19        1   0   0   1   0  \n",
            "20        1   0   0   1   0  \n",
            "23        1   0   0   1   0  \n",
            "25        1   0   0   1   0  \n",
            "27        1   1   0   0   0  \n",
            "29        0   0   1   0   0  \n",
            "34        1   0   0   1   0  \n",
            "42        1   0   0   1   0  \n",
            "44        1   1   0   0   0  \n"
          ]
        }
      ]
    }
  ]
}