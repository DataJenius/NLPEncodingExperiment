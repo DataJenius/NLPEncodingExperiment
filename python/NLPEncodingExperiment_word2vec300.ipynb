{
  "nbformat": 4,
  "nbformat_minor": 0,
  "metadata": {
    "colab": {
      "name": "NLPEncodingExperiment_word2vec300.ipynb",
      "provenance": [],
      "machine_shape": "hm",
      "include_colab_link": true
    },
    "kernelspec": {
      "name": "python3",
      "display_name": "Python 3"
    },
    "language_info": {
      "name": "python"
    }
  },
  "cells": [
    {
      "cell_type": "markdown",
      "metadata": {
        "id": "view-in-github",
        "colab_type": "text"
      },
      "source": [
        "<a href=\"https://colab.research.google.com/github/DataJenius/NLPEncodingExperiment/blob/main/python/NLPEncodingExperiment_word2vec300.ipynb\" target=\"_parent\"><img src=\"https://colab.research.google.com/assets/colab-badge.svg\" alt=\"Open In Colab\"/></a>"
      ]
    },
    {
      "cell_type": "code",
      "source": [
        "#######################################################################################################\n",
        "# define our model using StepByStep framework by Daniel Voigt Godoy\n",
        "# https://pytorchstepbystep.com/\n",
        "try:\n",
        "    import google.colab\n",
        "    import requests\n",
        "    url = 'https://raw.githubusercontent.com/dvgodoy/PyTorchStepByStep/master/config.py'\n",
        "    r = requests.get(url, allow_redirects=True)\n",
        "    open('config.py', 'wb').write(r.content)    \n",
        "except ModuleNotFoundError:\n",
        "    pass\n",
        "\n",
        "from config import *\n",
        "config_chapter11()"
      ],
      "metadata": {
        "colab": {
          "base_uri": "https://localhost:8080/"
        },
        "id": "EjcdrThgk6qX",
        "outputId": "92ae3fe2-8ad3-4127-dc8b-cce668e76b02"
      },
      "execution_count": 1,
      "outputs": [
        {
          "output_type": "stream",
          "name": "stdout",
          "text": [
            "Downloading files from GitHub repo to Colab...\n",
            "Finished!\n"
          ]
        }
      ]
    },
    {
      "cell_type": "code",
      "source": [
        "###########################################\n",
        "# load all dependencies\n",
        "import pandas as pd\n",
        "import numpy as np\n",
        "\n",
        "import torch\n",
        "import torch.optim as optim\n",
        "import torch.nn as nn\n",
        "import torch.functional as F\n",
        "from torch.utils.data import DataLoader, TensorDataset\n",
        "\n",
        "from stepbystep.v4 import StepByStep\n",
        "\n",
        "from google.colab import files"
      ],
      "metadata": {
        "id": "ycfO9KuqXsLv"
      },
      "execution_count": 2,
      "outputs": []
    },
    {
      "cell_type": "code",
      "source": [
        "######################################################################################\n",
        "# our one-hot encoded data is on github\n",
        "all_files = ['https://raw.githubusercontent.com/DataJenius/NLPEncodingExperiment/main/data/input/word2vec300/word2vec_encoded300_group1.csv',\n",
        "             'https://raw.githubusercontent.com/DataJenius/NLPEncodingExperiment/main/data/input/word2vec300/word2vec_encoded300_group2.csv',\n",
        "             'https://raw.githubusercontent.com/DataJenius/NLPEncodingExperiment/main/data/input/word2vec300/word2vec_encoded300_group3.csv',\n",
        "             'https://raw.githubusercontent.com/DataJenius/NLPEncodingExperiment/main/data/input/word2vec300/word2vec_encoded300_group4.csv',\n",
        "             'https://raw.githubusercontent.com/DataJenius/NLPEncodingExperiment/main/data/input/word2vec300/word2vec_encoded300_group5.csv']\n",
        "# concat into a single dataframe and shuffle the contents\n",
        "df_from_each_file = (pd.read_csv(f) for f in all_files)\n",
        "df_all_data   = pd.concat(df_from_each_file, ignore_index=True)\n",
        "df_all_data = df_all_data.sample(frac=1).reset_index(drop=True)\n",
        "\n",
        "# make sure we loaded what we think we did\n",
        "print(df_all_data.head())\n",
        "print(df_all_data.shape)"
      ],
      "metadata": {
        "colab": {
          "base_uri": "https://localhost:8080/"
        },
        "id": "5Mz2-FHvWZQV",
        "outputId": "448ade3d-a35a-419f-c306-a8c9cbfd793c"
      },
      "execution_count": 3,
      "outputs": [
        {
          "output_type": "stream",
          "name": "stdout",
          "text": [
            "   msg_id  token_count  my_group   my_role  label     dim 1     dim 2  \\\n",
            "0   20030           25         4  validate      0  0.007102  0.011251   \n",
            "1   45715           23         2     train      1 -0.001831  0.012220   \n",
            "2   18243           22         2     train      0  0.002737  0.014752   \n",
            "3   44581           23         3     train      1  0.007504  0.009248   \n",
            "4   24220           64         4  validate      1 -0.011477  0.034345   \n",
            "\n",
            "      dim 3     dim 4     dim 5  ...   dim 291   dim 292   dim 293   dim 294  \\\n",
            "0  0.003714  0.034432 -0.014015  ... -0.023575  0.005898 -0.035482  0.030581   \n",
            "1 -0.000030  0.027602 -0.014948  ... -0.012737  0.016290 -0.020252  0.023577   \n",
            "2  0.006371  0.027839 -0.013343  ... -0.009499  0.011314 -0.021866  0.009938   \n",
            "3 -0.000348  0.037319 -0.018900  ... -0.013795  0.005359 -0.020177  0.019026   \n",
            "4 -0.003589  0.086999 -0.027017  ... -0.043458  0.031262 -0.063757  0.053770   \n",
            "\n",
            "    dim 295   dim 296   dim 297   dim 298   dim 299   dim 300  \n",
            "0 -0.013116 -0.002816 -0.017435 -0.024176  0.013700 -0.003573  \n",
            "1 -0.004996 -0.004847 -0.003802 -0.013288  0.007623 -0.003807  \n",
            "2 -0.000952 -0.013231 -0.003001 -0.015041  0.002875 -0.012643  \n",
            "3 -0.006050 -0.007831 -0.001498 -0.014414  0.007895  0.000256  \n",
            "4 -0.015347 -0.010999 -0.015343 -0.025171  0.035609  0.001759  \n",
            "\n",
            "[5 rows x 305 columns]\n",
            "(10000, 305)\n"
          ]
        }
      ]
    },
    {
      "cell_type": "code",
      "source": [
        "######################################################################################\n",
        "# our data is already split into 5 groups, encoded and fully labelled\n",
        "\n",
        "# setup this experiment\n",
        "test_input_method = 'word2vec (300)'\n",
        "print(test_input_method+\" loading data...\")\n",
        "\n",
        "# split into val/test/train based on validation group \n",
        "df_train = df_all_data.loc[df_all_data['my_group'].isin([1,2,3])]\n",
        "df_val = df_all_data.loc[df_all_data['my_group'] == 4]\n",
        "df_test = df_all_data.loc[df_all_data['my_group'] == 5]\n",
        "\n",
        "print(\"\\n\\ntrain - groups \",df_train['my_group'].unique())\n",
        "print(df_train.head())\n",
        "print(\"\\n\\nval - group \",df_val['my_group'].unique())\n",
        "print(df_val.head())\n",
        "print(\"\\n\\ntest - group \",df_test['my_group'].unique())\n",
        "print(df_test.head())\n",
        "\n",
        "# extract our labels into tensors \n",
        "train_labels_tensor = torch.as_tensor(df_train['label'].to_numpy().reshape(-1, 1)).float()\n",
        "val_labels_tensor = torch.as_tensor(df_val['label'].to_numpy().reshape(-1, 1)).float()\n",
        "test_labels_tensor = torch.as_tensor(df_test['label'].to_numpy().reshape(-1, 1)).float()\n",
        "print(\"\\n\\nLabel Tensors:\")\n",
        "print(\"train - \",train_labels_tensor.shape)\n",
        "print(\"val - \",val_labels_tensor.shape)\n",
        "print(\"test - \",test_labels_tensor.shape)\n",
        "\n",
        "\n",
        "# extract our features into tensors \n",
        "df_train_features = df_train.loc[:, ~df_train.columns.isin(['msg_id','token_count','my_group','my_role','label'])]\n",
        "train_features_tensor = torch.as_tensor(df_train_features.to_numpy()).float()\n",
        "df_val_features = df_val.loc[:, ~df_val.columns.isin(['msg_id','token_count','my_group','my_role','label'])]\n",
        "val_features_tensor = torch.as_tensor(df_val_features.to_numpy()).float()\n",
        "df_test_features = df_test.loc[:, ~df_test.columns.isin(['msg_id','token_count','my_group','my_role','label'])]\n",
        "test_features_tensor = torch.as_tensor(df_test_features.to_numpy()).float()\n",
        "print(\"\\n\\nFeature Tensors:\")\n",
        "print(\"train - \",train_features_tensor.shape)\n",
        "print(\"val - \",val_features_tensor.shape)\n",
        "print(\"test - \",test_features_tensor.shape)\n"
      ],
      "metadata": {
        "colab": {
          "base_uri": "https://localhost:8080/"
        },
        "id": "RjoyDMOgYNCv",
        "outputId": "17fb0267-bb0d-42d8-fc1b-b048f99fedb0"
      },
      "execution_count": 4,
      "outputs": [
        {
          "output_type": "stream",
          "name": "stdout",
          "text": [
            "word2vec (300) loading data...\n",
            "\n",
            "\n",
            "train - groups  [2 3 1]\n",
            "   msg_id  token_count  my_group my_role  label     dim 1     dim 2     dim 3  \\\n",
            "1   45715           23         2   train      1 -0.001831  0.012220 -0.000030   \n",
            "2   18243           22         2   train      0  0.002737  0.014752  0.006371   \n",
            "3   44581           23         3   train      1  0.007504  0.009248 -0.000348   \n",
            "5   13381           24         2   train      0  0.012631  0.021007  0.006386   \n",
            "6   25377           14         1   train      1  0.001792  0.003659  0.001077   \n",
            "\n",
            "      dim 4     dim 5  ...   dim 291   dim 292   dim 293   dim 294   dim 295  \\\n",
            "1  0.027602 -0.014948  ... -0.012737  0.016290 -0.020252  0.023577 -0.004996   \n",
            "2  0.027839 -0.013343  ... -0.009499  0.011314 -0.021866  0.009938 -0.000952   \n",
            "3  0.037319 -0.018900  ... -0.013795  0.005359 -0.020177  0.019026 -0.006050   \n",
            "5  0.030760 -0.013560  ... -0.008057  0.004393 -0.022690  0.020439 -0.003438   \n",
            "6  0.011575 -0.003966  ... -0.005031  0.005680 -0.009917  0.004825 -0.003142   \n",
            "\n",
            "    dim 296   dim 297   dim 298   dim 299   dim 300  \n",
            "1 -0.004847 -0.003802 -0.013288  0.007623 -0.003807  \n",
            "2 -0.013231 -0.003001 -0.015041  0.002875 -0.012643  \n",
            "3 -0.007831 -0.001498 -0.014414  0.007895  0.000256  \n",
            "5 -0.016723 -0.005766 -0.015653  0.004875  0.002700  \n",
            "6 -0.007197 -0.000657 -0.004885  0.002754 -0.007651  \n",
            "\n",
            "[5 rows x 305 columns]\n",
            "\n",
            "\n",
            "val - group  [4]\n",
            "    msg_id  token_count  my_group   my_role  label     dim 1     dim 2  \\\n",
            "0    20030           25         4  validate      0  0.007102  0.011251   \n",
            "4    24220           64         4  validate      1 -0.011477  0.034345   \n",
            "16   28878           25         4  validate      1 -0.003886  0.016497   \n",
            "21   20154           73         4  validate      0  0.039491  0.034448   \n",
            "23   14558           30         4  validate      0 -0.007885  0.013245   \n",
            "\n",
            "       dim 3     dim 4     dim 5  ...   dim 291   dim 292   dim 293   dim 294  \\\n",
            "0   0.003714  0.034432 -0.014015  ... -0.023575  0.005898 -0.035482  0.030581   \n",
            "4  -0.003589  0.086999 -0.027017  ... -0.043458  0.031262 -0.063757  0.053770   \n",
            "16  0.000519  0.040780 -0.021556  ... -0.012585 -0.001220 -0.028771  0.015239   \n",
            "21  0.009323  0.059476 -0.043422  ... -0.045619  0.041636 -0.067710  0.025007   \n",
            "23 -0.006061  0.027861 -0.019886  ... -0.009902  0.007217 -0.039733  0.017737   \n",
            "\n",
            "     dim 295   dim 296   dim 297   dim 298   dim 299   dim 300  \n",
            "0  -0.013116 -0.002816 -0.017435 -0.024176  0.013700 -0.003573  \n",
            "4  -0.015347 -0.010999 -0.015343 -0.025171  0.035609  0.001759  \n",
            "16 -0.015781 -0.015679 -0.005475 -0.015625  0.002822  0.002920  \n",
            "21 -0.033847 -0.021158  0.007547 -0.059354  0.010693 -0.015838  \n",
            "23 -0.005463 -0.016149  0.007085 -0.015747  0.010301  0.008338  \n",
            "\n",
            "[5 rows x 305 columns]\n",
            "\n",
            "\n",
            "test - group  [5]\n",
            "    msg_id  token_count  my_group my_role  label     dim 1     dim 2  \\\n",
            "36   20769           22         5    test      0  0.002853  0.011590   \n",
            "38   11187           14         5    test      0 -0.000870  0.006991   \n",
            "39   18221           13         5    test      0  0.006278  0.001535   \n",
            "41   32319           17         5    test      1 -0.001986  0.013412   \n",
            "42   14216           58         5    test      0  0.006301  0.042422   \n",
            "\n",
            "       dim 3     dim 4     dim 5  ...   dim 291   dim 292   dim 293   dim 294  \\\n",
            "36  0.006093  0.019781 -0.005070  ... -0.018665  0.018593 -0.024904  0.004567   \n",
            "38  0.004105  0.024553 -0.010218  ... -0.002633  0.005292 -0.016275  0.010798   \n",
            "39  0.002052  0.010172 -0.004003  ... -0.005397  0.007543 -0.007000  0.002300   \n",
            "41 -0.003723  0.024571 -0.005121  ... -0.008586 -0.001677 -0.015803  0.015497   \n",
            "42  0.000976  0.069814 -0.041965  ... -0.016378  0.014610 -0.035096  0.033470   \n",
            "\n",
            "     dim 295   dim 296   dim 297   dim 298   dim 299   dim 300  \n",
            "36 -0.014075 -0.001796 -0.005923 -0.006412 -0.000136 -0.007928  \n",
            "38 -0.009052 -0.008712 -0.002606 -0.003597  0.001593  0.004349  \n",
            "39 -0.006176 -0.001490  0.001582 -0.001667  0.003436  0.001895  \n",
            "41 -0.006428 -0.018644 -0.005608 -0.006543  0.005301 -0.002007  \n",
            "42 -0.012229 -0.027514  0.006266 -0.027324 -0.000508  0.011348  \n",
            "\n",
            "[5 rows x 305 columns]\n",
            "\n",
            "\n",
            "Label Tensors:\n",
            "train -  torch.Size([6000, 1])\n",
            "val -  torch.Size([2000, 1])\n",
            "test -  torch.Size([2000, 1])\n",
            "\n",
            "\n",
            "Feature Tensors:\n",
            "train -  torch.Size([6000, 300])\n",
            "val -  torch.Size([2000, 300])\n",
            "test -  torch.Size([2000, 300])\n"
          ]
        }
      ]
    },
    {
      "cell_type": "code",
      "source": [
        "######################################################################################\n",
        "# build a TensorDataset containing ALL data points for train/val\n",
        "train_dataset = TensorDataset(train_features_tensor, train_labels_tensor)\n",
        "val_dataset = TensorDataset(val_features_tensor, val_labels_tensor)\n",
        "\n",
        "# build a loader of each set\n",
        "train_loader = DataLoader(dataset=train_dataset, batch_size=32, shuffle=True)\n",
        "val_loader = DataLoader(dataset=val_dataset, batch_size=32)\n",
        "print(train_loader)\n",
        "print(val_loader)"
      ],
      "metadata": {
        "colab": {
          "base_uri": "https://localhost:8080/"
        },
        "id": "XsuxLdyKgV66",
        "outputId": "16d36473-17a7-4470-80d6-11000efd51ab"
      },
      "execution_count": 5,
      "outputs": [
        {
          "output_type": "stream",
          "name": "stdout",
          "text": [
            "<torch.utils.data.dataloader.DataLoader object at 0x7f51c7ee9b10>\n",
            "<torch.utils.data.dataloader.DataLoader object at 0x7f51c7ee9e10>\n"
          ]
        }
      ]
    },
    {
      "cell_type": "code",
      "source": [
        "###############################################################################################\n",
        "# use same model structure, just change embeddings into this one-hot input instead\n",
        "torch.manual_seed(42)\n",
        "\n",
        "# define our model using StepByStep framework by Daniel Voigt Godoy\n",
        "# https://pytorchstepbystep.com/ \n",
        "model = nn.Sequential(\n",
        "    nn.Linear(300, 1) \n",
        ")\n",
        "loss_fn = nn.BCEWithLogitsLoss()\n",
        "optimizer = optim.Adam(model.parameters(), lr=0.01)\n",
        "\n",
        "\n",
        "# get details about the model\n",
        "def count_all_parameters(model):\n",
        "    return sum(p.numel() for p in model.parameters())\n",
        "def count_trainable_parameters(model):\n",
        "    return sum(p.numel() for p in model.parameters() if p.requires_grad)\n",
        "num_params = count_all_parameters(model)\n",
        "num_params_train = count_trainable_parameters(model)\n",
        "print(model)\n",
        "print(num_params, \"total params\")\n",
        "print(num_params_train, \"trainable params\")"
      ],
      "metadata": {
        "colab": {
          "base_uri": "https://localhost:8080/"
        },
        "id": "gGIKRFVni176",
        "outputId": "483b0c67-592a-4f13-b7f1-9992017650fd"
      },
      "execution_count": 6,
      "outputs": [
        {
          "output_type": "stream",
          "name": "stdout",
          "text": [
            "Sequential(\n",
            "  (0): Linear(in_features=300, out_features=1, bias=True)\n",
            ")\n",
            "301 total params\n",
            "301 trainable params\n"
          ]
        }
      ]
    },
    {
      "cell_type": "code",
      "source": [
        "###############################################################################################\n",
        "# train the model - only takes about 10s for 20 epochs, 1m for 100 epochs\n",
        "sbs_oh = StepByStep(model, loss_fn, optimizer)\n",
        "sbs_oh.set_loaders(train_loader, val_loader)\n",
        "sbs_oh.train(100)\n",
        "\n",
        "# plot loss over epochs\n",
        "fig = sbs_oh.plot_losses()"
      ],
      "metadata": {
        "colab": {
          "base_uri": "https://localhost:8080/",
          "height": 289
        },
        "id": "7etubDytXVgq",
        "outputId": "2adc0239-ac32-463e-ae16-5d0d153dae44"
      },
      "execution_count": 7,
      "outputs": [
        {
          "output_type": "display_data",
          "data": {
            "image/png": "[encoded data removed]",
            "text/plain": [
              "<Figure size 720x288 with 1 Axes>"
            ]
          },
          "metadata": {}
        }
      ]
    },
    {
      "cell_type": "code",
      "source": [
        "##############################################################\n",
        "# how well does this model do with data it has never seen?\n",
        "sbs_oh.model.eval()\n",
        "out = sbs_oh.model(test_features_tensor)\n",
        "\n",
        "# record detailed predictions for this model\n",
        "df_experiment_results = pd.DataFrame({'method': test_input_method,\n",
        "                                      'params': num_params,\n",
        "                                      'params_train': num_params_train, \n",
        "                                      'msg_id': df_test['msg_id'],\n",
        "                                      'label': df_test['label'],\n",
        "                                      'p_sigmoid': torch.sigmoid(out).squeeze().tolist()}) \n",
        "df_experiment_results['pred'] = np.where(df_experiment_results['p_sigmoid']>0.5, 1, 0)\n",
        "df_experiment_results['correct'] = np.where(df_experiment_results['pred']==df_experiment_results['label'], 1, 0)\n",
        "df_experiment_results['tp'] = np.where((df_experiment_results['pred']==1) & (df_experiment_results['label']==1), 1, 0)\n",
        "df_experiment_results['fp'] = np.where((df_experiment_results['pred']==1) & (df_experiment_results['label']==0), 1, 0)\n",
        "df_experiment_results['tn'] = np.where((df_experiment_results['pred']==0) & (df_experiment_results['label']==0), 1, 0)\n",
        "df_experiment_results['fn'] = np.where((df_experiment_results['pred']==0) & (df_experiment_results['label']==1), 1, 0)\n",
        "\n",
        "# calculate metrics\n",
        "tp = df_experiment_results[\"tp\"].sum()\n",
        "fp = df_experiment_results[\"fp\"].sum()\n",
        "tn = df_experiment_results[\"tn\"].sum()\n",
        "fn = df_experiment_results[\"fn\"].sum()\n",
        "prec = tp/(tp+fp)\n",
        "recall = tp/(tp+fn)\n",
        "\n",
        "# show our metrics\n",
        "print(\"ACC: \",df_experiment_results[\"correct\"].mean())\n",
        "print(\"Precision: \",prec)\n",
        "print(\"Recall: \", recall)\n",
        "\n",
        "# save results to local CSV\n",
        "file_name = 'results_'+test_input_method+'.csv'\n",
        "df_experiment_results.to_csv(file_name, index=False) \n",
        "files.download(file_name)\n",
        "print(\"\\n\\n\",df_experiment_results.head(10))"
      ],
      "metadata": {
        "id": "dhpYKa2cZOc8",
        "colab": {
          "base_uri": "https://localhost:8080/",
          "height": 517
        },
        "outputId": "0b4687d6-b32d-43a7-b8ab-7431db5ea8a5"
      },
      "execution_count": 8,
      "outputs": [
        {
          "output_type": "stream",
          "name": "stdout",
          "text": [
            "ACC:  0.892\n",
            "Precision:  0.9024640657084189\n",
            "Recall:  0.879\n"
          ]
        },
        {
          "output_type": "display_data",
          "data": {
            "application/javascript": [
              "\n",
              "    async function download(id, filename, size) {\n",
              "      if (!google.colab.kernel.accessAllowed) {\n",
              "        return;\n",
              "      }\n",
              "      const div = document.createElement('div');\n",
              "      const label = document.createElement('label');\n",
              "      label.textContent = `Downloading \"${filename}\": `;\n",
              "      div.appendChild(label);\n",
              "      const progress = document.createElement('progress');\n",
              "      progress.max = size;\n",
              "      div.appendChild(progress);\n",
              "      document.body.appendChild(div);\n",
              "\n",
              "      const buffers = [];\n",
              "      let downloaded = 0;\n",
              "\n",
              "      const channel = await google.colab.kernel.comms.open(id);\n",
              "      // Send a message to notify the kernel that we're ready.\n",
              "      channel.send({})\n",
              "\n",
              "      for await (const message of channel.messages) {\n",
              "        // Send a message to notify the kernel that we're ready.\n",
              "        channel.send({})\n",
              "        if (message.buffers) {\n",
              "          for (const buffer of message.buffers) {\n",
              "            buffers.push(buffer);\n",
              "            downloaded += buffer.byteLength;\n",
              "            progress.value = downloaded;\n",
              "          }\n",
              "        }\n",
              "      }\n",
              "      const blob = new Blob(buffers, {type: 'application/binary'});\n",
              "      const a = document.createElement('a');\n",
              "      a.href = window.URL.createObjectURL(blob);\n",
              "      a.download = filename;\n",
              "      div.appendChild(a);\n",
              "      a.click();\n",
              "      div.remove();\n",
              "    }\n",
              "  "
            ],
            "text/plain": [
              "<IPython.core.display.Javascript object>"
            ]
          },
          "metadata": {}
        },
        {
          "output_type": "display_data",
          "data": {
            "application/javascript": [
              "download(\"download_af17fca7-2503-42bf-bf74-cb3f700ecbfd\", \"results_word2vec (300).csv\", 124549)"
            ],
            "text/plain": [
              "<IPython.core.display.Javascript object>"
            ]
          },
          "metadata": {}
        },
        {
          "output_type": "stream",
          "name": "stdout",
          "text": [
            "\n",
            "\n",
            "             method  params  params_train  msg_id  label  p_sigmoid  pred  \\\n",
            "36  word2vec (300)     301           301   20769      0   0.448609     0   \n",
            "38  word2vec (300)     301           301   11187      0   0.537485     1   \n",
            "39  word2vec (300)     301           301   18221      0   0.401880     0   \n",
            "41  word2vec (300)     301           301   32319      1   0.984201     1   \n",
            "42  word2vec (300)     301           301   14216      0   0.037503     0   \n",
            "48  word2vec (300)     301           301   33569      1   0.899635     1   \n",
            "61  word2vec (300)     301           301   19091      0   0.731154     1   \n",
            "65  word2vec (300)     301           301   10759      0   0.002211     0   \n",
            "72  word2vec (300)     301           301   31449      1   0.925674     1   \n",
            "74  word2vec (300)     301           301   44112      1   0.999957     1   \n",
            "\n",
            "    correct  tp  fp  tn  fn  \n",
            "36        1   0   0   1   0  \n",
            "38        0   0   1   0   0  \n",
            "39        1   0   0   1   0  \n",
            "41        1   1   0   0   0  \n",
            "42        1   0   0   1   0  \n",
            "48        1   1   0   0   0  \n",
            "61        0   0   1   0   0  \n",
            "65        1   0   0   1   0  \n",
            "72        1   1   0   0   0  \n",
            "74        1   1   0   0   0  \n"
          ]
        }
      ]
    }
  ]
}