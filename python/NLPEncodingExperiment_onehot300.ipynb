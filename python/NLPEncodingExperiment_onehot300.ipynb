{
  "nbformat": 4,
  "nbformat_minor": 0,
  "metadata": {
    "colab": {
      "name": " NLPEncodingExperiment_onehot300.ipynb",
      "provenance": [],
      "machine_shape": "hm",
      "include_colab_link": true
    },
    "kernelspec": {
      "name": "python3",
      "display_name": "Python 3"
    },
    "language_info": {
      "name": "python"
    }
  },
  "cells": [
    {
      "cell_type": "markdown",
      "metadata": {
        "id": "view-in-github",
        "colab_type": "text"
      },
      "source": [
        "<a href=\"https://colab.research.google.com/github/DataJenius/NLPEncodingExperiment/blob/main/python/NLPEncodingExperiment_onehot300.ipynb\" target=\"_parent\"><img src=\"https://colab.research.google.com/assets/colab-badge.svg\" alt=\"Open In Colab\"/></a>"
      ]
    },
    {
      "cell_type": "code",
      "source": [
        "#######################################################################################################\n",
        "# define our model using StepByStep framework by Daniel Voigt Godoy\n",
        "# https://pytorchstepbystep.com/\n",
        "try:\n",
        "    import google.colab\n",
        "    import requests\n",
        "    url = 'https://raw.githubusercontent.com/dvgodoy/PyTorchStepByStep/master/config.py'\n",
        "    r = requests.get(url, allow_redirects=True)\n",
        "    open('config.py', 'wb').write(r.content)    \n",
        "except ModuleNotFoundError:\n",
        "    pass\n",
        "\n",
        "from config import *\n",
        "config_chapter11()"
      ],
      "metadata": {
        "colab": {
          "base_uri": "https://localhost:8080/"
        },
        "id": "EjcdrThgk6qX",
        "outputId": "28ecb0f5-01f6-4ba5-8545-01a81640c953"
      },
      "execution_count": 1,
      "outputs": [
        {
          "output_type": "stream",
          "name": "stdout",
          "text": [
            "Downloading files from GitHub repo to Colab...\n",
            "Finished!\n"
          ]
        }
      ]
    },
    {
      "cell_type": "code",
      "source": [
        "###########################################\n",
        "# load all dependencies\n",
        "import pandas as pd\n",
        "import numpy as np\n",
        "\n",
        "import torch\n",
        "import torch.optim as optim\n",
        "import torch.nn as nn\n",
        "import torch.functional as F\n",
        "from torch.utils.data import DataLoader, TensorDataset\n",
        "\n",
        "from stepbystep.v4 import StepByStep\n",
        "\n",
        "from google.colab import files"
      ],
      "metadata": {
        "id": "ycfO9KuqXsLv"
      },
      "execution_count": 2,
      "outputs": []
    },
    {
      "cell_type": "code",
      "source": [
        "######################################################################################\n",
        "# our one-hot encoded data is on github\n",
        "all_files = ['https://raw.githubusercontent.com/DataJenius/NLPEncodingExperiment/main/data/input/one_hot300/one_hot_encoded300_group1.csv',\n",
        "             'https://raw.githubusercontent.com/DataJenius/NLPEncodingExperiment/main/data/input/one_hot300/one_hot_encoded300_group2.csv',\n",
        "             'https://raw.githubusercontent.com/DataJenius/NLPEncodingExperiment/main/data/input/one_hot300/one_hot_encoded300_group3.csv',\n",
        "             'https://raw.githubusercontent.com/DataJenius/NLPEncodingExperiment/main/data/input/one_hot300/one_hot_encoded300_group4.csv',\n",
        "             'https://raw.githubusercontent.com/DataJenius/NLPEncodingExperiment/main/data/input/one_hot300/one_hot_encoded300_group5.csv']\n",
        "# concat into a single dataframe and shuffle the contents\n",
        "df_from_each_file = (pd.read_csv(f) for f in all_files)\n",
        "df_all_data   = pd.concat(df_from_each_file, ignore_index=True)\n",
        "df_all_data = df_all_data.sample(frac=1).reset_index(drop=True)\n",
        "\n",
        "# make sure we loaded what we think we did\n",
        "print(df_all_data.head())\n",
        "print(df_all_data.shape)"
      ],
      "metadata": {
        "colab": {
          "base_uri": "https://localhost:8080/"
        },
        "id": "5Mz2-FHvWZQV",
        "outputId": "f8747cd9-eecf-4e11-a86d-e047548624ac"
      },
      "execution_count": 3,
      "outputs": [
        {
          "output_type": "stream",
          "name": "stdout",
          "text": [
            "   msg_id  token_count  my_group   my_role  label  absolutely  action  actors  \\\n",
            "0   36593           13         1     train      1           0       0       0   \n",
            "1    3164           13         4  validate      0           0       0       0   \n",
            "2   38085           73         1     train      1           0       0       0   \n",
            "3   13250           17         1     train      0           0       0       0   \n",
            "4   43170           41         2     train      1           0       0       0   \n",
            "\n",
            "   actual  adaptation  ...  wouldnt  wouldve  write  writers  writing  \\\n",
            "0       0           0  ...        0        0      0        0        0   \n",
            "1       0           0  ...        0        0      0        0        0   \n",
            "2       0           0  ...        0        0      1        1        1   \n",
            "3       0           0  ...        0        0      0        0        0   \n",
            "4       0           0  ...        0        0      0        0        0   \n",
            "\n",
            "   written  wrong  wrote  yeah  youre  \n",
            "0        0      0      0     0      0  \n",
            "1        0      0      0     0      0  \n",
            "2        1      0      1     0      0  \n",
            "3        0      0      0     0      0  \n",
            "4        0      0      0     0      0  \n",
            "\n",
            "[5 rows x 305 columns]\n",
            "(10000, 305)\n"
          ]
        }
      ]
    },
    {
      "cell_type": "code",
      "source": [
        "######################################################################################\n",
        "# our data is already split into 5 validation groups, fully labelled\n",
        "# change the `validation_test` below to re-train/test 5 times \n",
        "validation_group = 5 # set 1 to 5\n",
        "\n",
        "# setup this experiment\n",
        "test_input_method = 'one-hot (300)'\n",
        "print(test_input_method+\" loading data...\")\n",
        "\n",
        "# split into val/test/train based on validation group \n",
        "df_train = df_all_data.loc[df_all_data['my_group'].isin([1,2,3])]\n",
        "df_val = df_all_data.loc[df_all_data['my_group'] == 4]\n",
        "df_test = df_all_data.loc[df_all_data['my_group'] == 5]\n",
        "\n",
        "print(\"\\n\\ntrain - groups \",df_train['my_group'].unique())\n",
        "print(df_train.head())\n",
        "print(\"\\n\\nval - group \",df_val['my_group'].unique())\n",
        "print(df_val.head())\n",
        "print(\"\\n\\ntest - group \",df_test['my_group'].unique())\n",
        "print(df_test.head())\n",
        "\n",
        "# extract our labels into tensors \n",
        "train_labels_tensor = torch.as_tensor(df_train['label'].to_numpy().reshape(-1, 1)).float()\n",
        "val_labels_tensor = torch.as_tensor(df_val['label'].to_numpy().reshape(-1, 1)).float()\n",
        "test_labels_tensor = torch.as_tensor(df_test['label'].to_numpy().reshape(-1, 1)).float()\n",
        "print(\"\\n\\nLabel Tensors:\")\n",
        "print(\"train - \",train_labels_tensor.shape)\n",
        "print(\"val - \",val_labels_tensor.shape)\n",
        "print(\"test - \",test_labels_tensor.shape)\n",
        "\n",
        "\n",
        "# extract our features into tensors \n",
        "df_train_features = df_train.loc[:, ~df_train.columns.isin(['msg_id','token_count','my_group','my_role','label'])]\n",
        "train_features_tensor = torch.as_tensor(df_train_features.to_numpy()).float()\n",
        "df_val_features = df_val.loc[:, ~df_val.columns.isin(['msg_id','token_count','my_group','my_role','label'])]\n",
        "val_features_tensor = torch.as_tensor(df_val_features.to_numpy()).float()\n",
        "df_test_features = df_test.loc[:, ~df_test.columns.isin(['msg_id','token_count','my_group','my_role','label'])]\n",
        "test_features_tensor = torch.as_tensor(df_test_features.to_numpy()).float()\n",
        "print(\"\\n\\nFeature Tensors:\")\n",
        "print(\"train - \",train_features_tensor.shape)\n",
        "print(\"val - \",val_features_tensor.shape)\n",
        "print(\"test - \",test_features_tensor.shape)\n"
      ],
      "metadata": {
        "colab": {
          "base_uri": "https://localhost:8080/"
        },
        "id": "RjoyDMOgYNCv",
        "outputId": "6d532d82-9b41-42dd-efe8-1b4aff4f9ad9"
      },
      "execution_count": 5,
      "outputs": [
        {
          "output_type": "stream",
          "name": "stdout",
          "text": [
            "one-hot (300) loading data...\n",
            "\n",
            "\n",
            "train - groups  [1 2 3]\n",
            "   msg_id  token_count  my_group my_role  label  absolutely  action  actors  \\\n",
            "0   36593           13         1   train      1           0       0       0   \n",
            "2   38085           73         1   train      1           0       0       0   \n",
            "3   13250           17         1   train      0           0       0       0   \n",
            "4   43170           41         2   train      1           0       0       0   \n",
            "5   21336           15         1   train      1           0       0       0   \n",
            "\n",
            "   actual  adaptation  ...  wouldnt  wouldve  write  writers  writing  \\\n",
            "0       0           0  ...        0        0      0        0        0   \n",
            "2       0           0  ...        0        0      1        1        1   \n",
            "3       0           0  ...        0        0      0        0        0   \n",
            "4       0           0  ...        0        0      0        0        0   \n",
            "5       0           0  ...        0        0      0        0        0   \n",
            "\n",
            "   written  wrong  wrote  yeah  youre  \n",
            "0        0      0      0     0      0  \n",
            "2        1      0      1     0      0  \n",
            "3        0      0      0     0      0  \n",
            "4        0      0      0     0      0  \n",
            "5        0      1      0     0      0  \n",
            "\n",
            "[5 rows x 305 columns]\n",
            "\n",
            "\n",
            "val - group  [4]\n",
            "    msg_id  token_count  my_group   my_role  label  absolutely  action  \\\n",
            "1     3164           13         4  validate      0           0       0   \n",
            "7     2119           13         4  validate      0           0       0   \n",
            "24    9071           32         4  validate      0           0       0   \n",
            "29   40280           86         4  validate      1           0       0   \n",
            "33    4389           19         4  validate      0           0       1   \n",
            "\n",
            "    actors  actual  adaptation  ...  wouldnt  wouldve  write  writers  \\\n",
            "1        0       0           0  ...        0        0      0        0   \n",
            "7        0       0           0  ...        0        0      0        0   \n",
            "24       0       0           0  ...        0        0      0        0   \n",
            "29       0       0           1  ...        0        0      0        0   \n",
            "33       0       0           0  ...        0        0      0        0   \n",
            "\n",
            "    writing  written  wrong  wrote  yeah  youre  \n",
            "1         0        0      0      0     0      0  \n",
            "7         0        0      0      0     0      0  \n",
            "24        0        0      0      0     0      0  \n",
            "29        0        1      0      0     0      0  \n",
            "33        0        0      0      0     0      0  \n",
            "\n",
            "[5 rows x 305 columns]\n",
            "\n",
            "\n",
            "test - group  [5]\n",
            "    msg_id  token_count  my_group my_role  label  absolutely  action  actors  \\\n",
            "12   27417           29         5    test      1           0       0       0   \n",
            "15    8408           20         5    test      0           0       0       0   \n",
            "20   27165           16         5    test      1           0       0       0   \n",
            "21   14574           58         5    test      0           0       0       0   \n",
            "26   20124           15         5    test      0           0       0       0   \n",
            "\n",
            "    actual  adaptation  ...  wouldnt  wouldve  write  writers  writing  \\\n",
            "12       0           0  ...        0        0      0        0        0   \n",
            "15       0           0  ...        0        0      0        0        0   \n",
            "20       0           0  ...        0        0      0        0        0   \n",
            "21       0           0  ...        0        0      0        0        1   \n",
            "26       0           0  ...        0        0      0        0        0   \n",
            "\n",
            "    written  wrong  wrote  yeah  youre  \n",
            "12        0      0      0     0      0  \n",
            "15        0      0      0     0      0  \n",
            "20        0      0      0     0      0  \n",
            "21        0      0      0     0      0  \n",
            "26        0      0      0     0      0  \n",
            "\n",
            "[5 rows x 305 columns]\n",
            "\n",
            "\n",
            "Label Tensors:\n",
            "train -  torch.Size([6000, 1])\n",
            "val -  torch.Size([2000, 1])\n",
            "test -  torch.Size([2000, 1])\n",
            "\n",
            "\n",
            "Feature Tensors:\n",
            "train -  torch.Size([6000, 300])\n",
            "val -  torch.Size([2000, 300])\n",
            "test -  torch.Size([2000, 300])\n"
          ]
        }
      ]
    },
    {
      "cell_type": "code",
      "source": [
        "######################################################################################\n",
        "# build a TensorDataset containing ALL data points for train/val\n",
        "train_dataset = TensorDataset(train_features_tensor, train_labels_tensor)\n",
        "val_dataset = TensorDataset(val_features_tensor, val_labels_tensor)\n",
        "\n",
        "# build a loader of each set\n",
        "train_loader = DataLoader(dataset=train_dataset, batch_size=32, shuffle=True)\n",
        "val_loader = DataLoader(dataset=val_dataset, batch_size=32)\n",
        "print(train_loader)\n",
        "print(val_loader)"
      ],
      "metadata": {
        "colab": {
          "base_uri": "https://localhost:8080/"
        },
        "id": "XsuxLdyKgV66",
        "outputId": "fd3c0985-4e39-4559-a7bf-1f1b20a41e90"
      },
      "execution_count": 6,
      "outputs": [
        {
          "output_type": "stream",
          "name": "stdout",
          "text": [
            "<torch.utils.data.dataloader.DataLoader object at 0x7f4bd479e810>\n",
            "<torch.utils.data.dataloader.DataLoader object at 0x7f4bd479ed50>\n"
          ]
        }
      ]
    },
    {
      "cell_type": "code",
      "source": [
        "###############################################################################################\n",
        "# use same model structure, just change embeddings into this one-hot input instead\n",
        "torch.manual_seed(42)\n",
        "\n",
        "# define our model using StepByStep framework by Daniel Voigt Godoy\n",
        "# https://pytorchstepbystep.com/ \n",
        "model = nn.Sequential(\n",
        "    nn.Linear(300, 1) \n",
        ")\n",
        "loss_fn = nn.BCEWithLogitsLoss()\n",
        "optimizer = optim.Adam(model.parameters(), lr=0.01)\n",
        "\n",
        "\n",
        "# get details about the model\n",
        "def count_all_parameters(model):\n",
        "    return sum(p.numel() for p in model.parameters())\n",
        "def count_trainable_parameters(model):\n",
        "    return sum(p.numel() for p in model.parameters() if p.requires_grad)\n",
        "num_params = count_all_parameters(model)\n",
        "num_params_train = count_trainable_parameters(model)\n",
        "print(model)\n",
        "print(num_params, \"total params\")\n",
        "print(num_params_train, \"trainable params\")"
      ],
      "metadata": {
        "colab": {
          "base_uri": "https://localhost:8080/"
        },
        "id": "gGIKRFVni176",
        "outputId": "df263c34-67c1-426e-c302-18e94edd5f9e"
      },
      "execution_count": 7,
      "outputs": [
        {
          "output_type": "stream",
          "name": "stdout",
          "text": [
            "Sequential(\n",
            "  (0): Linear(in_features=300, out_features=1, bias=True)\n",
            ")\n",
            "301 total params\n",
            "301 trainable params\n"
          ]
        }
      ]
    },
    {
      "cell_type": "code",
      "source": [
        "###############################################################################################\n",
        "# train the model - only takes about 10s for 20 epochs, 1m for 100 epochs\n",
        "sbs_oh = StepByStep(model, loss_fn, optimizer)\n",
        "sbs_oh.set_loaders(train_loader, val_loader)\n",
        "sbs_oh.train(100)\n",
        "\n",
        "# plot loss over epochs\n",
        "fig = sbs_oh.plot_losses()"
      ],
      "metadata": {
        "colab": {
          "base_uri": "https://localhost:8080/",
          "height": 289
        },
        "id": "7etubDytXVgq",
        "outputId": "5142d5ca-4a35-40d2-f2ed-0546e2508614"
      },
      "execution_count": 8,
      "outputs": [
        {
          "output_type": "display_data",
          "data": {
            "image/png": "[encoded data removed]",
            "text/plain": [
              "<Figure size 720x288 with 1 Axes>"
            ]
          },
          "metadata": {}
        }
      ]
    },
    {
      "cell_type": "code",
      "source": [
        "##############################################################\n",
        "# how well does this model do with data it has never seen?\n",
        "sbs_oh.model.eval()\n",
        "out = sbs_oh.model(test_features_tensor)\n",
        "\n",
        "# record detailed predictions for this model\n",
        "df_experiment_results = pd.DataFrame({'method': test_input_method,\n",
        "                                      'params': num_params,\n",
        "                                      'params_train': num_params_train, \n",
        "                                      'msg_id': df_test['msg_id'],\n",
        "                                      'label': df_test['label'],\n",
        "                                      'p_sigmoid': torch.sigmoid(out).squeeze().tolist()}) \n",
        "df_experiment_results['pred'] = np.where(df_experiment_results['p_sigmoid']>0.5, 1, 0)\n",
        "df_experiment_results['correct'] = np.where(df_experiment_results['pred']==df_experiment_results['label'], 1, 0)\n",
        "df_experiment_results['tp'] = np.where((df_experiment_results['pred']==1) & (df_experiment_results['label']==1), 1, 0)\n",
        "df_experiment_results['fp'] = np.where((df_experiment_results['pred']==1) & (df_experiment_results['label']==0), 1, 0)\n",
        "df_experiment_results['tn'] = np.where((df_experiment_results['pred']==0) & (df_experiment_results['label']==0), 1, 0)\n",
        "df_experiment_results['fn'] = np.where((df_experiment_results['pred']==0) & (df_experiment_results['label']==1), 1, 0)\n",
        "\n",
        "# calculate metrics\n",
        "tp = df_experiment_results[\"tp\"].sum()\n",
        "fp = df_experiment_results[\"fp\"].sum()\n",
        "tn = df_experiment_results[\"tn\"].sum()\n",
        "fn = df_experiment_results[\"fn\"].sum()\n",
        "prec = tp/(tp+fp)\n",
        "recall = tp/(tp+fn)\n",
        "\n",
        "# show our metrics\n",
        "print(\"ACC: \",df_experiment_results[\"correct\"].mean())\n",
        "print(\"Precision: \",prec)\n",
        "print(\"Recall: \", recall)\n",
        "\n",
        "# save results to local CSV\n",
        "file_name = 'results_'+test_input_method+'.csv'\n",
        "df_experiment_results.to_csv(file_name, index=False) \n",
        "files.download(file_name)\n",
        "print(\"\\n\\n\",df_experiment_results.head(10))"
      ],
      "metadata": {
        "id": "dhpYKa2cZOc8",
        "colab": {
          "base_uri": "https://localhost:8080/",
          "height": 517
        },
        "outputId": "bbc09dcd-94ae-4e70-bfbd-c3b995911fc3"
      },
      "execution_count": 9,
      "outputs": [
        {
          "output_type": "stream",
          "name": "stdout",
          "text": [
            "ACC:  0.913\n",
            "Precision:  0.9121756487025948\n",
            "Recall:  0.914\n"
          ]
        },
        {
          "output_type": "display_data",
          "data": {
            "application/javascript": [
              "\n",
              "    async function download(id, filename, size) {\n",
              "      if (!google.colab.kernel.accessAllowed) {\n",
              "        return;\n",
              "      }\n",
              "      const div = document.createElement('div');\n",
              "      const label = document.createElement('label');\n",
              "      label.textContent = `Downloading \"${filename}\": `;\n",
              "      div.appendChild(label);\n",
              "      const progress = document.createElement('progress');\n",
              "      progress.max = size;\n",
              "      div.appendChild(progress);\n",
              "      document.body.appendChild(div);\n",
              "\n",
              "      const buffers = [];\n",
              "      let downloaded = 0;\n",
              "\n",
              "      const channel = await google.colab.kernel.comms.open(id);\n",
              "      // Send a message to notify the kernel that we're ready.\n",
              "      channel.send({})\n",
              "\n",
              "      for await (const message of channel.messages) {\n",
              "        // Send a message to notify the kernel that we're ready.\n",
              "        channel.send({})\n",
              "        if (message.buffers) {\n",
              "          for (const buffer of message.buffers) {\n",
              "            buffers.push(buffer);\n",
              "            downloaded += buffer.byteLength;\n",
              "            progress.value = downloaded;\n",
              "          }\n",
              "        }\n",
              "      }\n",
              "      const blob = new Blob(buffers, {type: 'application/binary'});\n",
              "      const a = document.createElement('a');\n",
              "      a.href = window.URL.createObjectURL(blob);\n",
              "      a.download = filename;\n",
              "      div.appendChild(a);\n",
              "      a.click();\n",
              "      div.remove();\n",
              "    }\n",
              "  "
            ],
            "text/plain": [
              "<IPython.core.display.Javascript object>"
            ]
          },
          "metadata": {}
        },
        {
          "output_type": "display_data",
          "data": {
            "application/javascript": [
              "download(\"download_31ff86aa-2f98-4ef2-b704-60b2726fd752\", \"results_one-hot (300).csv\", 118917)"
            ],
            "text/plain": [
              "<IPython.core.display.Javascript object>"
            ]
          },
          "metadata": {}
        },
        {
          "output_type": "stream",
          "name": "stdout",
          "text": [
            "\n",
            "\n",
            "            method  params  params_train  msg_id  label     p_sigmoid  pred  \\\n",
            "12  one-hot (300)     301           301   27417      1  9.995973e-01     1   \n",
            "15  one-hot (300)     301           301    8408      0  5.601799e-14     0   \n",
            "20  one-hot (300)     301           301   27165      1  7.841033e-01     1   \n",
            "21  one-hot (300)     301           301   14574      0  4.269349e-16     0   \n",
            "26  one-hot (300)     301           301   20124      0  2.196457e-03     0   \n",
            "28  one-hot (300)     301           301   42970      1  8.601922e-01     1   \n",
            "31  one-hot (300)     301           301   36297      1  3.395829e-01     0   \n",
            "45  one-hot (300)     301           301   32661      1  9.694166e-01     1   \n",
            "47  one-hot (300)     301           301   34126      1  1.000000e+00     1   \n",
            "56  one-hot (300)     301           301   19016      0  7.965876e-04     0   \n",
            "\n",
            "    correct  tp  fp  tn  fn  \n",
            "12        1   1   0   0   0  \n",
            "15        1   0   0   1   0  \n",
            "20        1   1   0   0   0  \n",
            "21        1   0   0   1   0  \n",
            "26        1   0   0   1   0  \n",
            "28        1   1   0   0   0  \n",
            "31        0   0   0   0   1  \n",
            "45        1   1   0   0   0  \n",
            "47        1   1   0   0   0  \n",
            "56        1   0   0   1   0  \n"
          ]
        }
      ]
    }
  ]
}