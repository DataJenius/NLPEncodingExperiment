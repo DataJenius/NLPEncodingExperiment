{
  "nbformat": 4,
  "nbformat_minor": 0,
  "metadata": {
    "colab": {
      "name": " NLPEncodingExperiment_onehot300.ipynb",
      "provenance": [],
      "machine_shape": "hm",
      "include_colab_link": true
    },
    "kernelspec": {
      "name": "python3",
      "display_name": "Python 3"
    },
    "language_info": {
      "name": "python"
    }
  },
  "cells": [
    {
      "cell_type": "markdown",
      "metadata": {
        "id": "view-in-github",
        "colab_type": "text"
      },
      "source": [
        "<a href=\"https://colab.research.google.com/github/DataJenius/NLPEncodingExperiment/blob/main/python/NLPEncodingExperiment_onehot300.ipynb\" target=\"_parent\"><img src=\"https://colab.research.google.com/assets/colab-badge.svg\" alt=\"Open In Colab\"/></a>"
      ]
    },
    {
      "cell_type": "code",
      "source": [
        "#######################################################################################################\n",
        "# define our model using StepByStep framework by Daniel Voigt Godoy\n",
        "# https://pytorchstepbystep.com/\n",
        "try:\n",
        "    import google.colab\n",
        "    import requests\n",
        "    url = 'https://raw.githubusercontent.com/dvgodoy/PyTorchStepByStep/master/config.py'\n",
        "    r = requests.get(url, allow_redirects=True)\n",
        "    open('config.py', 'wb').write(r.content)    \n",
        "except ModuleNotFoundError:\n",
        "    pass\n",
        "\n",
        "from config import *\n",
        "config_chapter11()"
      ],
      "metadata": {
        "colab": {
          "base_uri": "https://localhost:8080/"
        },
        "id": "EjcdrThgk6qX",
        "outputId": "00389550-0006-4a87-c591-cd023b5a7baf"
      },
      "execution_count": null,
      "outputs": [
        {
          "output_type": "stream",
          "name": "stdout",
          "text": [
            "Downloading files from GitHub repo to Colab...\n",
            "Finished!\n"
          ]
        }
      ]
    },
    {
      "cell_type": "code",
      "source": [
        "###########################################\n",
        "# load all dependencies\n",
        "import pandas as pd\n",
        "import numpy as np\n",
        "\n",
        "import torch\n",
        "import torch.optim as optim\n",
        "import torch.nn as nn\n",
        "import torch.functional as F\n",
        "from torch.utils.data import DataLoader, TensorDataset\n",
        "\n",
        "from stepbystep.v4 import StepByStep\n",
        "\n",
        "from google.colab import files"
      ],
      "metadata": {
        "id": "ycfO9KuqXsLv"
      },
      "execution_count": null,
      "outputs": []
    },
    {
      "cell_type": "code",
      "source": [
        "######################################################################################\n",
        "# our labelled, one-hot encoded data is on github\n",
        "# already broken into 5 validation groups for the sake of 5 models\n",
        "# use 20% of data for val, 20% for test, and keep 60% for training\n",
        "all_files = ['https://raw.githubusercontent.com/DataJenius/EmbeddingsDeepDive/main/data/v2/data_v2_comments_with_labels_onehot300_group1.csv',\n",
        "             'https://raw.githubusercontent.com/DataJenius/EmbeddingsDeepDive/main/data/v2/data_v2_comments_with_labels_onehot300_group2.csv',\n",
        "             'https://raw.githubusercontent.com/DataJenius/EmbeddingsDeepDive/main/data/v2/data_v2_comments_with_labels_onehot300_group3.csv',\n",
        "             'https://raw.githubusercontent.com/DataJenius/EmbeddingsDeepDive/main/data/v2/data_v2_comments_with_labels_onehot300_group4.csv',\n",
        "             'https://raw.githubusercontent.com/DataJenius/EmbeddingsDeepDive/main/data/v2/data_v2_comments_with_labels_onehot300_group5.csv']\n",
        "\n",
        "# concat into a single dataframe and shuffle the contents\n",
        "df_from_each_file = (pd.read_csv(f) for f in all_files)\n",
        "df_all_data   = pd.concat(df_from_each_file, ignore_index=True)\n",
        "df_all_data = df_all_data.sample(frac=1).reset_index(drop=True)\n",
        "\n",
        "# make sure we loaded what we think we did\n",
        "print(df_all_data.head())\n",
        "print(df_all_data.shape)"
      ],
      "metadata": {
        "colab": {
          "base_uri": "https://localhost:8080/"
        },
        "id": "5Mz2-FHvWZQV",
        "outputId": "4c9c6e0b-c803-45c7-de77-3bffa0073ceb"
      },
      "execution_count": null,
      "outputs": [
        {
          "output_type": "stream",
          "name": "stdout",
          "text": [
            "   msg_id  val_group  label  absolutely  action  actors  actual  adaptation  \\\n",
            "0   16194          4      0           0       1       0       0           0   \n",
            "1    9034          3      0           0       0       0       0           0   \n",
            "2   37106          3      1           0       0       0       0           0   \n",
            "3   44159          2      1           0       0       0       0           0   \n",
            "4   45675          5      1           0       0       1       0           0   \n",
            "\n",
            "   age  ago  ...  wouldnt  wouldve  write  writers  writing  written  wrong  \\\n",
            "0    0    0  ...        0        0      0        0        0        0      0   \n",
            "1    0    0  ...        0        0      0        0        0        0      0   \n",
            "2    0    0  ...        0        0      0        0        0        0      0   \n",
            "3    0    0  ...        0        0      0        0        0        0      0   \n",
            "4    0    0  ...        0        0      0        0        0        0      0   \n",
            "\n",
            "   wrote  yeah  youre  \n",
            "0      0     0      1  \n",
            "1      0     0      0  \n",
            "2      0     0      1  \n",
            "3      0     0      0  \n",
            "4      1     0      0  \n",
            "\n",
            "[5 rows x 303 columns]\n",
            "(10000, 303)\n"
          ]
        }
      ]
    },
    {
      "cell_type": "code",
      "source": [
        "###############################################################################################\n",
        "###############################################################################################\n",
        "###############################################################################################\n",
        "# All 5 experiments below will reuse everything above this line\n",
        "###############################################################################################\n",
        "###############################################################################################\n",
        "###############################################################################################"
      ],
      "metadata": {
        "id": "653lKKFupxzT"
      },
      "execution_count": null,
      "outputs": []
    },
    {
      "cell_type": "code",
      "source": [
        "######################################################################################\n",
        "# our data is already split into 5 validation groups, fully labelled\n",
        "# change the `validation_test` below to re-train/test 5 times \n",
        "validation_group = 5 # set 1 to 5\n",
        "\n",
        "# setup this experiment\n",
        "test_input_method = 'one-hot (300)'\n",
        "test_group = validation_group+1 \n",
        "if test_group > 5: test_group = 1\n",
        "print(test_input_method+\" validation test #\"+str(validation_group)+\" using group #\"+str(test_group)+\" as holdout for testing\")\n",
        "\n",
        "# split into val/test/train based on validation group \n",
        "df_val = df_all_data.loc[df_all_data['val_group'] == validation_group]\n",
        "df_test = df_all_data.loc[df_all_data['val_group'] == test_group]\n",
        "df_train = df_all_data.loc[~df_all_data['val_group'].isin([validation_group,test_group])]\n",
        "print(\"\\n\\nval - group \",df_val['val_group'].unique())\n",
        "print(df_val.head())\n",
        "print(\"\\n\\ntest - group \",df_test['val_group'].unique())\n",
        "print(df_test.head())\n",
        "print(\"\\n\\ntrain - group \",df_train['val_group'].unique())\n",
        "print(df_train.head())\n",
        "\n",
        "# extract our labels into tensors \n",
        "val_labels_tensor = torch.as_tensor(df_val['label'].to_numpy().reshape(-1, 1)).float()\n",
        "test_labels_tensor = torch.as_tensor(df_test['label'].to_numpy().reshape(-1, 1)).float()\n",
        "train_labels_tensor = torch.as_tensor(df_train['label'].to_numpy().reshape(-1, 1)).float()\n",
        "print(\"\\n\\nLabel Tensors:\")\n",
        "print(\"val - \",val_labels_tensor.shape)\n",
        "print(\"test - \",test_labels_tensor.shape)\n",
        "print(\"train - \",train_labels_tensor.shape)\n",
        "\n",
        "# extract our features into tensors \n",
        "df_val_features = df_val.loc[:, ~df_val.columns.isin(['msg_id', 'val_group', 'label'])]\n",
        "val_features_tensor = torch.as_tensor(df_val_features.to_numpy()).float()\n",
        "df_test_features = df_test.loc[:, ~df_test.columns.isin(['msg_id', 'val_group', 'label'])]\n",
        "test_features_tensor = torch.as_tensor(df_test_features.to_numpy()).float()\n",
        "df_train_features = df_train.loc[:, ~df_train.columns.isin(['msg_id', 'val_group', 'label'])]\n",
        "train_features_tensor = torch.as_tensor(df_train_features.to_numpy()).float()\n",
        "print(\"\\n\\nFeature Tensors:\")\n",
        "print(\"val - \",val_features_tensor.shape)\n",
        "print(\"test - \",test_features_tensor.shape)\n",
        "print(\"train - \",train_features_tensor.shape)"
      ],
      "metadata": {
        "colab": {
          "base_uri": "https://localhost:8080/"
        },
        "id": "RjoyDMOgYNCv",
        "outputId": "ba802f9c-905d-4be1-dc42-e5c943133b39"
      },
      "execution_count": null,
      "outputs": [
        {
          "output_type": "stream",
          "name": "stdout",
          "text": [
            "one-hot (300) validation test #5 using group #1 as holdout for testing\n",
            "\n",
            "\n",
            "val - group  [5]\n",
            "    msg_id  val_group  label  absolutely  action  actors  actual  adaptation  \\\n",
            "4    45675          5      1           0       0       1       0           0   \n",
            "5    13199          5      0           0       1       0       0           0   \n",
            "13   44575          5      1           0       0       0       0           0   \n",
            "20    4877          5      0           0       0       0       0           0   \n",
            "28   26494          5      1           0       0       0       1           0   \n",
            "\n",
            "    age  ago  ...  wouldnt  wouldve  write  writers  writing  written  wrong  \\\n",
            "4     0    0  ...        0        0      0        0        0        0      0   \n",
            "5     0    0  ...        0        0      0        0        1        0      0   \n",
            "13    0    0  ...        0        0      0        0        0        0      0   \n",
            "20    0    0  ...        0        0      0        0        0        0      0   \n",
            "28    0    0  ...        0        0      0        0        0        0      0   \n",
            "\n",
            "    wrote  yeah  youre  \n",
            "4       1     0      0  \n",
            "5       0     0      0  \n",
            "13      0     0      0  \n",
            "20      0     0      0  \n",
            "28      0     0      0  \n",
            "\n",
            "[5 rows x 303 columns]\n",
            "\n",
            "\n",
            "test - group  [1]\n",
            "    msg_id  val_group  label  absolutely  action  actors  actual  adaptation  \\\n",
            "12   48884          1      1           0       0       0       0           0   \n",
            "14   31742          1      1           0       0       1       0           0   \n",
            "23     924          1      0           0       0       0       0           0   \n",
            "25   16444          1      0           0       0       0       0           0   \n",
            "30   19530          1      0           0       0       0       0           0   \n",
            "\n",
            "    age  ago  ...  wouldnt  wouldve  write  writers  writing  written  wrong  \\\n",
            "12    0    0  ...        0        0      0        0        0        0      0   \n",
            "14    0    0  ...        0        0      0        0        0        0      0   \n",
            "23    0    0  ...        0        0      0        0        0        0      0   \n",
            "25    0    0  ...        0        0      0        0        0        0      0   \n",
            "30    0    0  ...        0        0      0        0        0        0      0   \n",
            "\n",
            "    wrote  yeah  youre  \n",
            "12      0     0      0  \n",
            "14      0     0      0  \n",
            "23      0     0      0  \n",
            "25      0     0      0  \n",
            "30      0     0      0  \n",
            "\n",
            "[5 rows x 303 columns]\n",
            "\n",
            "\n",
            "train - group  [4 3 2]\n",
            "   msg_id  val_group  label  absolutely  action  actors  actual  adaptation  \\\n",
            "0   16194          4      0           0       1       0       0           0   \n",
            "1    9034          3      0           0       0       0       0           0   \n",
            "2   37106          3      1           0       0       0       0           0   \n",
            "3   44159          2      1           0       0       0       0           0   \n",
            "6    7293          4      0           0       0       0       0           0   \n",
            "\n",
            "   age  ago  ...  wouldnt  wouldve  write  writers  writing  written  wrong  \\\n",
            "0    0    0  ...        0        0      0        0        0        0      0   \n",
            "1    0    0  ...        0        0      0        0        0        0      0   \n",
            "2    0    0  ...        0        0      0        0        0        0      0   \n",
            "3    0    0  ...        0        0      0        0        0        0      0   \n",
            "6    0    0  ...        0        0      0        0        0        0      0   \n",
            "\n",
            "   wrote  yeah  youre  \n",
            "0      0     0      1  \n",
            "1      0     0      0  \n",
            "2      0     0      1  \n",
            "3      0     0      0  \n",
            "6      0     1      0  \n",
            "\n",
            "[5 rows x 303 columns]\n",
            "\n",
            "\n",
            "Label Tensors:\n",
            "val -  torch.Size([2000, 1])\n",
            "test -  torch.Size([2000, 1])\n",
            "train -  torch.Size([6000, 1])\n",
            "\n",
            "\n",
            "Feature Tensors:\n",
            "val -  torch.Size([2000, 300])\n",
            "test -  torch.Size([2000, 300])\n",
            "train -  torch.Size([6000, 300])\n"
          ]
        }
      ]
    },
    {
      "cell_type": "code",
      "source": [
        "######################################################################################\n",
        "# build a TensorDataset containing ALL data points for train/val\n",
        "train_dataset = TensorDataset(train_features_tensor, train_labels_tensor)\n",
        "val_dataset = TensorDataset(val_features_tensor, val_labels_tensor)\n",
        "\n",
        "# build a loader of each set\n",
        "train_loader = DataLoader(dataset=train_dataset, batch_size=32, shuffle=True)\n",
        "val_loader = DataLoader(dataset=val_dataset, batch_size=32)\n",
        "print(train_loader)\n",
        "print(val_loader)"
      ],
      "metadata": {
        "colab": {
          "base_uri": "https://localhost:8080/"
        },
        "id": "XsuxLdyKgV66",
        "outputId": "ba897e70-e618-4721-b04c-270713ece33f"
      },
      "execution_count": null,
      "outputs": [
        {
          "output_type": "stream",
          "name": "stdout",
          "text": [
            "<torch.utils.data.dataloader.DataLoader object at 0x7f08c14f5910>\n",
            "<torch.utils.data.dataloader.DataLoader object at 0x7f08c14f5d50>\n"
          ]
        }
      ]
    },
    {
      "cell_type": "code",
      "source": [
        "###############################################################################################\n",
        "# use same model structure, just change embeddings into this one-hot input instead\n",
        "torch.manual_seed(101)\n",
        "\n",
        "# define our model using StepByStep framework by Daniel Voigt Godoy\n",
        "# https://pytorchstepbystep.com/ \n",
        "model = nn.Sequential(\n",
        "    nn.Linear(300, 1) \n",
        ")\n",
        "loss_fn = nn.BCEWithLogitsLoss()\n",
        "optimizer = optim.Adam(model.parameters(), lr=0.01)\n",
        "\n",
        "\n",
        "# get details about the model\n",
        "def count_all_parameters(model):\n",
        "    return sum(p.numel() for p in model.parameters())\n",
        "def count_trainable_parameters(model):\n",
        "    return sum(p.numel() for p in model.parameters() if p.requires_grad)\n",
        "num_params = count_all_parameters(model)\n",
        "num_params_train = count_trainable_parameters(model)\n",
        "print(model)\n",
        "print(num_params, \"total params\")\n",
        "print(num_params_train, \"trainable params\")"
      ],
      "metadata": {
        "colab": {
          "base_uri": "https://localhost:8080/"
        },
        "id": "gGIKRFVni176",
        "outputId": "8cd123c8-19a7-441a-ad7a-fefce039c476"
      },
      "execution_count": null,
      "outputs": [
        {
          "output_type": "stream",
          "name": "stdout",
          "text": [
            "Sequential(\n",
            "  (0): Linear(in_features=300, out_features=1, bias=True)\n",
            ")\n",
            "301 total params\n",
            "301 trainable params\n"
          ]
        }
      ]
    },
    {
      "cell_type": "code",
      "source": [
        "###############################################################################################\n",
        "# train the model - only takes about 10s for 20 epochs, 1m for 100 epochs\n",
        "sbs_oh = StepByStep(model, loss_fn, optimizer)\n",
        "sbs_oh.set_loaders(train_loader, val_loader)\n",
        "sbs_oh.train(100)\n",
        "\n",
        "# plot loss over epochs\n",
        "fig = sbs_oh.plot_losses()"
      ],
      "metadata": {
        "colab": {
          "base_uri": "https://localhost:8080/",
          "height": 289
        },
        "id": "7etubDytXVgq",
        "outputId": "1f43fdcf-fe4e-46ce-d9ac-2fcbc699eb97"
      },
      "execution_count": null,
      "outputs": [
        {
          "output_type": "display_data",
          "data": {
            "image/png": "[encoded data removed]",
            "text/plain": [
              "<Figure size 720x288 with 1 Axes>"
            ]
          },
          "metadata": {}
        }
      ]
    },
    {
      "cell_type": "code",
      "source": [
        "##############################################################\n",
        "# how well does this model do with data it has never seen?\n",
        "sbs_oh.model.eval()\n",
        "out = sbs_oh.model(test_features_tensor)\n",
        "\n",
        "# record detailed predictions for this model\n",
        "df_experiment_results = pd.DataFrame({'method': test_input_method,\n",
        "                                      'params': num_params,\n",
        "                                      'params_train': num_params_train, \n",
        "                                      'val_group': validation_group,\n",
        "                                      'test_group': test_group,                                      \n",
        "                                      'p_token_coverage': 0,\n",
        "                                      'msg_id': df_test['msg_id'],\n",
        "                                      'label': df_test['label'],\n",
        "                                      'p_sigmoid': torch.sigmoid(out).squeeze().tolist()}) \n",
        "df_experiment_results['pred'] = np.where(df_experiment_results['p_sigmoid']>0.5, 1, 0)\n",
        "df_experiment_results['correct'] = np.where(df_experiment_results['pred']==df_experiment_results['label'], 1, 0)\n",
        "df_experiment_results['tp'] = np.where((df_experiment_results['pred']==1) & (df_experiment_results['label']==1), 1, 0)\n",
        "df_experiment_results['fp'] = np.where((df_experiment_results['pred']==1) & (df_experiment_results['label']==0), 1, 0)\n",
        "df_experiment_results['tn'] = np.where((df_experiment_results['pred']==0) & (df_experiment_results['label']==0), 1, 0)\n",
        "df_experiment_results['fn'] = np.where((df_experiment_results['pred']==0) & (df_experiment_results['label']==1), 1, 0)\n",
        "\n",
        "# calculate metrics\n",
        "tp = df_experiment_results[\"tp\"].sum()\n",
        "fp = df_experiment_results[\"fp\"].sum()\n",
        "tn = df_experiment_results[\"tn\"].sum()\n",
        "fn = df_experiment_results[\"fn\"].sum()\n",
        "prec = tp/(tp+fp)\n",
        "recall = tp/(tp+fn)\n",
        "\n",
        "# show our metrics\n",
        "print(\"ACC: \",df_experiment_results[\"correct\"].mean())\n",
        "print(\"Precision: \",prec)\n",
        "print(\"Recall: \", recall)\n",
        "\n",
        "# save results to local CSV\n",
        "file_name = 'results_'+test_input_method+'_test_'+str(validation_group)+'.csv'\n",
        "df_experiment_results.to_csv(file_name, index=False) \n",
        "files.download(file_name)\n",
        "print(\"\\n\\n\",df_experiment_results.head(10))"
      ],
      "metadata": {
        "id": "dhpYKa2cZOc8",
        "colab": {
          "base_uri": "https://localhost:8080/",
          "height": 731
        },
        "outputId": "585c9ae8-e96e-466f-8210-66d9274b77e9"
      },
      "execution_count": null,
      "outputs": [
        {
          "output_type": "stream",
          "name": "stdout",
          "text": [
            "ACC:  0.918\n",
            "Precision:  0.9138613861386139\n",
            "Recall:  0.923\n"
          ]
        },
        {
          "output_type": "display_data",
          "data": {
            "application/javascript": [
              "\n",
              "    async function download(id, filename, size) {\n",
              "      if (!google.colab.kernel.accessAllowed) {\n",
              "        return;\n",
              "      }\n",
              "      const div = document.createElement('div');\n",
              "      const label = document.createElement('label');\n",
              "      label.textContent = `Downloading \"${filename}\": `;\n",
              "      div.appendChild(label);\n",
              "      const progress = document.createElement('progress');\n",
              "      progress.max = size;\n",
              "      div.appendChild(progress);\n",
              "      document.body.appendChild(div);\n",
              "\n",
              "      const buffers = [];\n",
              "      let downloaded = 0;\n",
              "\n",
              "      const channel = await google.colab.kernel.comms.open(id);\n",
              "      // Send a message to notify the kernel that we're ready.\n",
              "      channel.send({})\n",
              "\n",
              "      for await (const message of channel.messages) {\n",
              "        // Send a message to notify the kernel that we're ready.\n",
              "        channel.send({})\n",
              "        if (message.buffers) {\n",
              "          for (const buffer of message.buffers) {\n",
              "            buffers.push(buffer);\n",
              "            downloaded += buffer.byteLength;\n",
              "            progress.value = downloaded;\n",
              "          }\n",
              "        }\n",
              "      }\n",
              "      const blob = new Blob(buffers, {type: 'application/binary'});\n",
              "      const a = document.createElement('a');\n",
              "      a.href = window.URL.createObjectURL(blob);\n",
              "      a.download = filename;\n",
              "      div.appendChild(a);\n",
              "      a.click();\n",
              "      div.remove();\n",
              "    }\n",
              "  "
            ],
            "text/plain": [
              "<IPython.core.display.Javascript object>"
            ]
          },
          "metadata": {}
        },
        {
          "output_type": "display_data",
          "data": {
            "application/javascript": [
              "download(\"download_7941be80-5900-496e-859f-df374ff9994c\", \"results_one-hot (300)_test_5.csv\", 130423)"
            ],
            "text/plain": [
              "<IPython.core.display.Javascript object>"
            ]
          },
          "metadata": {}
        },
        {
          "output_type": "stream",
          "name": "stdout",
          "text": [
            "\n",
            "\n",
            "            method  params  params_train  val_group  test_group  \\\n",
            "12  one-hot (300)     301           301          5           1   \n",
            "14  one-hot (300)     301           301          5           1   \n",
            "23  one-hot (300)     301           301          5           1   \n",
            "25  one-hot (300)     301           301          5           1   \n",
            "30  one-hot (300)     301           301          5           1   \n",
            "35  one-hot (300)     301           301          5           1   \n",
            "37  one-hot (300)     301           301          5           1   \n",
            "41  one-hot (300)     301           301          5           1   \n",
            "50  one-hot (300)     301           301          5           1   \n",
            "55  one-hot (300)     301           301          5           1   \n",
            "\n",
            "    p_token_coverage  msg_id  label     p_sigmoid  pred  correct  tp  fp  tn  \\\n",
            "12                 0   48884      1  4.537869e-01     0        0   0   0   0   \n",
            "14                 0   31742      1  9.662976e-01     1        1   1   0   0   \n",
            "23                 0     924      0  1.021797e-08     0        1   0   0   1   \n",
            "25                 0   16444      0  3.958436e-02     0        1   0   0   1   \n",
            "30                 0   19530      0  8.340865e-21     0        1   0   0   1   \n",
            "35                 0    9745      0  8.252695e-01     1        0   0   1   0   \n",
            "37                 0    4274      0  3.741967e-01     0        1   0   0   1   \n",
            "41                 0    2352      0  1.109959e-02     0        1   0   0   1   \n",
            "50                 0   12052      0  5.694630e-10     0        1   0   0   1   \n",
            "55                 0   12836      0  1.361918e-10     0        1   0   0   1   \n",
            "\n",
            "    fn  \n",
            "12   1  \n",
            "14   0  \n",
            "23   0  \n",
            "25   0  \n",
            "30   0  \n",
            "35   0  \n",
            "37   0  \n",
            "41   0  \n",
            "50   0  \n",
            "55   0  \n"
          ]
        }
      ]
    }
  ]
}