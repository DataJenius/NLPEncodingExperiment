{
  "nbformat": 4,
  "nbformat_minor": 0,
  "metadata": {
    "colab": {
      "name": "NLPEncodingExperiment_onehot768.ipynb",
      "provenance": [],
      "machine_shape": "hm",
      "include_colab_link": true
    },
    "kernelspec": {
      "name": "python3",
      "display_name": "Python 3"
    },
    "language_info": {
      "name": "python"
    }
  },
  "cells": [
    {
      "cell_type": "markdown",
      "metadata": {
        "id": "view-in-github",
        "colab_type": "text"
      },
      "source": [
        "<a href=\"https://colab.research.google.com/github/DataJenius/NLPEncodingExperiment/blob/main/python/NLPEncodingExperiment_onehot768.ipynb\" target=\"_parent\"><img src=\"https://colab.research.google.com/assets/colab-badge.svg\" alt=\"Open In Colab\"/></a>"
      ]
    },
    {
      "cell_type": "code",
      "source": [
        "#######################################################################################################\n",
        "# define our model using StepByStep framework by Daniel Voigt Godoy\n",
        "# https://pytorchstepbystep.com/\n",
        "try:\n",
        "    import google.colab\n",
        "    import requests\n",
        "    url = 'https://raw.githubusercontent.com/dvgodoy/PyTorchStepByStep/master/config.py'\n",
        "    r = requests.get(url, allow_redirects=True)\n",
        "    open('config.py', 'wb').write(r.content)    \n",
        "except ModuleNotFoundError:\n",
        "    pass\n",
        "\n",
        "from config import *\n",
        "config_chapter11()"
      ],
      "metadata": {
        "colab": {
          "base_uri": "https://localhost:8080/"
        },
        "id": "EjcdrThgk6qX",
        "outputId": "24a0f5b9-2185-4c8d-dc38-f299dd4c8338"
      },
      "execution_count": null,
      "outputs": [
        {
          "output_type": "stream",
          "name": "stdout",
          "text": [
            "Downloading files from GitHub repo to Colab...\n",
            "Finished!\n"
          ]
        }
      ]
    },
    {
      "cell_type": "code",
      "source": [
        "###########################################\n",
        "# load all dependencies\n",
        "import pandas as pd\n",
        "import numpy as np\n",
        "\n",
        "import torch\n",
        "import torch.optim as optim\n",
        "import torch.nn as nn\n",
        "import torch.functional as F\n",
        "from torch.utils.data import DataLoader, TensorDataset\n",
        "\n",
        "from stepbystep.v4 import StepByStep\n",
        "\n",
        "from google.colab import files"
      ],
      "metadata": {
        "id": "ycfO9KuqXsLv"
      },
      "execution_count": null,
      "outputs": []
    },
    {
      "cell_type": "code",
      "source": [
        "######################################################################################\n",
        "# our one-hot encoded data is on github\n",
        "all_files = ['https://raw.githubusercontent.com/DataJenius/NLPEncodingExperiment/main/data/input/one_hot768/one_hot_encoded768_group1.csv',\n",
        "             'https://raw.githubusercontent.com/DataJenius/NLPEncodingExperiment/main/data/input/one_hot768/one_hot_encoded768_group2.csv',\n",
        "             'https://raw.githubusercontent.com/DataJenius/NLPEncodingExperiment/main/data/input/one_hot768/one_hot_encoded768_group3.csv',\n",
        "             'https://raw.githubusercontent.com/DataJenius/NLPEncodingExperiment/main/data/input/one_hot768/one_hot_encoded768_group4.csv',\n",
        "             'https://raw.githubusercontent.com/DataJenius/NLPEncodingExperiment/main/data/input/one_hot768/one_hot_encoded768_group5.csv']\n",
        "# concat into a single dataframe and shuffle the contents\n",
        "df_from_each_file = (pd.read_csv(f) for f in all_files)\n",
        "df_all_data   = pd.concat(df_from_each_file, ignore_index=True)\n",
        "df_all_data = df_all_data.sample(frac=1).reset_index(drop=True)\n",
        "\n",
        "# make sure we loaded what we think we did\n",
        "print(df_all_data.head())\n",
        "print(df_all_data.shape)"
      ],
      "metadata": {
        "colab": {
          "base_uri": "https://localhost:8080/"
        },
        "id": "5Mz2-FHvWZQV",
        "outputId": "929fc81f-1cc2-46ee-96bf-5b5598d0b970"
      },
      "execution_count": null,
      "outputs": [
        {
          "output_type": "stream",
          "name": "stdout",
          "text": [
            "   msg_id  token_count  my_group   my_role  label  absolute  absolutely  act  \\\n",
            "0   42018           16         1     train      1         0           0    0   \n",
            "1    9448           26         4  validate      0         0           0    0   \n",
            "2   11571           13         1     train      0         0           0    0   \n",
            "3   23445           41         2     train      1         0           0    0   \n",
            "4     863           13         2     train      0         0           0    0   \n",
            "\n",
            "   acting  action  ...  written  wrong  wrote  xb  yeah  yoda  youd  youll  \\\n",
            "0       0       0  ...        0      0      0   0     0     0     0      0   \n",
            "1       0       0  ...        0      0      0   0     0     0     0      0   \n",
            "2       0       0  ...        0      0      0   0     0     0     0      0   \n",
            "3       0       0  ...        0      0      0   0     0     0     0      0   \n",
            "4       1       0  ...        0      0      0   0     0     0     0      0   \n",
            "\n",
            "   youre  youve  \n",
            "0      0      0  \n",
            "1      0      0  \n",
            "2      0      0  \n",
            "3      0      0  \n",
            "4      0      0  \n",
            "\n",
            "[5 rows x 773 columns]\n",
            "(10000, 773)\n"
          ]
        }
      ]
    },
    {
      "cell_type": "code",
      "source": [
        "######################################################################################\n",
        "# our data is already split into 5 groups, encoded and fully labelled\n",
        "\n",
        "# setup this experiment\n",
        "test_input_method = 'one-hot (768)'\n",
        "print(test_input_method+\" loading data...\")\n",
        "\n",
        "# split into val/test/train based on validation group \n",
        "df_train = df_all_data.loc[df_all_data['my_group'].isin([1,2,3])]\n",
        "df_val = df_all_data.loc[df_all_data['my_group'] == 4]\n",
        "df_test = df_all_data.loc[df_all_data['my_group'] == 5]\n",
        "\n",
        "print(\"\\n\\ntrain - groups \",df_train['my_group'].unique())\n",
        "print(df_train.head())\n",
        "print(\"\\n\\nval - group \",df_val['my_group'].unique())\n",
        "print(df_val.head())\n",
        "print(\"\\n\\ntest - group \",df_test['my_group'].unique())\n",
        "print(df_test.head())\n",
        "\n",
        "# extract our labels into tensors \n",
        "train_labels_tensor = torch.as_tensor(df_train['label'].to_numpy().reshape(-1, 1)).float()\n",
        "val_labels_tensor = torch.as_tensor(df_val['label'].to_numpy().reshape(-1, 1)).float()\n",
        "test_labels_tensor = torch.as_tensor(df_test['label'].to_numpy().reshape(-1, 1)).float()\n",
        "print(\"\\n\\nLabel Tensors:\")\n",
        "print(\"train - \",train_labels_tensor.shape)\n",
        "print(\"val - \",val_labels_tensor.shape)\n",
        "print(\"test - \",test_labels_tensor.shape)\n",
        "\n",
        "\n",
        "# extract our features into tensors \n",
        "df_train_features = df_train.loc[:, ~df_train.columns.isin(['msg_id','token_count','my_group','my_role','label'])]\n",
        "train_features_tensor = torch.as_tensor(df_train_features.to_numpy()).float()\n",
        "df_val_features = df_val.loc[:, ~df_val.columns.isin(['msg_id','token_count','my_group','my_role','label'])]\n",
        "val_features_tensor = torch.as_tensor(df_val_features.to_numpy()).float()\n",
        "df_test_features = df_test.loc[:, ~df_test.columns.isin(['msg_id','token_count','my_group','my_role','label'])]\n",
        "test_features_tensor = torch.as_tensor(df_test_features.to_numpy()).float()\n",
        "print(\"\\n\\nFeature Tensors:\")\n",
        "print(\"train - \",train_features_tensor.shape)\n",
        "print(\"val - \",val_features_tensor.shape)\n",
        "print(\"test - \",test_features_tensor.shape)\n"
      ],
      "metadata": {
        "colab": {
          "base_uri": "https://localhost:8080/"
        },
        "id": "RjoyDMOgYNCv",
        "outputId": "01f227a3-c3fd-4e6b-fc2a-f1dc9c667057"
      },
      "execution_count": null,
      "outputs": [
        {
          "output_type": "stream",
          "name": "stdout",
          "text": [
            "one-hot (768) loading data...\n",
            "\n",
            "\n",
            "train - groups  [1 2 3]\n",
            "   msg_id  token_count  my_group my_role  label  absolute  absolutely  act  \\\n",
            "0   42018           16         1   train      1         0           0    0   \n",
            "2   11571           13         1   train      0         0           0    0   \n",
            "3   23445           41         2   train      1         0           0    0   \n",
            "4     863           13         2   train      0         0           0    0   \n",
            "5   43739           15         2   train      1         0           0    0   \n",
            "\n",
            "   acting  action  ...  written  wrong  wrote  xb  yeah  yoda  youd  youll  \\\n",
            "0       0       0  ...        0      0      0   0     0     0     0      0   \n",
            "2       0       0  ...        0      0      0   0     0     0     0      0   \n",
            "3       0       0  ...        0      0      0   0     0     0     0      0   \n",
            "4       1       0  ...        0      0      0   0     0     0     0      0   \n",
            "5       0       0  ...        0      0      0   0     0     0     0      0   \n",
            "\n",
            "   youre  youve  \n",
            "0      0      0  \n",
            "2      0      0  \n",
            "3      0      0  \n",
            "4      0      0  \n",
            "5      0      0  \n",
            "\n",
            "[5 rows x 773 columns]\n",
            "\n",
            "\n",
            "val - group  [4]\n",
            "    msg_id  token_count  my_group   my_role  label  absolute  absolutely  act  \\\n",
            "1     9448           26         4  validate      0         0           0    0   \n",
            "6    12492           44         4  validate      0         0           0    0   \n",
            "17   41017           32         4  validate      1         0           0    0   \n",
            "18   33597          181         4  validate      1         0           0    0   \n",
            "36    1073           25         4  validate      0         0           0    0   \n",
            "\n",
            "    acting  action  ...  written  wrong  wrote  xb  yeah  yoda  youd  youll  \\\n",
            "1        0       0  ...        0      0      0   0     0     0     0      0   \n",
            "6        0       0  ...        0      0      0   0     0     0     0      0   \n",
            "17       0       0  ...        0      0      0   0     0     0     0      0   \n",
            "18       0       0  ...        0      0      0   0     0     0     0      0   \n",
            "36       0       0  ...        0      0      0   0     1     0     0      0   \n",
            "\n",
            "    youre  youve  \n",
            "1       0      0  \n",
            "6       0      0  \n",
            "17      0      0  \n",
            "18      0      0  \n",
            "36      0      0  \n",
            "\n",
            "[5 rows x 773 columns]\n",
            "\n",
            "\n",
            "test - group  [5]\n",
            "    msg_id  token_count  my_group my_role  label  absolute  absolutely  act  \\\n",
            "8    32578           25         5    test      1         0           0    0   \n",
            "12   26132           36         5    test      1         0           0    0   \n",
            "14   33590           74         5    test      1         0           0    0   \n",
            "25   28493           15         5    test      1         0           0    0   \n",
            "42   10312           17         5    test      0         0           0    0   \n",
            "\n",
            "    acting  action  ...  written  wrong  wrote  xb  yeah  yoda  youd  youll  \\\n",
            "8        0       0  ...        0      0      0   0     0     0     0      0   \n",
            "12       0       0  ...        0      0      0   0     0     0     0      0   \n",
            "14       0       0  ...        0      0      0   0     0     0     0      0   \n",
            "25       0       0  ...        0      0      0   0     0     0     0      0   \n",
            "42       0       0  ...        0      0      0   0     0     0     0      0   \n",
            "\n",
            "    youre  youve  \n",
            "8       0      0  \n",
            "12      0      0  \n",
            "14      0      0  \n",
            "25      0      0  \n",
            "42      0      0  \n",
            "\n",
            "[5 rows x 773 columns]\n",
            "\n",
            "\n",
            "Label Tensors:\n",
            "train -  torch.Size([6000, 1])\n",
            "val -  torch.Size([2000, 1])\n",
            "test -  torch.Size([2000, 1])\n",
            "\n",
            "\n",
            "Feature Tensors:\n",
            "train -  torch.Size([6000, 768])\n",
            "val -  torch.Size([2000, 768])\n",
            "test -  torch.Size([2000, 768])\n"
          ]
        }
      ]
    },
    {
      "cell_type": "code",
      "source": [
        "######################################################################################\n",
        "# build a TensorDataset containing ALL data points for train/val\n",
        "train_dataset = TensorDataset(train_features_tensor, train_labels_tensor)\n",
        "val_dataset = TensorDataset(val_features_tensor, val_labels_tensor)\n",
        "\n",
        "# build a loader of each set\n",
        "train_loader = DataLoader(dataset=train_dataset, batch_size=32, shuffle=True)\n",
        "val_loader = DataLoader(dataset=val_dataset, batch_size=32)\n",
        "print(train_loader)\n",
        "print(val_loader)"
      ],
      "metadata": {
        "colab": {
          "base_uri": "https://localhost:8080/"
        },
        "id": "XsuxLdyKgV66",
        "outputId": "f4c9b468-a4df-4fc9-c004-f5ef7f8ff66a"
      },
      "execution_count": null,
      "outputs": [
        {
          "output_type": "stream",
          "name": "stdout",
          "text": [
            "<torch.utils.data.dataloader.DataLoader object at 0x7f25e8d79d50>\n",
            "<torch.utils.data.dataloader.DataLoader object at 0x7f25e8d79dd0>\n"
          ]
        }
      ]
    },
    {
      "cell_type": "code",
      "source": [
        "###############################################################################################\n",
        "# use same model structure, just change embeddings into this one-hot input instead\n",
        "torch.manual_seed(42)\n",
        "\n",
        "# define our model using StepByStep framework by Daniel Voigt Godoy\n",
        "# https://pytorchstepbystep.com/ \n",
        "model = nn.Sequential(\n",
        "    nn.Linear(768, 1) \n",
        ")\n",
        "loss_fn = nn.BCEWithLogitsLoss()\n",
        "optimizer = optim.Adam(model.parameters(), lr=0.01)\n",
        "\n",
        "\n",
        "# get details about the model\n",
        "def count_all_parameters(model):\n",
        "    return sum(p.numel() for p in model.parameters())\n",
        "def count_trainable_parameters(model):\n",
        "    return sum(p.numel() for p in model.parameters() if p.requires_grad)\n",
        "num_params = count_all_parameters(model)\n",
        "num_params_train = count_trainable_parameters(model)\n",
        "print(model)\n",
        "print(num_params, \"total params\")\n",
        "print(num_params_train, \"trainable params\")"
      ],
      "metadata": {
        "colab": {
          "base_uri": "https://localhost:8080/"
        },
        "id": "gGIKRFVni176",
        "outputId": "de10333b-1db7-42e8-f825-94d1787e8170"
      },
      "execution_count": null,
      "outputs": [
        {
          "output_type": "stream",
          "name": "stdout",
          "text": [
            "Sequential(\n",
            "  (0): Linear(in_features=768, out_features=1, bias=True)\n",
            ")\n",
            "769 total params\n",
            "769 trainable params\n"
          ]
        }
      ]
    },
    {
      "cell_type": "code",
      "source": [
        "###############################################################################################\n",
        "# train the model - only takes about 10s for 20 epochs, 1m for 100 epochs\n",
        "sbs_oh = StepByStep(model, loss_fn, optimizer)\n",
        "sbs_oh.set_loaders(train_loader, val_loader)\n",
        "sbs_oh.train(100)\n",
        "\n",
        "# plot loss over epochs\n",
        "fig = sbs_oh.plot_losses()"
      ],
      "metadata": {
        "colab": {
          "base_uri": "https://localhost:8080/",
          "height": 289
        },
        "id": "7etubDytXVgq",
        "outputId": "7a4040cc-e4ae-458b-dab2-799dca120090"
      },
      "execution_count": null,
      "outputs": [
        {
          "output_type": "display_data",
          "data": {
            "image/png": "[encoded data removed]",
            "text/plain": [
              "<Figure size 720x288 with 1 Axes>"
            ]
          },
          "metadata": {}
        }
      ]
    },
    {
      "cell_type": "code",
      "source": [
        "##############################################################\n",
        "# how well does this model do with data it has never seen?\n",
        "sbs_oh.model.eval()\n",
        "out = sbs_oh.model(test_features_tensor)\n",
        "\n",
        "# record detailed predictions for this model\n",
        "df_experiment_results = pd.DataFrame({'method': test_input_method,\n",
        "                                      'params': num_params,\n",
        "                                      'params_train': num_params_train, \n",
        "                                      'msg_id': df_test['msg_id'],\n",
        "                                      'label': df_test['label'],\n",
        "                                      'p_sigmoid': torch.sigmoid(out).squeeze().tolist()}) \n",
        "df_experiment_results['pred'] = np.where(df_experiment_results['p_sigmoid']>0.5, 1, 0)\n",
        "df_experiment_results['correct'] = np.where(df_experiment_results['pred']==df_experiment_results['label'], 1, 0)\n",
        "df_experiment_results['tp'] = np.where((df_experiment_results['pred']==1) & (df_experiment_results['label']==1), 1, 0)\n",
        "df_experiment_results['fp'] = np.where((df_experiment_results['pred']==1) & (df_experiment_results['label']==0), 1, 0)\n",
        "df_experiment_results['tn'] = np.where((df_experiment_results['pred']==0) & (df_experiment_results['label']==0), 1, 0)\n",
        "df_experiment_results['fn'] = np.where((df_experiment_results['pred']==0) & (df_experiment_results['label']==1), 1, 0)\n",
        "\n",
        "# calculate metrics\n",
        "tp = df_experiment_results[\"tp\"].sum()\n",
        "fp = df_experiment_results[\"fp\"].sum()\n",
        "tn = df_experiment_results[\"tn\"].sum()\n",
        "fn = df_experiment_results[\"fn\"].sum()\n",
        "prec = tp/(tp+fp)\n",
        "recall = tp/(tp+fn)\n",
        "\n",
        "# show our metrics\n",
        "print(\"ACC: \",df_experiment_results[\"correct\"].mean())\n",
        "print(\"Precision: \",prec)\n",
        "print(\"Recall: \", recall)\n",
        "\n",
        "# save results to local CSV\n",
        "file_name = 'results_'+test_input_method+'.csv'\n",
        "df_experiment_results.to_csv(file_name, index=False) \n",
        "files.download(file_name)\n",
        "print(\"\\n\\n\",df_experiment_results.head(10))"
      ],
      "metadata": {
        "id": "dhpYKa2cZOc8",
        "colab": {
          "base_uri": "https://localhost:8080/",
          "height": 517
        },
        "outputId": "dda25e81-0d68-498d-e143-18141e1a3f55"
      },
      "execution_count": null,
      "outputs": [
        {
          "output_type": "stream",
          "name": "stdout",
          "text": [
            "ACC:  0.9155\n",
            "Precision:  0.9226856561546287\n",
            "Recall:  0.907\n"
          ]
        },
        {
          "output_type": "display_data",
          "data": {
            "application/javascript": [
              "\n",
              "    async function download(id, filename, size) {\n",
              "      if (!google.colab.kernel.accessAllowed) {\n",
              "        return;\n",
              "      }\n",
              "      const div = document.createElement('div');\n",
              "      const label = document.createElement('label');\n",
              "      label.textContent = `Downloading \"${filename}\": `;\n",
              "      div.appendChild(label);\n",
              "      const progress = document.createElement('progress');\n",
              "      progress.max = size;\n",
              "      div.appendChild(progress);\n",
              "      document.body.appendChild(div);\n",
              "\n",
              "      const buffers = [];\n",
              "      let downloaded = 0;\n",
              "\n",
              "      const channel = await google.colab.kernel.comms.open(id);\n",
              "      // Send a message to notify the kernel that we're ready.\n",
              "      channel.send({})\n",
              "\n",
              "      for await (const message of channel.messages) {\n",
              "        // Send a message to notify the kernel that we're ready.\n",
              "        channel.send({})\n",
              "        if (message.buffers) {\n",
              "          for (const buffer of message.buffers) {\n",
              "            buffers.push(buffer);\n",
              "            downloaded += buffer.byteLength;\n",
              "            progress.value = downloaded;\n",
              "          }\n",
              "        }\n",
              "      }\n",
              "      const blob = new Blob(buffers, {type: 'application/binary'});\n",
              "      const a = document.createElement('a');\n",
              "      a.href = window.URL.createObjectURL(blob);\n",
              "      a.download = filename;\n",
              "      div.appendChild(a);\n",
              "      a.click();\n",
              "      div.remove();\n",
              "    }\n",
              "  "
            ],
            "text/plain": [
              "<IPython.core.display.Javascript object>"
            ]
          },
          "metadata": {}
        },
        {
          "output_type": "display_data",
          "data": {
            "application/javascript": [
              "download(\"download_ab41660b-d52a-4750-a6e9-82bcdaf53e9e\", \"results_one-hot (768).csv\", 114745)"
            ],
            "text/plain": [
              "<IPython.core.display.Javascript object>"
            ]
          },
          "metadata": {}
        },
        {
          "output_type": "stream",
          "name": "stdout",
          "text": [
            "\n",
            "\n",
            "            method  params  params_train  msg_id  label     p_sigmoid  pred  \\\n",
            "8   one-hot (768)     769           769   32578      1  9.996100e-01     1   \n",
            "12  one-hot (768)     769           769   26132      1  9.999874e-01     1   \n",
            "14  one-hot (768)     769           769   33590      1  1.000000e+00     1   \n",
            "25  one-hot (768)     769           769   28493      1  9.917995e-01     1   \n",
            "42  one-hot (768)     769           769   10312      0  1.401566e-20     0   \n",
            "49  one-hot (768)     769           769    6114      0  4.066537e-05     0   \n",
            "52  one-hot (768)     769           769   40075      1  1.000000e+00     1   \n",
            "54  one-hot (768)     769           769   43414      1  9.955569e-01     1   \n",
            "55  one-hot (768)     769           769   36360      1  1.847825e-01     0   \n",
            "60  one-hot (768)     769           769   14337      0  9.509754e-10     0   \n",
            "\n",
            "    correct  tp  fp  tn  fn  \n",
            "8         1   1   0   0   0  \n",
            "12        1   1   0   0   0  \n",
            "14        1   1   0   0   0  \n",
            "25        1   1   0   0   0  \n",
            "42        1   0   0   1   0  \n",
            "49        1   0   0   1   0  \n",
            "52        1   1   0   0   0  \n",
            "54        1   1   0   0   0  \n",
            "55        0   0   0   0   1  \n",
            "60        1   0   0   1   0  \n"
          ]
        }
      ]
    }
  ]
}