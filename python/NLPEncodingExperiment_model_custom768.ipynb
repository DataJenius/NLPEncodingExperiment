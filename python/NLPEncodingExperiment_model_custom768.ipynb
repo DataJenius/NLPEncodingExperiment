{
  "nbformat": 4,
  "nbformat_minor": 0,
  "metadata": {
    "colab": {
      "name": "NLPEncodingExperiment_custom768.ipynb",
      "provenance": [],
      "machine_shape": "hm",
      "include_colab_link": true
    },
    "kernelspec": {
      "name": "python3",
      "display_name": "Python 3"
    },
    "language_info": {
      "name": "python"
    }
  },
  "cells": [
    {
      "cell_type": "markdown",
      "metadata": {
        "id": "view-in-github",
        "colab_type": "text"
      },
      "source": [
        "<a href=\"https://colab.research.google.com/github/DataJenius/NLPEncodingExperiment/blob/main/python/NLPEncodingExperiment_custom768.ipynb\" target=\"_parent\"><img src=\"https://colab.research.google.com/assets/colab-badge.svg\" alt=\"Open In Colab\"/></a>"
      ]
    },
    {
      "cell_type": "code",
      "source": [
        "#######################################################################################################\n",
        "# define our model using StepByStep framework by Daniel Voigt Godoy\n",
        "# https://pytorchstepbystep.com/\n",
        "try:\n",
        "    import google.colab\n",
        "    import requests\n",
        "    url = 'https://raw.githubusercontent.com/dvgodoy/PyTorchStepByStep/master/config.py'\n",
        "    r = requests.get(url, allow_redirects=True)\n",
        "    open('config.py', 'wb').write(r.content)    \n",
        "except ModuleNotFoundError:\n",
        "    pass\n",
        "\n",
        "from config import *\n",
        "config_chapter11()"
      ],
      "metadata": {
        "colab": {
          "base_uri": "https://localhost:8080/"
        },
        "id": "EjcdrThgk6qX",
        "outputId": "af945c60-e6bd-40d4-f0bc-fa2e27cf980a"
      },
      "execution_count": 1,
      "outputs": [
        {
          "output_type": "stream",
          "name": "stdout",
          "text": [
            "Downloading files from GitHub repo to Colab...\n",
            "Finished!\n"
          ]
        }
      ]
    },
    {
      "cell_type": "code",
      "source": [
        "###########################################\n",
        "# load all dependencies\n",
        "import pandas as pd\n",
        "import numpy as np\n",
        "\n",
        "import torch\n",
        "import torch.optim as optim\n",
        "import torch.nn as nn\n",
        "import torch.functional as F\n",
        "from torch.utils.data import DataLoader, TensorDataset\n",
        "\n",
        "from stepbystep.v4 import StepByStep\n",
        "\n",
        "from google.colab import files"
      ],
      "metadata": {
        "id": "ycfO9KuqXsLv"
      },
      "execution_count": 2,
      "outputs": []
    },
    {
      "cell_type": "code",
      "source": [
        "######################################################################################\n",
        "# our one-hot encoded data is on github\n",
        "all_files = ['https://raw.githubusercontent.com/DataJenius/NLPEncodingExperiment/main/data/input/custom768/custom_encoded768_group1A.csv',\n",
        "             'https://raw.githubusercontent.com/DataJenius/NLPEncodingExperiment/main/data/input/custom768/custom_encoded768_group1B.csv',\n",
        "             'https://raw.githubusercontent.com/DataJenius/NLPEncodingExperiment/main/data/input/custom768/custom_encoded768_group2A.csv',\n",
        "             'https://raw.githubusercontent.com/DataJenius/NLPEncodingExperiment/main/data/input/custom768/custom_encoded768_group2B.csv',\n",
        "             'https://raw.githubusercontent.com/DataJenius/NLPEncodingExperiment/main/data/input/custom768/custom_encoded768_group3A.csv',\n",
        "             'https://raw.githubusercontent.com/DataJenius/NLPEncodingExperiment/main/data/input/custom768/custom_encoded768_group3B.csv',\n",
        "             'https://raw.githubusercontent.com/DataJenius/NLPEncodingExperiment/main/data/input/custom768/custom_encoded768_group4A.csv',\n",
        "             'https://raw.githubusercontent.com/DataJenius/NLPEncodingExperiment/main/data/input/custom768/custom_encoded768_group4B.csv',\n",
        "             'https://raw.githubusercontent.com/DataJenius/NLPEncodingExperiment/main/data/input/custom768/custom_encoded768_group5A.csv',\n",
        "             'https://raw.githubusercontent.com/DataJenius/NLPEncodingExperiment/main/data/input/custom768/custom_encoded768_group5B.csv']\n",
        "# concat into a single dataframe and shuffle the contents\n",
        "df_from_each_file = (pd.read_csv(f) for f in all_files)\n",
        "df_all_data   = pd.concat(df_from_each_file, ignore_index=True)\n",
        "df_all_data = df_all_data.sample(frac=1).reset_index(drop=True)\n",
        "\n",
        "# make sure we loaded what we think we did\n",
        "print(df_all_data.head())\n",
        "print(df_all_data.shape)"
      ],
      "metadata": {
        "colab": {
          "base_uri": "https://localhost:8080/"
        },
        "id": "5Mz2-FHvWZQV",
        "outputId": "a63858f5-638a-4526-a526-352f9f7974ab"
      },
      "execution_count": 8,
      "outputs": [
        {
          "output_type": "stream",
          "name": "stdout",
          "text": [
            "   msg_id  token_count  my_group my_role  label      dim1      dim2      dim3  \\\n",
            "0    9370           16         2   train      0 -0.008082  0.001161  0.000775   \n",
            "1   41515           51         3   train      1 -0.008588 -0.005160  0.000241   \n",
            "2    8351           13         5    test      0 -0.008351  0.001011  0.001953   \n",
            "3   10836           32         1   train      0 -0.008077 -0.000908  0.000468   \n",
            "4   24419           27         5    test      1 -0.008454 -0.002397  0.000471   \n",
            "\n",
            "       dim4      dim5  ...    dim759    dim760    dim761    dim762    dim763  \\\n",
            "0  0.005845  0.000990  ...  0.001229 -0.000085  0.000382  0.001474  0.000392   \n",
            "1  0.000481 -0.002967  ... -0.001231 -0.002717  0.003446 -0.002939  0.000110   \n",
            "2  0.006415 -0.000787  ...  0.001648 -0.000707  0.001044  0.000233 -0.000596   \n",
            "3  0.005069 -0.000192  ...  0.000650 -0.000067 -0.000817 -0.000590  0.000050   \n",
            "4  0.003079 -0.002115  ...  0.001153 -0.000138 -0.000153 -0.000651 -0.000058   \n",
            "\n",
            "     dim764    dim765    dim766    dim767    dim768  \n",
            "0 -0.001505  0.001584  0.001382 -0.000207  0.000550  \n",
            "1 -0.001812  0.000591 -0.002307 -0.000229  0.002695  \n",
            "2 -0.000018  0.000712  0.000170 -0.002124  0.000062  \n",
            "3 -0.000189  0.000141 -0.000645 -0.000146  0.000326  \n",
            "4 -0.000485  0.001394 -0.001080  0.001843  0.000448  \n",
            "\n",
            "[5 rows x 773 columns]\n",
            "(10000, 773)\n"
          ]
        }
      ]
    },
    {
      "cell_type": "code",
      "source": [
        "######################################################################################\n",
        "# our data is already split into 5 groups, encoded and fully labelled\n",
        "\n",
        "# setup this experiment\n",
        "test_input_method = 'custom (768)'\n",
        "print(test_input_method+\" loading data...\")\n",
        "\n",
        "# split into val/test/train based on validation group \n",
        "df_train = df_all_data.loc[df_all_data['my_group'].isin([1,2,3])]\n",
        "df_val = df_all_data.loc[df_all_data['my_group'] == 4]\n",
        "df_test = df_all_data.loc[df_all_data['my_group'] == 5]\n",
        "\n",
        "print(\"\\n\\ntrain - groups \",df_train['my_group'].unique())\n",
        "print(df_train.head())\n",
        "print(\"\\n\\nval - group \",df_val['my_group'].unique())\n",
        "print(df_val.head())\n",
        "print(\"\\n\\ntest - group \",df_test['my_group'].unique())\n",
        "print(df_test.head())\n",
        "\n",
        "# extract our labels into tensors \n",
        "train_labels_tensor = torch.as_tensor(df_train['label'].to_numpy().reshape(-1, 1)).float()\n",
        "val_labels_tensor = torch.as_tensor(df_val['label'].to_numpy().reshape(-1, 1)).float()\n",
        "test_labels_tensor = torch.as_tensor(df_test['label'].to_numpy().reshape(-1, 1)).float()\n",
        "print(\"\\n\\nLabel Tensors:\")\n",
        "print(\"train - \",train_labels_tensor.shape)\n",
        "print(\"val - \",val_labels_tensor.shape)\n",
        "print(\"test - \",test_labels_tensor.shape)\n",
        "\n",
        "\n",
        "# extract our features into tensors \n",
        "df_train_features = df_train.loc[:, ~df_train.columns.isin(['msg_id','token_count','my_group','my_role','label'])]\n",
        "train_features_tensor = torch.as_tensor(df_train_features.to_numpy()).float()\n",
        "df_val_features = df_val.loc[:, ~df_val.columns.isin(['msg_id','token_count','my_group','my_role','label'])]\n",
        "val_features_tensor = torch.as_tensor(df_val_features.to_numpy()).float()\n",
        "df_test_features = df_test.loc[:, ~df_test.columns.isin(['msg_id','token_count','my_group','my_role','label'])]\n",
        "test_features_tensor = torch.as_tensor(df_test_features.to_numpy()).float()\n",
        "print(\"\\n\\nFeature Tensors:\")\n",
        "print(\"train - \",train_features_tensor.shape)\n",
        "print(\"val - \",val_features_tensor.shape)\n",
        "print(\"test - \",test_features_tensor.shape)\n"
      ],
      "metadata": {
        "colab": {
          "base_uri": "https://localhost:8080/"
        },
        "id": "RjoyDMOgYNCv",
        "outputId": "4ac8c493-fdff-4ac4-97ce-de886e76d4d2"
      },
      "execution_count": 9,
      "outputs": [
        {
          "output_type": "stream",
          "name": "stdout",
          "text": [
            "custom (768) loading data...\n",
            "\n",
            "\n",
            "train - groups  [2 3 1]\n",
            "   msg_id  token_count  my_group my_role  label      dim1      dim2      dim3  \\\n",
            "0    9370           16         2   train      0 -0.008082  0.001161  0.000775   \n",
            "1   41515           51         3   train      1 -0.008588 -0.005160  0.000241   \n",
            "3   10836           32         1   train      0 -0.008077 -0.000908  0.000468   \n",
            "5   32274          102         2   train      1 -0.008704 -0.003202  0.001194   \n",
            "7   21677           37         2   train      1 -0.007301 -0.002614 -0.000210   \n",
            "\n",
            "       dim4      dim5  ...    dim759    dim760    dim761    dim762    dim763  \\\n",
            "0  0.005845  0.000990  ...  0.001229 -0.000085  0.000382  0.001474  0.000392   \n",
            "1  0.000481 -0.002967  ... -0.001231 -0.002717  0.003446 -0.002939  0.000110   \n",
            "3  0.005069 -0.000192  ...  0.000650 -0.000067 -0.000817 -0.000590  0.000050   \n",
            "5 -0.001684 -0.001683  ... -0.000187  0.000351  0.000215  0.000843 -0.000626   \n",
            "7  0.002470 -0.001494  ...  0.001636  0.001419  0.003541 -0.000458  0.002136   \n",
            "\n",
            "     dim764    dim765    dim766    dim767    dim768  \n",
            "0 -0.001505  0.001584  0.001382 -0.000207  0.000550  \n",
            "1 -0.001812  0.000591 -0.002307 -0.000229  0.002695  \n",
            "3 -0.000189  0.000141 -0.000645 -0.000146  0.000326  \n",
            "5 -0.000868 -0.001110 -0.001009 -0.000386 -0.000175  \n",
            "7 -0.000059  0.000184 -0.001995 -0.003762 -0.000776  \n",
            "\n",
            "[5 rows x 773 columns]\n",
            "\n",
            "\n",
            "val - group  [4]\n",
            "    msg_id  token_count  my_group   my_role  label      dim1      dim2  \\\n",
            "6    25294           22         4  validate      1 -0.007792 -0.002451   \n",
            "29   24128           31         4  validate      1 -0.008372 -0.006089   \n",
            "31   29477           37         4  validate      1 -0.008938 -0.002536   \n",
            "38   16236           20         4  validate      0 -0.005252 -0.001303   \n",
            "39   15609           17         4  validate      0 -0.005322 -0.002337   \n",
            "\n",
            "        dim3      dim4      dim5  ...    dim759    dim760    dim761    dim762  \\\n",
            "6  -0.001217  0.001802 -0.001299  ... -0.000448  0.001452 -0.000213 -0.000734   \n",
            "29 -0.000508 -0.000520 -0.004002  ...  0.000133 -0.000239  0.000157  0.000038   \n",
            "31  0.002233  0.000353 -0.002595  ...  0.000853  0.000480  0.000751  0.001229   \n",
            "38 -0.000397  0.003407 -0.001127  ... -0.000500 -0.000809  0.001607 -0.002215   \n",
            "39 -0.000692  0.002266 -0.001283  ... -0.000512 -0.000995  0.000995 -0.001661   \n",
            "\n",
            "      dim763    dim764    dim765    dim766    dim767    dim768  \n",
            "6  -0.000488  0.000180  0.000725 -0.001351  0.000918  0.000093  \n",
            "29  0.001141 -0.000658  0.000965 -0.000324  0.000421 -0.000295  \n",
            "31 -0.000003 -0.001174 -0.000839 -0.000077  0.000091 -0.000261  \n",
            "38  0.003243 -0.000181  0.001173  0.002607  0.001063  0.002607  \n",
            "39  0.002437 -0.000920  0.001423  0.002636  0.000503  0.002892  \n",
            "\n",
            "[5 rows x 773 columns]\n",
            "\n",
            "\n",
            "test - group  [5]\n",
            "    msg_id  token_count  my_group my_role  label      dim1      dim2  \\\n",
            "2     8351           13         5    test      0 -0.008351  0.001011   \n",
            "4    24419           27         5    test      1 -0.008454 -0.002397   \n",
            "8     2467           72         5    test      0 -0.009378  0.001295   \n",
            "10   27047           17         5    test      1 -0.007664 -0.002756   \n",
            "13   21885           35         5    test      1 -0.008054 -0.003680   \n",
            "\n",
            "        dim3      dim4      dim5  ...    dim759    dim760    dim761    dim762  \\\n",
            "2   0.001953  0.006415 -0.000787  ...  0.001648 -0.000707  0.001044  0.000233   \n",
            "4   0.000471  0.003079 -0.002115  ...  0.001153 -0.000138 -0.000153 -0.000651   \n",
            "8  -0.000131  0.005167  0.000255  ... -0.000025 -0.001035  0.000569 -0.000565   \n",
            "10  0.000060  0.000985 -0.000359  ...  0.002352 -0.000111 -0.000544 -0.000645   \n",
            "13 -0.000687 -0.000882  0.004696  ...  0.000010  0.000791  0.001116 -0.001561   \n",
            "\n",
            "      dim763    dim764    dim765    dim766    dim767    dim768  \n",
            "2  -0.000596 -0.000018  0.000712  0.000170 -0.002124  0.000062  \n",
            "4  -0.000058 -0.000485  0.001394 -0.001080  0.001843  0.000448  \n",
            "8   0.000150  0.001139  0.000533 -0.000311 -0.001023  0.001443  \n",
            "10  0.000498  0.001414 -0.000769 -0.000341  0.001805 -0.001142  \n",
            "13 -0.000387  0.001498  0.000523  0.000215 -0.000218 -0.000008  \n",
            "\n",
            "[5 rows x 773 columns]\n",
            "\n",
            "\n",
            "Label Tensors:\n",
            "train -  torch.Size([6000, 1])\n",
            "val -  torch.Size([2000, 1])\n",
            "test -  torch.Size([2000, 1])\n",
            "\n",
            "\n",
            "Feature Tensors:\n",
            "train -  torch.Size([6000, 768])\n",
            "val -  torch.Size([2000, 768])\n",
            "test -  torch.Size([2000, 768])\n"
          ]
        }
      ]
    },
    {
      "cell_type": "code",
      "source": [
        "######################################################################################\n",
        "# build a TensorDataset containing ALL data points for train/val\n",
        "train_dataset = TensorDataset(train_features_tensor, train_labels_tensor)\n",
        "val_dataset = TensorDataset(val_features_tensor, val_labels_tensor)\n",
        "\n",
        "# build a loader of each set\n",
        "train_loader = DataLoader(dataset=train_dataset, batch_size=32, shuffle=True)\n",
        "val_loader = DataLoader(dataset=val_dataset, batch_size=32)\n",
        "print(train_loader)\n",
        "print(val_loader)"
      ],
      "metadata": {
        "colab": {
          "base_uri": "https://localhost:8080/"
        },
        "id": "XsuxLdyKgV66",
        "outputId": "fec44e02-f1bd-40c8-b6f4-0cbeb841b06b"
      },
      "execution_count": 10,
      "outputs": [
        {
          "output_type": "stream",
          "name": "stdout",
          "text": [
            "<torch.utils.data.dataloader.DataLoader object at 0x7f3166237450>\n",
            "<torch.utils.data.dataloader.DataLoader object at 0x7f3166237b10>\n"
          ]
        }
      ]
    },
    {
      "cell_type": "code",
      "source": [
        "###############################################################################################\n",
        "# use same model structure, just change embeddings into this one-hot input instead\n",
        "torch.manual_seed(42)\n",
        "\n",
        "# define our model using StepByStep framework by Daniel Voigt Godoy\n",
        "# https://pytorchstepbystep.com/ \n",
        "model = nn.Sequential(\n",
        "    nn.Linear(768, 1) \n",
        ")\n",
        "loss_fn = nn.BCEWithLogitsLoss()\n",
        "optimizer = optim.Adam(model.parameters(), lr=0.01)\n",
        "\n",
        "\n",
        "# get details about the model\n",
        "def count_all_parameters(model):\n",
        "    return sum(p.numel() for p in model.parameters())\n",
        "def count_trainable_parameters(model):\n",
        "    return sum(p.numel() for p in model.parameters() if p.requires_grad)\n",
        "num_params = count_all_parameters(model)\n",
        "num_params_train = count_trainable_parameters(model)\n",
        "print(model)\n",
        "print(num_params, \"total params\")\n",
        "print(num_params_train, \"trainable params\")"
      ],
      "metadata": {
        "colab": {
          "base_uri": "https://localhost:8080/"
        },
        "id": "gGIKRFVni176",
        "outputId": "39869986-7e65-4f5a-f7c4-ad73dccfd3a0"
      },
      "execution_count": 11,
      "outputs": [
        {
          "output_type": "stream",
          "name": "stdout",
          "text": [
            "Sequential(\n",
            "  (0): Linear(in_features=768, out_features=1, bias=True)\n",
            ")\n",
            "769 total params\n",
            "769 trainable params\n"
          ]
        }
      ]
    },
    {
      "cell_type": "code",
      "source": [
        "###############################################################################################\n",
        "# train the model - only takes about 10s for 20 epochs, 1m for 100 epochs\n",
        "sbs_oh = StepByStep(model, loss_fn, optimizer)\n",
        "sbs_oh.set_loaders(train_loader, val_loader)\n",
        "sbs_oh.train(1000)\n",
        "\n",
        "# plot loss over epochs\n",
        "fig = sbs_oh.plot_losses()"
      ],
      "metadata": {
        "colab": {
          "base_uri": "https://localhost:8080/",
          "height": 289
        },
        "id": "7etubDytXVgq",
        "outputId": "14c3d0b8-739e-4b51-9e40-cd5e867916f6"
      },
      "execution_count": 14,
      "outputs": [
        {
          "output_type": "display_data",
          "data": {
            "image/png": "[encoded data removed]",
            "text/plain": [
              "<Figure size 720x288 with 1 Axes>"
            ]
          },
          "metadata": {}
        }
      ]
    },
    {
      "cell_type": "code",
      "source": [
        "##############################################################\n",
        "# how well does this model do with data it has never seen?\n",
        "sbs_oh.model.eval()\n",
        "out = sbs_oh.model(test_features_tensor)\n",
        "\n",
        "# record detailed predictions for this model\n",
        "df_experiment_results = pd.DataFrame({'method': test_input_method,\n",
        "                                      'params': num_params,\n",
        "                                      'params_train': num_params_train, \n",
        "                                      'msg_id': df_test['msg_id'],\n",
        "                                      'label': df_test['label'],\n",
        "                                      'p_sigmoid': torch.sigmoid(out).squeeze().tolist()}) \n",
        "df_experiment_results['pred'] = np.where(df_experiment_results['p_sigmoid']>0.5, 1, 0)\n",
        "df_experiment_results['correct'] = np.where(df_experiment_results['pred']==df_experiment_results['label'], 1, 0)\n",
        "df_experiment_results['tp'] = np.where((df_experiment_results['pred']==1) & (df_experiment_results['label']==1), 1, 0)\n",
        "df_experiment_results['fp'] = np.where((df_experiment_results['pred']==1) & (df_experiment_results['label']==0), 1, 0)\n",
        "df_experiment_results['tn'] = np.where((df_experiment_results['pred']==0) & (df_experiment_results['label']==0), 1, 0)\n",
        "df_experiment_results['fn'] = np.where((df_experiment_results['pred']==0) & (df_experiment_results['label']==1), 1, 0)\n",
        "\n",
        "# calculate metrics\n",
        "tp = df_experiment_results[\"tp\"].sum()\n",
        "fp = df_experiment_results[\"fp\"].sum()\n",
        "tn = df_experiment_results[\"tn\"].sum()\n",
        "fn = df_experiment_results[\"fn\"].sum()\n",
        "prec = tp/(tp+fp)\n",
        "recall = tp/(tp+fn)\n",
        "\n",
        "# show our metrics\n",
        "print(\"ACC: \",df_experiment_results[\"correct\"].mean())\n",
        "print(\"Precision: \",prec)\n",
        "print(\"Recall: \", recall)\n",
        "\n",
        "# save results to local CSV\n",
        "file_name = 'results_'+test_input_method+'.csv'\n",
        "df_experiment_results.to_csv(file_name, index=False) \n",
        "files.download(file_name)\n",
        "print(\"\\n\\n\",df_experiment_results.head(10))"
      ],
      "metadata": {
        "id": "dhpYKa2cZOc8",
        "colab": {
          "base_uri": "https://localhost:8080/",
          "height": 517
        },
        "outputId": "ce71d7d0-c901-400f-b493-0fc1a37d8d81"
      },
      "execution_count": 15,
      "outputs": [
        {
          "output_type": "stream",
          "name": "stdout",
          "text": [
            "ACC:  0.9545\n",
            "Precision:  0.954045954045954\n",
            "Recall:  0.955\n"
          ]
        },
        {
          "output_type": "display_data",
          "data": {
            "application/javascript": [
              "\n",
              "    async function download(id, filename, size) {\n",
              "      if (!google.colab.kernel.accessAllowed) {\n",
              "        return;\n",
              "      }\n",
              "      const div = document.createElement('div');\n",
              "      const label = document.createElement('label');\n",
              "      label.textContent = `Downloading \"${filename}\": `;\n",
              "      div.appendChild(label);\n",
              "      const progress = document.createElement('progress');\n",
              "      progress.max = size;\n",
              "      div.appendChild(progress);\n",
              "      document.body.appendChild(div);\n",
              "\n",
              "      const buffers = [];\n",
              "      let downloaded = 0;\n",
              "\n",
              "      const channel = await google.colab.kernel.comms.open(id);\n",
              "      // Send a message to notify the kernel that we're ready.\n",
              "      channel.send({})\n",
              "\n",
              "      for await (const message of channel.messages) {\n",
              "        // Send a message to notify the kernel that we're ready.\n",
              "        channel.send({})\n",
              "        if (message.buffers) {\n",
              "          for (const buffer of message.buffers) {\n",
              "            buffers.push(buffer);\n",
              "            downloaded += buffer.byteLength;\n",
              "            progress.value = downloaded;\n",
              "          }\n",
              "        }\n",
              "      }\n",
              "      const blob = new Blob(buffers, {type: 'application/binary'});\n",
              "      const a = document.createElement('a');\n",
              "      a.href = window.URL.createObjectURL(blob);\n",
              "      a.download = filename;\n",
              "      div.appendChild(a);\n",
              "      a.click();\n",
              "      div.remove();\n",
              "    }\n",
              "  "
            ],
            "text/plain": [
              "<IPython.core.display.Javascript object>"
            ]
          },
          "metadata": {}
        },
        {
          "output_type": "display_data",
          "data": {
            "application/javascript": [
              "download(\"download_fb49c8ba-431c-48c0-ac1a-b34b8f4ddf09\", \"results_custom (768).csv\", 121824)"
            ],
            "text/plain": [
              "<IPython.core.display.Javascript object>"
            ]
          },
          "metadata": {}
        },
        {
          "output_type": "stream",
          "name": "stdout",
          "text": [
            "\n",
            "\n",
            "           method  params  params_train  msg_id  label  p_sigmoid  pred  \\\n",
            "2   custom (768)     769           769    8351      0   0.000049     0   \n",
            "4   custom (768)     769           769   24419      1   0.964091     1   \n",
            "8   custom (768)     769           769    2467      0   0.001703     0   \n",
            "10  custom (768)     769           769   27047      1   0.928240     1   \n",
            "13  custom (768)     769           769   21885      1   0.998847     1   \n",
            "19  custom (768)     769           769   47229      1   0.999995     1   \n",
            "21  custom (768)     769           769    9824      0   0.001076     0   \n",
            "25  custom (768)     769           769   12091      0   0.032296     0   \n",
            "28  custom (768)     769           769   41573      1   0.987460     1   \n",
            "30  custom (768)     769           769   27417      1   0.999954     1   \n",
            "\n",
            "    correct  tp  fp  tn  fn  \n",
            "2         1   0   0   1   0  \n",
            "4         1   1   0   0   0  \n",
            "8         1   0   0   1   0  \n",
            "10        1   1   0   0   0  \n",
            "13        1   1   0   0   0  \n",
            "19        1   1   0   0   0  \n",
            "21        1   0   0   1   0  \n",
            "25        1   0   0   1   0  \n",
            "28        1   1   0   0   0  \n",
            "30        1   1   0   0   0  \n"
          ]
        }
      ]
    }
  ]
}