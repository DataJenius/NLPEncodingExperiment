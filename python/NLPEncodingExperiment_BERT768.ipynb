{
  "nbformat": 4,
  "nbformat_minor": 0,
  "metadata": {
    "colab": {
      "name": "NLPEncodingExperiment_BERT768.ipynb",
      "provenance": [],
      "machine_shape": "hm",
      "include_colab_link": true
    },
    "kernelspec": {
      "name": "python3",
      "display_name": "Python 3"
    },
    "language_info": {
      "name": "python"
    }
  },
  "cells": [
    {
      "cell_type": "markdown",
      "metadata": {
        "id": "view-in-github",
        "colab_type": "text"
      },
      "source": [
        "<a href=\"https://colab.research.google.com/github/DataJenius/NLPEncodingExperiment/blob/main/python/NLPEncodingExperiment_BERT768.ipynb\" target=\"_parent\"><img src=\"https://colab.research.google.com/assets/colab-badge.svg\" alt=\"Open In Colab\"/></a>"
      ]
    },
    {
      "cell_type": "code",
      "source": [
        "#######################################################################################################\n",
        "# define our model using StepByStep framework by Daniel Voigt Godoy\n",
        "# https://pytorchstepbystep.com/\n",
        "try:\n",
        "    import google.colab\n",
        "    import requests\n",
        "    url = 'https://raw.githubusercontent.com/dvgodoy/PyTorchStepByStep/master/config.py'\n",
        "    r = requests.get(url, allow_redirects=True)\n",
        "    open('config.py', 'wb').write(r.content)    \n",
        "except ModuleNotFoundError:\n",
        "    pass\n",
        "\n",
        "from config import *\n",
        "config_chapter11()"
      ],
      "metadata": {
        "colab": {
          "base_uri": "https://localhost:8080/"
        },
        "id": "EjcdrThgk6qX",
        "outputId": "55c8d1c4-e5a2-4eaa-fa94-6ecf87edbde8"
      },
      "execution_count": 1,
      "outputs": [
        {
          "output_type": "stream",
          "name": "stdout",
          "text": [
            "Downloading files from GitHub repo to Colab...\n",
            "Finished!\n"
          ]
        }
      ]
    },
    {
      "cell_type": "code",
      "source": [
        "###########################################\n",
        "# load all dependencies\n",
        "import pandas as pd\n",
        "import numpy as np\n",
        "\n",
        "import torch\n",
        "import torch.optim as optim\n",
        "import torch.nn as nn\n",
        "import torch.functional as F\n",
        "from torch.utils.data import DataLoader, TensorDataset\n",
        "\n",
        "from stepbystep.v4 import StepByStep\n",
        "\n",
        "from google.colab import files"
      ],
      "metadata": {
        "id": "ycfO9KuqXsLv"
      },
      "execution_count": 2,
      "outputs": []
    },
    {
      "cell_type": "code",
      "source": [
        "######################################################################################\n",
        "# our one-hot encoded data is on github\n",
        "\n",
        "\n",
        "# not fine-tuned -- 85.25% acc w/ lr=0.00001 for 100 epochs\n",
        "#                -- 90.20% acc w/ lr=0.00001 for 1000 epochs\n",
        "#                -- **90.85% acc w/ lr=0.0003 for 100 epochs\n",
        "#                -- 90.35% acc w/ lr=0.0003 for 1000 epochs\n",
        "all_files = ['https://raw.githubusercontent.com/DataJenius/NLPEncodingExperiment/main/data/input/bert_pt_768/bert_pt_encoded768_group1A.csv',\n",
        "             'https://raw.githubusercontent.com/DataJenius/NLPEncodingExperiment/main/data/input/bert_pt_768/bert_pt_encoded768_group1B.csv',\n",
        "             'https://raw.githubusercontent.com/DataJenius/NLPEncodingExperiment/main/data/input/bert_pt_768/bert_pt_encoded768_group2A.csv',\n",
        "             'https://raw.githubusercontent.com/DataJenius/NLPEncodingExperiment/main/data/input/bert_pt_768/bert_pt_encoded768_group2B.csv',\n",
        "             'https://raw.githubusercontent.com/DataJenius/NLPEncodingExperiment/main/data/input/bert_pt_768/bert_pt_encoded768_group3A.csv',\n",
        "             'https://raw.githubusercontent.com/DataJenius/NLPEncodingExperiment/main/data/input/bert_pt_768/bert_pt_encoded768_group3B.csv',\n",
        "             'https://raw.githubusercontent.com/DataJenius/NLPEncodingExperiment/main/data/input/bert_pt_768/bert_pt_encoded768_group4A.csv',\n",
        "             'https://raw.githubusercontent.com/DataJenius/NLPEncodingExperiment/main/data/input/bert_pt_768/bert_pt_encoded768_group4B.csv',\n",
        "             'https://raw.githubusercontent.com/DataJenius/NLPEncodingExperiment/main/data/input/bert_pt_768/bert_pt_encoded768_group5A.csv',\n",
        "             'https://raw.githubusercontent.com/DataJenius/NLPEncodingExperiment/main/data/input/bert_pt_768/bert_pt_encoded768_group5B.csv']\n",
        "\n",
        "\n",
        "\n",
        "\"\"\"\n",
        "# fine-tuned for 1 epoch -- **96.40% acc w/ lr=0.00001 for 100 epochs\n",
        "#                        -- 96.40% acc w/ lr=0.00001 for 1000 epochs\n",
        "#                        -- 96.00% acc w/ lr=0.0003 for 100 epochs\n",
        "#                        -- 96.05% acc w/ lr=0.0003 for 1000 epochs\n",
        "all_files = ['https://raw.githubusercontent.com/DataJenius/NLPEncodingExperiment/main/data/input/bert_ft_768/bert_ft_encoded768_group1A.csv',\n",
        "             'https://raw.githubusercontent.com/DataJenius/NLPEncodingExperiment/main/data/input/bert_ft_768/bert_ft_encoded768_group1B.csv',\n",
        "             'https://raw.githubusercontent.com/DataJenius/NLPEncodingExperiment/main/data/input/bert_ft_768/bert_ft_encoded768_group2A.csv',\n",
        "             'https://raw.githubusercontent.com/DataJenius/NLPEncodingExperiment/main/data/input/bert_ft_768/bert_ft_encoded768_group2B.csv',\n",
        "             'https://raw.githubusercontent.com/DataJenius/NLPEncodingExperiment/main/data/input/bert_ft_768/bert_ft_encoded768_group3A.csv',\n",
        "             'https://raw.githubusercontent.com/DataJenius/NLPEncodingExperiment/main/data/input/bert_ft_768/bert_ft_encoded768_group3B.csv',\n",
        "             'https://raw.githubusercontent.com/DataJenius/NLPEncodingExperiment/main/data/input/bert_ft_768/bert_ft_encoded768_group4A.csv',\n",
        "             'https://raw.githubusercontent.com/DataJenius/NLPEncodingExperiment/main/data/input/bert_ft_768/bert_ft_encoded768_group4B.csv',\n",
        "             'https://raw.githubusercontent.com/DataJenius/NLPEncodingExperiment/main/data/input/bert_ft_768/bert_ft_encoded768_group5A.csv',\n",
        "             'https://raw.githubusercontent.com/DataJenius/NLPEncodingExperiment/main/data/input/bert_ft_768/bert_ft_encoded768_group5B.csv']\n",
        "\"\"\"\n",
        "\n",
        "# concat into a single dataframe and shuffle the contents\n",
        "df_from_each_file = (pd.read_csv(f) for f in all_files)\n",
        "df_all_data   = pd.concat(df_from_each_file, ignore_index=True)\n",
        "df_all_data = df_all_data.sample(frac=1).reset_index(drop=True)\n",
        "\n",
        "# make sure we loaded what we think we did\n",
        "print(df_all_data.head())\n",
        "print(df_all_data.shape)"
      ],
      "metadata": {
        "colab": {
          "base_uri": "https://localhost:8080/"
        },
        "id": "5Mz2-FHvWZQV",
        "outputId": "2c7c9d72-0e92-48bc-b55d-7ae1922011e4"
      },
      "execution_count": 3,
      "outputs": [
        {
          "output_type": "stream",
          "name": "stdout",
          "text": [
            "   msg_id  token_count  my_group   my_role  label      dim1      dim2  \\\n",
            "0   28065           17         1     train      1 -0.086683  0.081062   \n",
            "1   42623           31         2     train      1 -0.154775 -0.201269   \n",
            "2   22517           18         1     train      1  0.579757 -0.032530   \n",
            "3    7661           13         3     train      0 -0.127773 -0.180833   \n",
            "4    7648           15         4  validate      0 -0.200779 -0.596134   \n",
            "\n",
            "       dim3      dim4      dim5  ...    dim759    dim760    dim761    dim762  \\\n",
            "0  0.316902 -0.045549 -0.889795  ... -0.020862 -0.293050  0.454042 -0.196788   \n",
            "1  0.090097 -0.090953 -0.361171  ... -0.303528 -0.395559 -0.010763 -0.284250   \n",
            "2  0.299202 -0.336104  0.284818  ... -0.099876 -0.124599  0.188591  0.280484   \n",
            "3  0.121066  0.022690 -0.438495  ... -0.007596 -0.267392  0.216044 -0.134502   \n",
            "4 -0.167284 -0.068784 -0.503931  ...  0.086082 -0.149133 -0.045888 -0.249256   \n",
            "\n",
            "     dim763    dim764    dim765    dim766    dim767    dim768  \n",
            "0 -0.180226  0.110070 -0.274218 -0.326672  0.453469  0.176390  \n",
            "1  0.204138  0.149512 -0.309558 -0.071731  0.372636  0.497027  \n",
            "2  0.237955  0.415865 -0.423206 -0.021853  0.490749  0.375751  \n",
            "3 -0.463161  0.223309 -0.191841 -0.373786  0.601518  0.366399  \n",
            "4 -0.206872  0.394063 -0.557930 -0.104770  0.914758  0.016422  \n",
            "\n",
            "[5 rows x 773 columns]\n",
            "(10000, 773)\n"
          ]
        }
      ]
    },
    {
      "cell_type": "code",
      "source": [
        "######################################################################################\n",
        "# our data is already split into 5 groups, encoded and fully labelled\n",
        "\n",
        "# setup this experiment\n",
        "test_input_method = 'BERTpt (768)'\n",
        "print(test_input_method+\" loading data...\")\n",
        "\n",
        "# split into val/test/train based on validation group \n",
        "df_train = df_all_data.loc[df_all_data['my_group'].isin([1,2,3])]\n",
        "df_val = df_all_data.loc[df_all_data['my_group'] == 4]\n",
        "df_test = df_all_data.loc[df_all_data['my_group'] == 5]\n",
        "\n",
        "print(\"\\n\\ntrain - groups \",df_train['my_group'].unique())\n",
        "print(df_train.head())\n",
        "print(\"\\n\\nval - group \",df_val['my_group'].unique())\n",
        "print(df_val.head())\n",
        "print(\"\\n\\ntest - group \",df_test['my_group'].unique())\n",
        "print(df_test.head())\n",
        "\n",
        "# extract our labels into tensors \n",
        "train_labels_tensor = torch.as_tensor(df_train['label'].to_numpy().reshape(-1, 1)).float()\n",
        "val_labels_tensor = torch.as_tensor(df_val['label'].to_numpy().reshape(-1, 1)).float()\n",
        "test_labels_tensor = torch.as_tensor(df_test['label'].to_numpy().reshape(-1, 1)).float()\n",
        "print(\"\\n\\nLabel Tensors:\")\n",
        "print(\"train - \",train_labels_tensor.shape)\n",
        "print(\"val - \",val_labels_tensor.shape)\n",
        "print(\"test - \",test_labels_tensor.shape)\n",
        "\n",
        "\n",
        "# extract our features into tensors \n",
        "df_train_features = df_train.loc[:, ~df_train.columns.isin(['msg_id','token_count','my_group','my_role','label'])]\n",
        "train_features_tensor = torch.as_tensor(df_train_features.to_numpy()).float()\n",
        "df_val_features = df_val.loc[:, ~df_val.columns.isin(['msg_id','token_count','my_group','my_role','label'])]\n",
        "val_features_tensor = torch.as_tensor(df_val_features.to_numpy()).float()\n",
        "df_test_features = df_test.loc[:, ~df_test.columns.isin(['msg_id','token_count','my_group','my_role','label'])]\n",
        "test_features_tensor = torch.as_tensor(df_test_features.to_numpy()).float()\n",
        "print(\"\\n\\nFeature Tensors:\")\n",
        "print(\"train - \",train_features_tensor.shape)\n",
        "print(\"val - \",val_features_tensor.shape)\n",
        "print(\"test - \",test_features_tensor.shape)\n"
      ],
      "metadata": {
        "colab": {
          "base_uri": "https://localhost:8080/"
        },
        "id": "RjoyDMOgYNCv",
        "outputId": "73a4198e-08cf-41b3-cb4b-948098ccb798"
      },
      "execution_count": 4,
      "outputs": [
        {
          "output_type": "stream",
          "name": "stdout",
          "text": [
            "BERTpt (768) loading data...\n",
            "\n",
            "\n",
            "train - groups  [1 2 3]\n",
            "   msg_id  token_count  my_group my_role  label      dim1      dim2      dim3  \\\n",
            "0   28065           17         1   train      1 -0.086683  0.081062  0.316902   \n",
            "1   42623           31         2   train      1 -0.154775 -0.201269  0.090097   \n",
            "2   22517           18         1   train      1  0.579757 -0.032530  0.299202   \n",
            "3    7661           13         3   train      0 -0.127773 -0.180833  0.121066   \n",
            "5    8928           16         3   train      0 -0.103650 -0.384550  0.161415   \n",
            "\n",
            "       dim4      dim5  ...    dim759    dim760    dim761    dim762    dim763  \\\n",
            "0 -0.045549 -0.889795  ... -0.020862 -0.293050  0.454042 -0.196788 -0.180226   \n",
            "1 -0.090953 -0.361171  ... -0.303528 -0.395559 -0.010763 -0.284250  0.204138   \n",
            "2 -0.336104  0.284818  ... -0.099876 -0.124599  0.188591  0.280484  0.237955   \n",
            "3  0.022690 -0.438495  ... -0.007596 -0.267392  0.216044 -0.134502 -0.463161   \n",
            "5 -0.183414 -0.271191  ... -0.205068 -0.218169  0.010011 -0.144788 -0.046275   \n",
            "\n",
            "     dim764    dim765    dim766    dim767    dim768  \n",
            "0  0.110070 -0.274218 -0.326672  0.453469  0.176390  \n",
            "1  0.149512 -0.309558 -0.071731  0.372636  0.497027  \n",
            "2  0.415865 -0.423206 -0.021853  0.490749  0.375751  \n",
            "3  0.223309 -0.191841 -0.373786  0.601518  0.366399  \n",
            "5  0.196951 -0.021222 -0.442410  0.663620 -0.004640  \n",
            "\n",
            "[5 rows x 773 columns]\n",
            "\n",
            "\n",
            "val - group  [4]\n",
            "    msg_id  token_count  my_group   my_role  label      dim1      dim2  \\\n",
            "4     7648           15         4  validate      0 -0.200779 -0.596134   \n",
            "8    13651           19         4  validate      0 -0.086493  0.020683   \n",
            "10   46612           13         4  validate      1 -0.415641 -0.622494   \n",
            "14   17956           17         4  validate      0  0.351992 -0.245783   \n",
            "23   41612           19         4  validate      1  0.018173 -0.397680   \n",
            "\n",
            "        dim3      dim4      dim5  ...    dim759    dim760    dim761    dim762  \\\n",
            "4  -0.167284 -0.068784 -0.503931  ...  0.086082 -0.149133 -0.045888 -0.249256   \n",
            "8   0.315206 -0.128379 -0.513113  ... -0.324785 -0.065137  0.285698 -0.170459   \n",
            "10  0.006816 -0.323212 -0.400927  ... -0.176207 -0.046841  0.274699 -0.175391   \n",
            "14  0.022822  0.202547 -0.803345  ... -0.133606 -0.406074 -0.058248 -0.403766   \n",
            "23  0.372674 -0.191187 -0.465778  ... -0.425714 -0.303673  0.045425 -0.335789   \n",
            "\n",
            "      dim763    dim764    dim765    dim766    dim767    dim768  \n",
            "4  -0.206872  0.394063 -0.557930 -0.104770  0.914758  0.016422  \n",
            "8   0.287599  0.040179 -0.731249 -0.181073  0.484472  0.378924  \n",
            "10 -0.089383  0.342999 -0.137466  0.149336  0.349708  0.251667  \n",
            "14  0.275886  0.344827  0.096265 -0.274145  0.552557  0.625975  \n",
            "23 -0.228297  0.360953 -0.039245 -0.093568  0.535139  0.747426  \n",
            "\n",
            "[5 rows x 773 columns]\n",
            "\n",
            "\n",
            "test - group  [5]\n",
            "    msg_id  token_count  my_group my_role  label      dim1      dim2  \\\n",
            "9    37008           20         5    test      1  0.105583  0.169103   \n",
            "11   23709           23         5    test      1 -0.071681  0.061595   \n",
            "16   12079           20         5    test      0  0.058887 -0.181279   \n",
            "17    5766           42         5    test      0  0.067508 -0.248411   \n",
            "28   32160           31         5    test      1  0.187849 -0.038956   \n",
            "\n",
            "        dim3      dim4      dim5  ...    dim759    dim760    dim761    dim762  \\\n",
            "9  -0.396065  0.048229 -0.601005  ... -0.127178 -0.476340  0.230044 -0.153200   \n",
            "11 -0.000969 -0.259878 -0.331591  ... -0.199021 -0.266676  0.271433 -0.017415   \n",
            "16  0.251419 -0.240003 -0.123224  ...  0.231673 -0.147271  0.326754 -0.547500   \n",
            "17  0.182735  0.150586 -0.463336  ...  0.025282 -0.262000  0.120031 -0.304243   \n",
            "28 -0.075617 -0.359176 -0.891483  ... -0.227747 -0.228495 -0.060431 -0.267274   \n",
            "\n",
            "      dim763    dim764    dim765    dim766    dim767    dim768  \n",
            "9  -0.399749  0.229030 -0.313709  0.149506  0.440249  0.729818  \n",
            "11 -0.196840  0.306117 -0.280347 -0.335419  0.787392  0.677136  \n",
            "16  0.299167 -0.075611 -0.457179 -0.242074  0.779226  0.422927  \n",
            "17 -0.115914  0.231681 -0.129141 -0.047322  0.736202  0.370968  \n",
            "28  0.106396  0.208149 -0.110098 -0.250047  0.632927  0.395061  \n",
            "\n",
            "[5 rows x 773 columns]\n",
            "\n",
            "\n",
            "Label Tensors:\n",
            "train -  torch.Size([6000, 1])\n",
            "val -  torch.Size([2000, 1])\n",
            "test -  torch.Size([2000, 1])\n",
            "\n",
            "\n",
            "Feature Tensors:\n",
            "train -  torch.Size([6000, 768])\n",
            "val -  torch.Size([2000, 768])\n",
            "test -  torch.Size([2000, 768])\n"
          ]
        }
      ]
    },
    {
      "cell_type": "code",
      "source": [
        "######################################################################################\n",
        "# build a TensorDataset containing ALL data points for train/val\n",
        "train_dataset = TensorDataset(train_features_tensor, train_labels_tensor)\n",
        "val_dataset = TensorDataset(val_features_tensor, val_labels_tensor)\n",
        "\n",
        "# build a loader of each set\n",
        "train_loader = DataLoader(dataset=train_dataset, batch_size=32, shuffle=True)\n",
        "val_loader = DataLoader(dataset=val_dataset, batch_size=32)\n",
        "print(train_loader)\n",
        "print(val_loader)"
      ],
      "metadata": {
        "colab": {
          "base_uri": "https://localhost:8080/"
        },
        "id": "XsuxLdyKgV66",
        "outputId": "2b6c8902-be3e-42f1-e4d2-925879a03c5a"
      },
      "execution_count": 5,
      "outputs": [
        {
          "output_type": "stream",
          "name": "stdout",
          "text": [
            "<torch.utils.data.dataloader.DataLoader object at 0x7f94b0035850>\n",
            "<torch.utils.data.dataloader.DataLoader object at 0x7f94b00352d0>\n"
          ]
        }
      ]
    },
    {
      "cell_type": "code",
      "source": [
        "###############################################################################################\n",
        "# use same model structure\n",
        "torch.manual_seed(43)\n",
        "\n",
        "# define our model using StepByStep framework by Daniel Voigt Godoy\n",
        "# https://pytorchstepbystep.com/ \n",
        "model = nn.Sequential(\n",
        "    nn.Linear(768, 1) \n",
        ")\n",
        "loss_fn = nn.BCEWithLogitsLoss()\n",
        "#optimizer = optim.Adam(model.parameters(), lr=0.00001)\n",
        "optimizer = optim.Adam(model.parameters(), lr=0.0003)\n",
        "#optimizer = optim.Adam(model.parameters(), lr=0.01)\n",
        "\n",
        "\n",
        "# get details about the model\n",
        "def count_all_parameters(model):\n",
        "    return sum(p.numel() for p in model.parameters())\n",
        "def count_trainable_parameters(model):\n",
        "    return sum(p.numel() for p in model.parameters() if p.requires_grad)\n",
        "num_params = count_all_parameters(model)\n",
        "num_params_train = count_trainable_parameters(model)\n",
        "print(model)\n",
        "print(num_params, \"total params\")\n",
        "print(num_params_train, \"trainable params\")"
      ],
      "metadata": {
        "colab": {
          "base_uri": "https://localhost:8080/"
        },
        "id": "gGIKRFVni176",
        "outputId": "c99a29cc-39c3-436f-955f-98f990d26e55"
      },
      "execution_count": 6,
      "outputs": [
        {
          "output_type": "stream",
          "name": "stdout",
          "text": [
            "Sequential(\n",
            "  (0): Linear(in_features=768, out_features=1, bias=True)\n",
            ")\n",
            "769 total params\n",
            "769 trainable params\n"
          ]
        }
      ]
    },
    {
      "cell_type": "code",
      "source": [
        "###############################################################################################\n",
        "# train the model - only takes about 10s for 20 epochs, 1m for 100 epochs\n",
        "sbs_oh = StepByStep(model, loss_fn, optimizer)\n",
        "sbs_oh.set_loaders(train_loader, val_loader)\n",
        "sbs_oh.train(100)\n",
        "\n",
        "# plot loss over epochs\n",
        "fig = sbs_oh.plot_losses()"
      ],
      "metadata": {
        "colab": {
          "base_uri": "https://localhost:8080/",
          "height": 289
        },
        "id": "7etubDytXVgq",
        "outputId": "03a5b25e-03fd-48a3-e605-69a71f37373c"
      },
      "execution_count": 7,
      "outputs": [
        {
          "output_type": "display_data",
          "data": {
            "image/png": "[encoded data removed]",
            "text/plain": [
              "<Figure size 720x288 with 1 Axes>"
            ]
          },
          "metadata": {}
        }
      ]
    },
    {
      "cell_type": "code",
      "source": [
        "##############################################################\n",
        "# how well does this model do with data it has never seen?\n",
        "sbs_oh.model.eval()\n",
        "out = sbs_oh.model(test_features_tensor)\n",
        "\n",
        "# record detailed predictions for this model\n",
        "df_experiment_results = pd.DataFrame({'method': test_input_method,\n",
        "                                      'params': num_params,\n",
        "                                      'params_train': num_params_train, \n",
        "                                      'msg_id': df_test['msg_id'],\n",
        "                                      'label': df_test['label'],\n",
        "                                      'p_sigmoid': torch.sigmoid(out).squeeze().tolist()}) \n",
        "df_experiment_results['pred'] = np.where(df_experiment_results['p_sigmoid']>0.5, 1, 0)\n",
        "df_experiment_results['correct'] = np.where(df_experiment_results['pred']==df_experiment_results['label'], 1, 0)\n",
        "df_experiment_results['tp'] = np.where((df_experiment_results['pred']==1) & (df_experiment_results['label']==1), 1, 0)\n",
        "df_experiment_results['fp'] = np.where((df_experiment_results['pred']==1) & (df_experiment_results['label']==0), 1, 0)\n",
        "df_experiment_results['tn'] = np.where((df_experiment_results['pred']==0) & (df_experiment_results['label']==0), 1, 0)\n",
        "df_experiment_results['fn'] = np.where((df_experiment_results['pred']==0) & (df_experiment_results['label']==1), 1, 0)\n",
        "\n",
        "# calculate metrics\n",
        "tp = df_experiment_results[\"tp\"].sum()\n",
        "fp = df_experiment_results[\"fp\"].sum()\n",
        "tn = df_experiment_results[\"tn\"].sum()\n",
        "fn = df_experiment_results[\"fn\"].sum()\n",
        "prec = tp/(tp+fp)\n",
        "recall = tp/(tp+fn)\n",
        "\n",
        "# show our metrics\n",
        "print(\"ACC: \",df_experiment_results[\"correct\"].mean())\n",
        "print(\"Precision: \",prec)\n",
        "print(\"Recall: \", recall)\n",
        "\n",
        "# save results to local CSV\n",
        "file_name = 'results_'+test_input_method+'.csv'\n",
        "df_experiment_results.to_csv(file_name, index=False) \n",
        "files.download(file_name)\n",
        "print(\"\\n\\n\",df_experiment_results.head(10))"
      ],
      "metadata": {
        "id": "dhpYKa2cZOc8",
        "colab": {
          "base_uri": "https://localhost:8080/",
          "height": 517
        },
        "outputId": "c26813be-a816-4d0e-be7d-5603b0ad85b1"
      },
      "execution_count": 8,
      "outputs": [
        {
          "output_type": "stream",
          "name": "stdout",
          "text": [
            "ACC:  0.9065\n",
            "Precision:  0.906093906093906\n",
            "Recall:  0.907\n"
          ]
        },
        {
          "output_type": "display_data",
          "data": {
            "application/javascript": [
              "\n",
              "    async function download(id, filename, size) {\n",
              "      if (!google.colab.kernel.accessAllowed) {\n",
              "        return;\n",
              "      }\n",
              "      const div = document.createElement('div');\n",
              "      const label = document.createElement('label');\n",
              "      label.textContent = `Downloading \"${filename}\": `;\n",
              "      div.appendChild(label);\n",
              "      const progress = document.createElement('progress');\n",
              "      progress.max = size;\n",
              "      div.appendChild(progress);\n",
              "      document.body.appendChild(div);\n",
              "\n",
              "      const buffers = [];\n",
              "      let downloaded = 0;\n",
              "\n",
              "      const channel = await google.colab.kernel.comms.open(id);\n",
              "      // Send a message to notify the kernel that we're ready.\n",
              "      channel.send({})\n",
              "\n",
              "      for await (const message of channel.messages) {\n",
              "        // Send a message to notify the kernel that we're ready.\n",
              "        channel.send({})\n",
              "        if (message.buffers) {\n",
              "          for (const buffer of message.buffers) {\n",
              "            buffers.push(buffer);\n",
              "            downloaded += buffer.byteLength;\n",
              "            progress.value = downloaded;\n",
              "          }\n",
              "        }\n",
              "      }\n",
              "      const blob = new Blob(buffers, {type: 'application/binary'});\n",
              "      const a = document.createElement('a');\n",
              "      a.href = window.URL.createObjectURL(blob);\n",
              "      a.download = filename;\n",
              "      div.appendChild(a);\n",
              "      a.click();\n",
              "      div.remove();\n",
              "    }\n",
              "  "
            ],
            "text/plain": [
              "<IPython.core.display.Javascript object>"
            ]
          },
          "metadata": {}
        },
        {
          "output_type": "display_data",
          "data": {
            "application/javascript": [
              "download(\"download_9045f814-ddf4-4cc3-ab19-18c6ad44a028\", \"results_BERTpt (768).csv\", 120889)"
            ],
            "text/plain": [
              "<IPython.core.display.Javascript object>"
            ]
          },
          "metadata": {}
        },
        {
          "output_type": "stream",
          "name": "stdout",
          "text": [
            "\n",
            "\n",
            "           method  params  params_train  msg_id  label  p_sigmoid  pred  \\\n",
            "9   BERTpt (768)     769           769   37008      1   0.995688     1   \n",
            "11  BERTpt (768)     769           769   23709      1   0.981768     1   \n",
            "16  BERTpt (768)     769           769   12079      0   0.048149     0   \n",
            "17  BERTpt (768)     769           769    5766      0   0.011947     0   \n",
            "28  BERTpt (768)     769           769   32160      1   0.993903     1   \n",
            "43  BERTpt (768)     769           769   39930      1   0.999966     1   \n",
            "47  BERTpt (768)     769           769   42541      1   0.297610     0   \n",
            "50  BERTpt (768)     769           769   27897      1   0.997701     1   \n",
            "56  BERTpt (768)     769           769   10145      0   0.032362     0   \n",
            "58  BERTpt (768)     769           769   25956      1   0.993631     1   \n",
            "\n",
            "    correct  tp  fp  tn  fn  \n",
            "9         1   1   0   0   0  \n",
            "11        1   1   0   0   0  \n",
            "16        1   0   0   1   0  \n",
            "17        1   0   0   1   0  \n",
            "28        1   1   0   0   0  \n",
            "43        1   1   0   0   0  \n",
            "47        0   0   0   0   1  \n",
            "50        1   1   0   0   0  \n",
            "56        1   0   0   1   0  \n",
            "58        1   1   0   0   0  \n"
          ]
        }
      ]
    }
  ]
}