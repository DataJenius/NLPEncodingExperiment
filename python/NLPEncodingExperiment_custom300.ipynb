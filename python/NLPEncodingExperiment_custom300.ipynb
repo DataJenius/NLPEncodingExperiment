{
  "nbformat": 4,
  "nbformat_minor": 0,
  "metadata": {
    "colab": {
      "name": "NLPEncodingExperiment_custom300.ipynb",
      "provenance": [],
      "machine_shape": "hm",
      "include_colab_link": true
    },
    "kernelspec": {
      "name": "python3",
      "display_name": "Python 3"
    },
    "language_info": {
      "name": "python"
    }
  },
  "cells": [
    {
      "cell_type": "markdown",
      "metadata": {
        "id": "view-in-github",
        "colab_type": "text"
      },
      "source": [
        "<a href=\"https://colab.research.google.com/github/DataJenius/NLPEncodingExperiment/blob/main/python/NLPEncodingExperiment_custom300.ipynb\" target=\"_parent\"><img src=\"https://colab.research.google.com/assets/colab-badge.svg\" alt=\"Open In Colab\"/></a>"
      ]
    },
    {
      "cell_type": "code",
      "source": [
        "#######################################################################################################\n",
        "# define our model using StepByStep framework by Daniel Voigt Godoy\n",
        "# https://pytorchstepbystep.com/\n",
        "try:\n",
        "    import google.colab\n",
        "    import requests\n",
        "    url = 'https://raw.githubusercontent.com/dvgodoy/PyTorchStepByStep/master/config.py'\n",
        "    r = requests.get(url, allow_redirects=True)\n",
        "    open('config.py', 'wb').write(r.content)    \n",
        "except ModuleNotFoundError:\n",
        "    pass\n",
        "\n",
        "from config import *\n",
        "config_chapter11()"
      ],
      "metadata": {
        "colab": {
          "base_uri": "https://localhost:8080/"
        },
        "id": "EjcdrThgk6qX",
        "outputId": "04bbff77-ee25-4a40-d66c-fbfb7305a243"
      },
      "execution_count": 1,
      "outputs": [
        {
          "output_type": "stream",
          "name": "stdout",
          "text": [
            "Downloading files from GitHub repo to Colab...\n",
            "Finished!\n"
          ]
        }
      ]
    },
    {
      "cell_type": "code",
      "source": [
        "###########################################\n",
        "# load all dependencies\n",
        "import pandas as pd\n",
        "import numpy as np\n",
        "\n",
        "import torch\n",
        "import torch.optim as optim\n",
        "import torch.nn as nn\n",
        "import torch.functional as F\n",
        "from torch.utils.data import DataLoader, TensorDataset\n",
        "\n",
        "from stepbystep.v4 import StepByStep\n",
        "\n",
        "from google.colab import files"
      ],
      "metadata": {
        "id": "ycfO9KuqXsLv"
      },
      "execution_count": 2,
      "outputs": []
    },
    {
      "cell_type": "code",
      "source": [
        "######################################################################################\n",
        "# our one-hot encoded data is on github\n",
        "all_files = ['https://raw.githubusercontent.com/DataJenius/NLPEncodingExperiment/main/data/input/custom300/custom_encoded300_group1.csv',\n",
        "             'https://raw.githubusercontent.com/DataJenius/NLPEncodingExperiment/main/data/input/custom300/custom_encoded300_group2.csv',\n",
        "             'https://raw.githubusercontent.com/DataJenius/NLPEncodingExperiment/main/data/input/custom300/custom_encoded300_group3.csv',\n",
        "             'https://raw.githubusercontent.com/DataJenius/NLPEncodingExperiment/main/data/input/custom300/custom_encoded300_group4.csv',\n",
        "             'https://raw.githubusercontent.com/DataJenius/NLPEncodingExperiment/main/data/input/custom300/custom_encoded300_group5.csv']\n",
        "# concat into a single dataframe and shuffle the contents\n",
        "df_from_each_file = (pd.read_csv(f) for f in all_files)\n",
        "df_all_data   = pd.concat(df_from_each_file, ignore_index=True)\n",
        "df_all_data = df_all_data.sample(frac=1).reset_index(drop=True)\n",
        "\n",
        "# make sure we loaded what we think we did\n",
        "print(df_all_data.head())\n",
        "print(df_all_data.shape)"
      ],
      "metadata": {
        "colab": {
          "base_uri": "https://localhost:8080/"
        },
        "id": "5Mz2-FHvWZQV",
        "outputId": "8230c0c9-f798-4494-da67-e73eb5d0406f"
      },
      "execution_count": 3,
      "outputs": [
        {
          "output_type": "stream",
          "name": "stdout",
          "text": [
            "   msg_id  token_count  my_group my_role  label      dim1      dim2      dim3  \\\n",
            "0   36445           34         2   train      1 -0.007334 -0.003302 -0.001949   \n",
            "1   11732           21         2   train      0 -0.008102 -0.000047  0.000267   \n",
            "2   36589          117         5    test      1 -0.008147 -0.004036 -0.000819   \n",
            "3   12409           15         3   train      0 -0.007888  0.001483 -0.001608   \n",
            "4   13643           20         1   train      0 -0.008315  0.000842  0.000948   \n",
            "\n",
            "       dim4      dim5  ...    dim291    dim292    dim293    dim294    dim295  \\\n",
            "0 -0.000612  0.001927  ... -0.004181  0.002530  0.001396 -0.005157 -0.001258   \n",
            "1  0.006182 -0.000217  ... -0.000039  0.000148  0.000163  0.000348  0.000659   \n",
            "2 -0.000930  0.001736  ... -0.000211 -0.000638 -0.000289 -0.000829 -0.000919   \n",
            "3  0.003176 -0.001640  ... -0.000032  0.001056  0.003402  0.005641 -0.002827   \n",
            "4  0.005558  0.000645  ...  0.000926 -0.000605  0.000411  0.000915 -0.000236   \n",
            "\n",
            "     dim296    dim297    dim298    dim299    dim300  \n",
            "0  0.000047 -0.001400 -0.000297  0.001755 -0.000397  \n",
            "1 -0.000557  0.000119  0.000816 -0.001513  0.000661  \n",
            "2  0.000088  0.000279  0.000094  0.000224 -0.000354  \n",
            "3  0.002748  0.000794 -0.000339  0.002386 -0.000470  \n",
            "4  0.000716 -0.000245 -0.000177  0.000276  0.000612  \n",
            "\n",
            "[5 rows x 305 columns]\n",
            "(10000, 305)\n"
          ]
        }
      ]
    },
    {
      "cell_type": "code",
      "source": [
        "######################################################################################\n",
        "# our data is already split into 5 groups, encoded and fully labelled\n",
        "\n",
        "# setup this experiment\n",
        "test_input_method = 'custom (300)'\n",
        "print(test_input_method+\" loading data...\")\n",
        "\n",
        "# split into val/test/train based on validation group \n",
        "df_train = df_all_data.loc[df_all_data['my_group'].isin([1,2,3])]\n",
        "df_val = df_all_data.loc[df_all_data['my_group'] == 4]\n",
        "df_test = df_all_data.loc[df_all_data['my_group'] == 5]\n",
        "\n",
        "print(\"\\n\\ntrain - groups \",df_train['my_group'].unique())\n",
        "print(df_train.head())\n",
        "print(\"\\n\\nval - group \",df_val['my_group'].unique())\n",
        "print(df_val.head())\n",
        "print(\"\\n\\ntest - group \",df_test['my_group'].unique())\n",
        "print(df_test.head())\n",
        "\n",
        "# extract our labels into tensors \n",
        "train_labels_tensor = torch.as_tensor(df_train['label'].to_numpy().reshape(-1, 1)).float()\n",
        "val_labels_tensor = torch.as_tensor(df_val['label'].to_numpy().reshape(-1, 1)).float()\n",
        "test_labels_tensor = torch.as_tensor(df_test['label'].to_numpy().reshape(-1, 1)).float()\n",
        "print(\"\\n\\nLabel Tensors:\")\n",
        "print(\"train - \",train_labels_tensor.shape)\n",
        "print(\"val - \",val_labels_tensor.shape)\n",
        "print(\"test - \",test_labels_tensor.shape)\n",
        "\n",
        "\n",
        "# extract our features into tensors \n",
        "df_train_features = df_train.loc[:, ~df_train.columns.isin(['msg_id','token_count','my_group','my_role','label'])]\n",
        "train_features_tensor = torch.as_tensor(df_train_features.to_numpy()).float()\n",
        "df_val_features = df_val.loc[:, ~df_val.columns.isin(['msg_id','token_count','my_group','my_role','label'])]\n",
        "val_features_tensor = torch.as_tensor(df_val_features.to_numpy()).float()\n",
        "df_test_features = df_test.loc[:, ~df_test.columns.isin(['msg_id','token_count','my_group','my_role','label'])]\n",
        "test_features_tensor = torch.as_tensor(df_test_features.to_numpy()).float()\n",
        "print(\"\\n\\nFeature Tensors:\")\n",
        "print(\"train - \",train_features_tensor.shape)\n",
        "print(\"val - \",val_features_tensor.shape)\n",
        "print(\"test - \",test_features_tensor.shape)\n"
      ],
      "metadata": {
        "colab": {
          "base_uri": "https://localhost:8080/"
        },
        "id": "RjoyDMOgYNCv",
        "outputId": "2f05cc22-7e69-41fb-cf07-a4b2f3431cbf"
      },
      "execution_count": 4,
      "outputs": [
        {
          "output_type": "stream",
          "name": "stdout",
          "text": [
            "custom (300) loading data...\n",
            "\n",
            "\n",
            "train - groups  [2 3 1]\n",
            "   msg_id  token_count  my_group my_role  label      dim1      dim2      dim3  \\\n",
            "0   36445           34         2   train      1 -0.007334 -0.003302 -0.001949   \n",
            "1   11732           21         2   train      0 -0.008102 -0.000047  0.000267   \n",
            "3   12409           15         3   train      0 -0.007888  0.001483 -0.001608   \n",
            "4   13643           20         1   train      0 -0.008315  0.000842  0.000948   \n",
            "5   44548           21         1   train      1 -0.007553 -0.005282 -0.000404   \n",
            "\n",
            "       dim4      dim5  ...    dim291    dim292    dim293    dim294    dim295  \\\n",
            "0 -0.000612  0.001927  ... -0.004181  0.002530  0.001396 -0.005157 -0.001258   \n",
            "1  0.006182 -0.000217  ... -0.000039  0.000148  0.000163  0.000348  0.000659   \n",
            "3  0.003176 -0.001640  ... -0.000032  0.001056  0.003402  0.005641 -0.002827   \n",
            "4  0.005558  0.000645  ...  0.000926 -0.000605  0.000411  0.000915 -0.000236   \n",
            "5 -0.000185 -0.000033  ... -0.000702  0.000468 -0.000291  0.000343  0.001088   \n",
            "\n",
            "     dim296    dim297    dim298    dim299    dim300  \n",
            "0  0.000047 -0.001400 -0.000297  0.001755 -0.000397  \n",
            "1 -0.000557  0.000119  0.000816 -0.001513  0.000661  \n",
            "3  0.002748  0.000794 -0.000339  0.002386 -0.000470  \n",
            "4  0.000716 -0.000245 -0.000177  0.000276  0.000612  \n",
            "5  0.001091 -0.000518 -0.000443 -0.000869  0.001308  \n",
            "\n",
            "[5 rows x 305 columns]\n",
            "\n",
            "\n",
            "val - group  [4]\n",
            "    msg_id  token_count  my_group   my_role  label      dim1      dim2  \\\n",
            "19   41793           16         4  validate      1 -0.007370 -0.002241   \n",
            "22   28972          184         4  validate      1 -0.008438 -0.004819   \n",
            "23    7175           24         4  validate      0 -0.008021 -0.001395   \n",
            "30    7110           13         4  validate      0 -0.008407  0.001749   \n",
            "31   40848           16         4  validate      1 -0.007910 -0.006657   \n",
            "\n",
            "        dim3      dim4      dim5  ...    dim291    dim292    dim293    dim294  \\\n",
            "19 -0.001037 -0.000106 -0.000489  ... -0.000116 -0.001180  0.001077  0.001606   \n",
            "22 -0.000158  0.001156  0.002416  ... -0.000710 -0.000126 -0.000850 -0.000470   \n",
            "23  0.000518  0.003429 -0.000535  ...  0.000554  0.000180 -0.000739  0.000537   \n",
            "30  0.001295  0.009038 -0.001034  ...  0.000073 -0.000171  0.000081  0.000322   \n",
            "31 -0.000487 -0.001608  0.003784  ... -0.000615  0.000286  0.001141  0.000832   \n",
            "\n",
            "      dim295    dim296    dim297    dim298    dim299    dim300  \n",
            "19 -0.000763 -0.000499 -0.000548  0.000407 -0.001681  0.001518  \n",
            "22 -0.000234 -0.000633  0.000243 -0.000445 -0.000043 -0.000978  \n",
            "23  0.000296  0.000101  0.000023 -0.000657 -0.001037  0.000254  \n",
            "30  0.001063  0.001090 -0.000382  0.000363 -0.000364 -0.000227  \n",
            "31 -0.000004 -0.000384 -0.000153 -0.000915 -0.000130 -0.000290  \n",
            "\n",
            "[5 rows x 305 columns]\n",
            "\n",
            "\n",
            "test - group  [5]\n",
            "    msg_id  token_count  my_group my_role  label      dim1      dim2  \\\n",
            "2    36589          117         5    test      1 -0.008147 -0.004036   \n",
            "7    26324           14         5    test      1 -0.008441 -0.003137   \n",
            "8     4337           73         5    test      0 -0.007888 -0.002267   \n",
            "10   20131           26         5    test      0 -0.008626 -0.000095   \n",
            "17   42817           16         5    test      1 -0.007461 -0.005076   \n",
            "\n",
            "        dim3      dim4      dim5  ...    dim291    dim292    dim293    dim294  \\\n",
            "2  -0.000819 -0.000930  0.001736  ... -0.000211 -0.000638 -0.000289 -0.000829   \n",
            "7  -0.000125  0.000973 -0.000748  ...  0.000624 -0.001868  0.000973  0.000765   \n",
            "8   0.000185  0.004075  0.000714  ... -0.001186  0.000266 -0.000035  0.001074   \n",
            "10 -0.000185  0.004283  0.000281  ...  0.000299  0.001212 -0.000232 -0.001013   \n",
            "17 -0.000419 -0.000393  0.001773  ...  0.001067 -0.000522 -0.001584 -0.000399   \n",
            "\n",
            "      dim295    dim296    dim297    dim298    dim299    dim300  \n",
            "2  -0.000919  0.000088  0.000279  0.000094  0.000224 -0.000354  \n",
            "7   0.001150 -0.000813 -0.000034 -0.000515 -0.001507  0.001581  \n",
            "8   0.000526  0.000709 -0.000231 -0.000341 -0.000097 -0.000717  \n",
            "10 -0.000264 -0.001001 -0.001478  0.000379 -0.001314  0.000987  \n",
            "17  0.000736  0.000323  0.000793 -0.000717 -0.001916  0.000421  \n",
            "\n",
            "[5 rows x 305 columns]\n",
            "\n",
            "\n",
            "Label Tensors:\n",
            "train -  torch.Size([6000, 1])\n",
            "val -  torch.Size([2000, 1])\n",
            "test -  torch.Size([2000, 1])\n",
            "\n",
            "\n",
            "Feature Tensors:\n",
            "train -  torch.Size([6000, 300])\n",
            "val -  torch.Size([2000, 300])\n",
            "test -  torch.Size([2000, 300])\n"
          ]
        }
      ]
    },
    {
      "cell_type": "code",
      "source": [
        "######################################################################################\n",
        "# build a TensorDataset containing ALL data points for train/val\n",
        "train_dataset = TensorDataset(train_features_tensor, train_labels_tensor)\n",
        "val_dataset = TensorDataset(val_features_tensor, val_labels_tensor)\n",
        "\n",
        "# build a loader of each set\n",
        "train_loader = DataLoader(dataset=train_dataset, batch_size=32, shuffle=True)\n",
        "val_loader = DataLoader(dataset=val_dataset, batch_size=32)\n",
        "print(train_loader)\n",
        "print(val_loader)"
      ],
      "metadata": {
        "colab": {
          "base_uri": "https://localhost:8080/"
        },
        "id": "XsuxLdyKgV66",
        "outputId": "80644387-af05-42c4-afb4-dea65d10a65b"
      },
      "execution_count": 5,
      "outputs": [
        {
          "output_type": "stream",
          "name": "stdout",
          "text": [
            "<torch.utils.data.dataloader.DataLoader object at 0x7f74bb583a90>\n",
            "<torch.utils.data.dataloader.DataLoader object at 0x7f74bb5831d0>\n"
          ]
        }
      ]
    },
    {
      "cell_type": "code",
      "source": [
        "###############################################################################################\n",
        "# use same model structure, just change embeddings into this one-hot input instead\n",
        "torch.manual_seed(42)\n",
        "\n",
        "# define our model using StepByStep framework by Daniel Voigt Godoy\n",
        "# https://pytorchstepbystep.com/ \n",
        "model = nn.Sequential(\n",
        "    nn.Linear(300, 1) \n",
        ")\n",
        "loss_fn = nn.BCEWithLogitsLoss()\n",
        "optimizer = optim.Adam(model.parameters(), lr=0.01)\n",
        "\n",
        "\n",
        "# get details about the model\n",
        "def count_all_parameters(model):\n",
        "    return sum(p.numel() for p in model.parameters())\n",
        "def count_trainable_parameters(model):\n",
        "    return sum(p.numel() for p in model.parameters() if p.requires_grad)\n",
        "num_params = count_all_parameters(model)\n",
        "num_params_train = count_trainable_parameters(model)\n",
        "print(model)\n",
        "print(num_params, \"total params\")\n",
        "print(num_params_train, \"trainable params\")"
      ],
      "metadata": {
        "colab": {
          "base_uri": "https://localhost:8080/"
        },
        "id": "gGIKRFVni176",
        "outputId": "a63a1262-a3ac-414a-f5fc-790f0569a957"
      },
      "execution_count": 6,
      "outputs": [
        {
          "output_type": "stream",
          "name": "stdout",
          "text": [
            "Sequential(\n",
            "  (0): Linear(in_features=300, out_features=1, bias=True)\n",
            ")\n",
            "301 total params\n",
            "301 trainable params\n"
          ]
        }
      ]
    },
    {
      "cell_type": "code",
      "source": [
        "###############################################################################################\n",
        "# train the model - only takes about 10s for 20 epochs, 1m for 100 epochs\n",
        "sbs_oh = StepByStep(model, loss_fn, optimizer)\n",
        "sbs_oh.set_loaders(train_loader, val_loader)\n",
        "sbs_oh.train(100)\n",
        "\n",
        "# plot loss over epochs\n",
        "fig = sbs_oh.plot_losses()"
      ],
      "metadata": {
        "colab": {
          "base_uri": "https://localhost:8080/",
          "height": 289
        },
        "id": "7etubDytXVgq",
        "outputId": "6a6e6d40-4f6d-40c9-fe1f-1214ad7cf279"
      },
      "execution_count": 9,
      "outputs": [
        {
          "output_type": "display_data",
          "data": {
            "image/png": "[encoded data removed]",
            "text/plain": [
              "<Figure size 720x288 with 1 Axes>"
            ]
          },
          "metadata": {}
        }
      ]
    },
    {
      "cell_type": "code",
      "source": [
        "##############################################################\n",
        "# how well does this model do with data it has never seen?\n",
        "sbs_oh.model.eval()\n",
        "out = sbs_oh.model(test_features_tensor)\n",
        "\n",
        "# record detailed predictions for this model\n",
        "df_experiment_results = pd.DataFrame({'method': test_input_method,\n",
        "                                      'params': num_params,\n",
        "                                      'params_train': num_params_train, \n",
        "                                      'msg_id': df_test['msg_id'],\n",
        "                                      'label': df_test['label'],\n",
        "                                      'p_sigmoid': torch.sigmoid(out).squeeze().tolist()}) \n",
        "df_experiment_results['pred'] = np.where(df_experiment_results['p_sigmoid']>0.5, 1, 0)\n",
        "df_experiment_results['correct'] = np.where(df_experiment_results['pred']==df_experiment_results['label'], 1, 0)\n",
        "df_experiment_results['tp'] = np.where((df_experiment_results['pred']==1) & (df_experiment_results['label']==1), 1, 0)\n",
        "df_experiment_results['fp'] = np.where((df_experiment_results['pred']==1) & (df_experiment_results['label']==0), 1, 0)\n",
        "df_experiment_results['tn'] = np.where((df_experiment_results['pred']==0) & (df_experiment_results['label']==0), 1, 0)\n",
        "df_experiment_results['fn'] = np.where((df_experiment_results['pred']==0) & (df_experiment_results['label']==1), 1, 0)\n",
        "\n",
        "# calculate metrics\n",
        "tp = df_experiment_results[\"tp\"].sum()\n",
        "fp = df_experiment_results[\"fp\"].sum()\n",
        "tn = df_experiment_results[\"tn\"].sum()\n",
        "fn = df_experiment_results[\"fn\"].sum()\n",
        "prec = tp/(tp+fp)\n",
        "recall = tp/(tp+fn)\n",
        "\n",
        "# show our metrics\n",
        "print(\"ACC: \",df_experiment_results[\"correct\"].mean())\n",
        "print(\"Precision: \",prec)\n",
        "print(\"Recall: \", recall)\n",
        "\n",
        "# save results to local CSV\n",
        "file_name = 'results_'+test_input_method+'.csv'\n",
        "df_experiment_results.to_csv(file_name, index=False) \n",
        "files.download(file_name)\n",
        "print(\"\\n\\n\",df_experiment_results.head(10))"
      ],
      "metadata": {
        "id": "dhpYKa2cZOc8",
        "colab": {
          "base_uri": "https://localhost:8080/",
          "height": 517
        },
        "outputId": "5845ab6c-3f07-4965-fd54-9cc2ddf066ca"
      },
      "execution_count": 10,
      "outputs": [
        {
          "output_type": "stream",
          "name": "stdout",
          "text": [
            "ACC:  0.9575\n",
            "Precision:  0.9597989949748744\n",
            "Recall:  0.955\n"
          ]
        },
        {
          "output_type": "display_data",
          "data": {
            "application/javascript": [
              "\n",
              "    async function download(id, filename, size) {\n",
              "      if (!google.colab.kernel.accessAllowed) {\n",
              "        return;\n",
              "      }\n",
              "      const div = document.createElement('div');\n",
              "      const label = document.createElement('label');\n",
              "      label.textContent = `Downloading \"${filename}\": `;\n",
              "      div.appendChild(label);\n",
              "      const progress = document.createElement('progress');\n",
              "      progress.max = size;\n",
              "      div.appendChild(progress);\n",
              "      document.body.appendChild(div);\n",
              "\n",
              "      const buffers = [];\n",
              "      let downloaded = 0;\n",
              "\n",
              "      const channel = await google.colab.kernel.comms.open(id);\n",
              "      // Send a message to notify the kernel that we're ready.\n",
              "      channel.send({})\n",
              "\n",
              "      for await (const message of channel.messages) {\n",
              "        // Send a message to notify the kernel that we're ready.\n",
              "        channel.send({})\n",
              "        if (message.buffers) {\n",
              "          for (const buffer of message.buffers) {\n",
              "            buffers.push(buffer);\n",
              "            downloaded += buffer.byteLength;\n",
              "            progress.value = downloaded;\n",
              "          }\n",
              "        }\n",
              "      }\n",
              "      const blob = new Blob(buffers, {type: 'application/binary'});\n",
              "      const a = document.createElement('a');\n",
              "      a.href = window.URL.createObjectURL(blob);\n",
              "      a.download = filename;\n",
              "      div.appendChild(a);\n",
              "      a.click();\n",
              "      div.remove();\n",
              "    }\n",
              "  "
            ],
            "text/plain": [
              "<IPython.core.display.Javascript object>"
            ]
          },
          "metadata": {}
        },
        {
          "output_type": "display_data",
          "data": {
            "application/javascript": [
              "download(\"download_685d48f2-71fd-4be5-b26c-f25d3310dccc\", \"results_custom (300).csv\", 121651)"
            ],
            "text/plain": [
              "<IPython.core.display.Javascript object>"
            ]
          },
          "metadata": {}
        },
        {
          "output_type": "stream",
          "name": "stdout",
          "text": [
            "\n",
            "\n",
            "           method  params  params_train  msg_id  label  p_sigmoid  pred  \\\n",
            "2   custom (300)     301           301   36589      1   0.985780     1   \n",
            "7   custom (300)     301           301   26324      1   0.812046     1   \n",
            "8   custom (300)     301           301    4337      0   0.264208     0   \n",
            "10  custom (300)     301           301   20131      0   0.000960     0   \n",
            "17  custom (300)     301           301   42817      1   0.995681     1   \n",
            "20  custom (300)     301           301   18236      0   0.002434     0   \n",
            "21  custom (300)     301           301   42413      1   0.341046     0   \n",
            "28  custom (300)     301           301   13340      0   0.034147     0   \n",
            "29  custom (300)     301           301   11306      0   0.002615     0   \n",
            "38  custom (300)     301           301   24550      1   0.999928     1   \n",
            "\n",
            "    correct  tp  fp  tn  fn  \n",
            "2         1   1   0   0   0  \n",
            "7         1   1   0   0   0  \n",
            "8         1   0   0   1   0  \n",
            "10        1   0   0   1   0  \n",
            "17        1   1   0   0   0  \n",
            "20        1   0   0   1   0  \n",
            "21        0   0   0   0   1  \n",
            "28        1   0   0   1   0  \n",
            "29        1   0   0   1   0  \n",
            "38        1   1   0   0   0  \n"
          ]
        }
      ]
    }
  ]
}